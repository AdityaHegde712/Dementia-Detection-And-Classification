{
 "cells": [
  {
   "cell_type": "code",
   "execution_count": 1,
   "metadata": {},
   "outputs": [],
   "source": [
    "import pandas as pd\n",
    "import numpy as np\n",
    "from sklearn.model_selection import train_test_split\n",
    "from sklearn.preprocessing import StandardScaler\n",
    "from keras.models import Sequential\n",
    "from keras.layers import Input, Dense\n",
    "import tensorflow as tf\n",
    "from keras.callbacks import EarlyStopping"
   ]
  },
  {
   "cell_type": "code",
   "execution_count": 21,
   "metadata": {},
   "outputs": [
    {
     "name": "stdout",
     "output_type": "stream",
     "text": [
      "<class 'pandas.core.frame.DataFrame'>\n",
      "RangeIndex: 1158 entries, 0 to 1157\n",
      "Data columns (total 11 columns):\n",
      " #   Column      Non-Null Count  Dtype  \n",
      "---  ------      --------------  -----  \n",
      " 0   oasis_id    1158 non-null   object \n",
      " 1   cdr_id      1158 non-null   object \n",
      " 2   visit_days  1158 non-null   int64  \n",
      " 3   memory      1127 non-null   float64\n",
      " 4   orient      1123 non-null   float64\n",
      " 5   judgement   1124 non-null   float64\n",
      " 6   community   1126 non-null   float64\n",
      " 7   homehobb    1126 non-null   float64\n",
      " 8   perscare    1121 non-null   float64\n",
      " 9   sumbox      1116 non-null   float64\n",
      " 10  cdr         1148 non-null   float64\n",
      "dtypes: float64(8), int64(1), object(2)\n",
      "memory usage: 99.6+ KB\n"
     ]
    }
   ],
   "source": [
    "# Load your CSV data\n",
    "df = pd.read_csv(\"OASIS4_data_CDR.csv\")\n",
    "df.info()\n",
    "\n",
    "df = df.drop(['oasis_id', 'cdr_id'], axis=1)\n",
    "# Remove rows with missing values\n",
    "df = df.dropna()"
   ]
  },
  {
   "cell_type": "code",
   "execution_count": 8,
   "metadata": {},
   "outputs": [
    {
     "data": {
      "text/plain": [
       "cdr\n",
       "0.5    622\n",
       "1.0    288\n",
       "0.0    102\n",
       "2.0     92\n",
       "3.0      2\n",
       "Name: count, dtype: int64"
      ]
     },
     "execution_count": 8,
     "metadata": {},
     "output_type": "execute_result"
    }
   ],
   "source": [
    "df['cdr'].value_counts()"
   ]
  },
  {
   "cell_type": "code",
   "execution_count": 10,
   "metadata": {},
   "outputs": [],
   "source": [
    "df.loc[df['cdr'] <= 0.5, 'cdr'] = 0\n",
    "df.loc[df['cdr'] > 0.5, 'cdr'] = 1\n"
   ]
  },
  {
   "cell_type": "code",
   "execution_count": 11,
   "metadata": {},
   "outputs": [],
   "source": [
    "# Split the data into features (x) and the target (y)\n",
    "x = df.drop('cdr', axis=1)\n",
    "y = df['cdr']"
   ]
  },
  {
   "cell_type": "code",
   "execution_count": 12,
   "metadata": {},
   "outputs": [],
   "source": [
    "# Standardize the input features\n",
    "scaler = StandardScaler()\n",
    "x = scaler.fit_transform(x)\n",
    "\n",
    "# One-hot encode the target variable\n",
    "y = pd.get_dummies(y)\n",
    "\n",
    "# Split the data into training and testing sets\n",
    "x_train, x_test, y_train, y_test = train_test_split(x, y, test_size=0.2, random_state=42)\n",
    "\n",
    "seed = 42\n",
    "tf.random.set_seed(seed)\n",
    "np.random.seed(seed)"
   ]
  },
  {
   "cell_type": "code",
   "execution_count": 13,
   "metadata": {},
   "outputs": [
    {
     "name": "stdout",
     "output_type": "stream",
     "text": [
      "Model: \"sequential\"\n",
      "_________________________________________________________________\n",
      " Layer (type)                Output Shape              Param #   \n",
      "=================================================================\n",
      " dense (Dense)               (None, 32)                288       \n",
      "                                                                 \n",
      " dense_1 (Dense)             (None, 16)                528       \n",
      "                                                                 \n",
      " dense_2 (Dense)             (None, 2)                 34        \n",
      "                                                                 \n",
      "=================================================================\n",
      "Total params: 850 (3.32 KB)\n",
      "Trainable params: 850 (3.32 KB)\n",
      "Non-trainable params: 0 (0.00 Byte)\n",
      "_________________________________________________________________\n",
      "None\n",
      "Epoch 1/100\n",
      "28/28 [==============================] - 2s 13ms/step - loss: 0.6394 - accuracy: 0.5532 - val_loss: 0.5994 - val_accuracy: 0.7027\n",
      "Epoch 2/100\n",
      "28/28 [==============================] - 0s 3ms/step - loss: 0.5801 - accuracy: 0.7070 - val_loss: 0.5496 - val_accuracy: 0.7973\n",
      "Epoch 3/100\n",
      "28/28 [==============================] - 0s 4ms/step - loss: 0.5291 - accuracy: 0.8484 - val_loss: 0.5068 - val_accuracy: 0.8919\n",
      "Epoch 4/100\n",
      "28/28 [==============================] - 0s 3ms/step - loss: 0.4851 - accuracy: 0.9106 - val_loss: 0.4683 - val_accuracy: 0.9099\n",
      "Epoch 5/100\n",
      "28/28 [==============================] - 0s 3ms/step - loss: 0.4462 - accuracy: 0.9231 - val_loss: 0.4349 - val_accuracy: 0.9324\n",
      "Epoch 6/100\n",
      "28/28 [==============================] - 0s 4ms/step - loss: 0.4124 - accuracy: 0.9265 - val_loss: 0.4052 - val_accuracy: 0.9369\n",
      "Epoch 7/100\n",
      "28/28 [==============================] - 0s 3ms/step - loss: 0.3825 - accuracy: 0.9321 - val_loss: 0.3788 - val_accuracy: 0.9279\n",
      "Epoch 8/100\n",
      "28/28 [==============================] - 0s 4ms/step - loss: 0.3563 - accuracy: 0.9389 - val_loss: 0.3548 - val_accuracy: 0.9279\n",
      "Epoch 9/100\n",
      "28/28 [==============================] - 0s 3ms/step - loss: 0.3327 - accuracy: 0.9434 - val_loss: 0.3335 - val_accuracy: 0.9324\n",
      "Epoch 10/100\n",
      "28/28 [==============================] - 0s 4ms/step - loss: 0.3119 - accuracy: 0.9468 - val_loss: 0.3150 - val_accuracy: 0.9369\n",
      "Epoch 11/100\n",
      "28/28 [==============================] - 0s 4ms/step - loss: 0.2939 - accuracy: 0.9457 - val_loss: 0.2980 - val_accuracy: 0.9414\n",
      "Epoch 12/100\n",
      "28/28 [==============================] - 0s 5ms/step - loss: 0.2776 - accuracy: 0.9480 - val_loss: 0.2831 - val_accuracy: 0.9459\n",
      "Epoch 13/100\n",
      "28/28 [==============================] - 0s 3ms/step - loss: 0.2634 - accuracy: 0.9491 - val_loss: 0.2695 - val_accuracy: 0.9505\n",
      "Epoch 14/100\n",
      "28/28 [==============================] - 0s 4ms/step - loss: 0.2505 - accuracy: 0.9514 - val_loss: 0.2574 - val_accuracy: 0.9505\n",
      "Epoch 15/100\n",
      "28/28 [==============================] - 0s 3ms/step - loss: 0.2392 - accuracy: 0.9536 - val_loss: 0.2464 - val_accuracy: 0.9550\n",
      "Epoch 16/100\n",
      "28/28 [==============================] - 0s 3ms/step - loss: 0.2289 - accuracy: 0.9525 - val_loss: 0.2365 - val_accuracy: 0.9550\n",
      "Epoch 17/100\n",
      "28/28 [==============================] - 0s 3ms/step - loss: 0.2196 - accuracy: 0.9536 - val_loss: 0.2279 - val_accuracy: 0.9595\n",
      "Epoch 18/100\n",
      "28/28 [==============================] - 0s 3ms/step - loss: 0.2114 - accuracy: 0.9514 - val_loss: 0.2196 - val_accuracy: 0.9640\n",
      "Epoch 19/100\n",
      "28/28 [==============================] - 0s 3ms/step - loss: 0.2038 - accuracy: 0.9514 - val_loss: 0.2122 - val_accuracy: 0.9640\n",
      "Epoch 20/100\n",
      "28/28 [==============================] - 0s 3ms/step - loss: 0.1969 - accuracy: 0.9514 - val_loss: 0.2056 - val_accuracy: 0.9640\n",
      "Epoch 21/100\n",
      "28/28 [==============================] - 0s 4ms/step - loss: 0.1907 - accuracy: 0.9525 - val_loss: 0.1993 - val_accuracy: 0.9640\n",
      "Epoch 22/100\n",
      "28/28 [==============================] - 0s 4ms/step - loss: 0.1850 - accuracy: 0.9581 - val_loss: 0.1934 - val_accuracy: 0.9640\n",
      "Epoch 23/100\n",
      "28/28 [==============================] - 0s 3ms/step - loss: 0.1797 - accuracy: 0.9593 - val_loss: 0.1883 - val_accuracy: 0.9640\n",
      "Epoch 24/100\n",
      "28/28 [==============================] - 0s 3ms/step - loss: 0.1749 - accuracy: 0.9593 - val_loss: 0.1834 - val_accuracy: 0.9640\n",
      "Epoch 25/100\n",
      "28/28 [==============================] - 0s 3ms/step - loss: 0.1705 - accuracy: 0.9593 - val_loss: 0.1789 - val_accuracy: 0.9640\n",
      "Epoch 26/100\n",
      "28/28 [==============================] - 0s 3ms/step - loss: 0.1663 - accuracy: 0.9593 - val_loss: 0.1746 - val_accuracy: 0.9640\n",
      "Epoch 27/100\n",
      "28/28 [==============================] - 0s 3ms/step - loss: 0.1625 - accuracy: 0.9604 - val_loss: 0.1707 - val_accuracy: 0.9640\n",
      "Epoch 28/100\n",
      "28/28 [==============================] - 0s 4ms/step - loss: 0.1589 - accuracy: 0.9604 - val_loss: 0.1672 - val_accuracy: 0.9640\n",
      "Epoch 29/100\n",
      "28/28 [==============================] - 0s 3ms/step - loss: 0.1556 - accuracy: 0.9604 - val_loss: 0.1638 - val_accuracy: 0.9640\n",
      "Epoch 30/100\n",
      "28/28 [==============================] - 0s 4ms/step - loss: 0.1526 - accuracy: 0.9604 - val_loss: 0.1606 - val_accuracy: 0.9640\n",
      "Epoch 31/100\n",
      "28/28 [==============================] - 0s 4ms/step - loss: 0.1498 - accuracy: 0.9604 - val_loss: 0.1576 - val_accuracy: 0.9640\n",
      "Epoch 32/100\n",
      "28/28 [==============================] - 0s 5ms/step - loss: 0.1471 - accuracy: 0.9604 - val_loss: 0.1548 - val_accuracy: 0.9640\n",
      "Epoch 33/100\n",
      "28/28 [==============================] - 0s 4ms/step - loss: 0.1446 - accuracy: 0.9604 - val_loss: 0.1524 - val_accuracy: 0.9640\n",
      "Epoch 34/100\n",
      "28/28 [==============================] - 0s 7ms/step - loss: 0.1423 - accuracy: 0.9604 - val_loss: 0.1499 - val_accuracy: 0.9640\n",
      "Epoch 35/100\n",
      "28/28 [==============================] - 0s 4ms/step - loss: 0.1401 - accuracy: 0.9604 - val_loss: 0.1476 - val_accuracy: 0.9640\n",
      "Epoch 36/100\n",
      "28/28 [==============================] - 0s 4ms/step - loss: 0.1380 - accuracy: 0.9604 - val_loss: 0.1455 - val_accuracy: 0.9640\n",
      "Epoch 37/100\n",
      "28/28 [==============================] - 0s 4ms/step - loss: 0.1360 - accuracy: 0.9604 - val_loss: 0.1433 - val_accuracy: 0.9640\n",
      "Epoch 38/100\n",
      "28/28 [==============================] - 0s 4ms/step - loss: 0.1341 - accuracy: 0.9604 - val_loss: 0.1414 - val_accuracy: 0.9640\n",
      "Epoch 39/100\n",
      "28/28 [==============================] - 0s 3ms/step - loss: 0.1324 - accuracy: 0.9615 - val_loss: 0.1397 - val_accuracy: 0.9595\n",
      "Epoch 40/100\n",
      "28/28 [==============================] - 0s 4ms/step - loss: 0.1307 - accuracy: 0.9615 - val_loss: 0.1378 - val_accuracy: 0.9595\n",
      "Epoch 41/100\n",
      "28/28 [==============================] - 0s 4ms/step - loss: 0.1291 - accuracy: 0.9615 - val_loss: 0.1362 - val_accuracy: 0.9595\n",
      "Epoch 42/100\n",
      "28/28 [==============================] - 0s 4ms/step - loss: 0.1276 - accuracy: 0.9615 - val_loss: 0.1346 - val_accuracy: 0.9595\n",
      "Epoch 43/100\n",
      "28/28 [==============================] - 0s 3ms/step - loss: 0.1262 - accuracy: 0.9615 - val_loss: 0.1333 - val_accuracy: 0.9595\n",
      "Epoch 44/100\n",
      "28/28 [==============================] - 0s 3ms/step - loss: 0.1248 - accuracy: 0.9627 - val_loss: 0.1318 - val_accuracy: 0.9595\n",
      "Epoch 45/100\n",
      "28/28 [==============================] - 0s 3ms/step - loss: 0.1235 - accuracy: 0.9627 - val_loss: 0.1305 - val_accuracy: 0.9595\n",
      "Epoch 46/100\n",
      "28/28 [==============================] - 0s 3ms/step - loss: 0.1222 - accuracy: 0.9627 - val_loss: 0.1293 - val_accuracy: 0.9595\n",
      "Epoch 47/100\n",
      "28/28 [==============================] - 0s 4ms/step - loss: 0.1212 - accuracy: 0.9627 - val_loss: 0.1282 - val_accuracy: 0.9595\n",
      "Epoch 48/100\n",
      "28/28 [==============================] - 0s 3ms/step - loss: 0.1199 - accuracy: 0.9627 - val_loss: 0.1271 - val_accuracy: 0.9595\n",
      "Epoch 49/100\n",
      "28/28 [==============================] - 0s 3ms/step - loss: 0.1190 - accuracy: 0.9627 - val_loss: 0.1260 - val_accuracy: 0.9595\n",
      "Epoch 50/100\n",
      "28/28 [==============================] - 0s 3ms/step - loss: 0.1178 - accuracy: 0.9627 - val_loss: 0.1250 - val_accuracy: 0.9595\n",
      "Epoch 51/100\n",
      "28/28 [==============================] - 0s 3ms/step - loss: 0.1168 - accuracy: 0.9627 - val_loss: 0.1240 - val_accuracy: 0.9640\n",
      "Epoch 52/100\n",
      "28/28 [==============================] - 0s 4ms/step - loss: 0.1158 - accuracy: 0.9627 - val_loss: 0.1230 - val_accuracy: 0.9640\n",
      "Epoch 53/100\n",
      "28/28 [==============================] - 0s 3ms/step - loss: 0.1149 - accuracy: 0.9649 - val_loss: 0.1223 - val_accuracy: 0.9640\n",
      "Epoch 54/100\n",
      "28/28 [==============================] - 0s 3ms/step - loss: 0.1141 - accuracy: 0.9649 - val_loss: 0.1213 - val_accuracy: 0.9640\n",
      "Epoch 55/100\n",
      "28/28 [==============================] - 0s 5ms/step - loss: 0.1131 - accuracy: 0.9649 - val_loss: 0.1206 - val_accuracy: 0.9640\n",
      "Epoch 56/100\n",
      "28/28 [==============================] - 0s 3ms/step - loss: 0.1123 - accuracy: 0.9649 - val_loss: 0.1199 - val_accuracy: 0.9640\n",
      "Epoch 57/100\n",
      "28/28 [==============================] - 0s 3ms/step - loss: 0.1115 - accuracy: 0.9649 - val_loss: 0.1191 - val_accuracy: 0.9640\n",
      "Epoch 58/100\n",
      "28/28 [==============================] - 0s 3ms/step - loss: 0.1108 - accuracy: 0.9661 - val_loss: 0.1184 - val_accuracy: 0.9640\n",
      "Epoch 59/100\n",
      "28/28 [==============================] - 0s 5ms/step - loss: 0.1099 - accuracy: 0.9661 - val_loss: 0.1179 - val_accuracy: 0.9640\n",
      "Epoch 60/100\n",
      "28/28 [==============================] - 0s 4ms/step - loss: 0.1092 - accuracy: 0.9661 - val_loss: 0.1172 - val_accuracy: 0.9640\n",
      "Epoch 61/100\n",
      "28/28 [==============================] - 0s 4ms/step - loss: 0.1086 - accuracy: 0.9638 - val_loss: 0.1166 - val_accuracy: 0.9640\n",
      "Epoch 62/100\n",
      "28/28 [==============================] - 0s 4ms/step - loss: 0.1078 - accuracy: 0.9649 - val_loss: 0.1160 - val_accuracy: 0.9640\n",
      "Epoch 63/100\n",
      "28/28 [==============================] - 0s 3ms/step - loss: 0.1072 - accuracy: 0.9661 - val_loss: 0.1154 - val_accuracy: 0.9640\n",
      "Epoch 64/100\n",
      "28/28 [==============================] - 0s 3ms/step - loss: 0.1066 - accuracy: 0.9649 - val_loss: 0.1148 - val_accuracy: 0.9640\n",
      "Epoch 65/100\n",
      "28/28 [==============================] - 0s 3ms/step - loss: 0.1059 - accuracy: 0.9649 - val_loss: 0.1144 - val_accuracy: 0.9640\n",
      "Epoch 66/100\n",
      "28/28 [==============================] - 0s 5ms/step - loss: 0.1053 - accuracy: 0.9649 - val_loss: 0.1138 - val_accuracy: 0.9640\n",
      "Epoch 67/100\n",
      "28/28 [==============================] - 0s 5ms/step - loss: 0.1047 - accuracy: 0.9649 - val_loss: 0.1135 - val_accuracy: 0.9640\n",
      "Epoch 68/100\n",
      "28/28 [==============================] - 0s 3ms/step - loss: 0.1041 - accuracy: 0.9649 - val_loss: 0.1131 - val_accuracy: 0.9640\n",
      "Epoch 69/100\n",
      "28/28 [==============================] - 0s 3ms/step - loss: 0.1035 - accuracy: 0.9649 - val_loss: 0.1126 - val_accuracy: 0.9640\n",
      "Epoch 70/100\n",
      "28/28 [==============================] - 0s 3ms/step - loss: 0.1030 - accuracy: 0.9649 - val_loss: 0.1123 - val_accuracy: 0.9640\n",
      "Epoch 71/100\n",
      "28/28 [==============================] - 0s 3ms/step - loss: 0.1025 - accuracy: 0.9649 - val_loss: 0.1118 - val_accuracy: 0.9640\n",
      "Epoch 72/100\n",
      "28/28 [==============================] - 0s 3ms/step - loss: 0.1018 - accuracy: 0.9649 - val_loss: 0.1115 - val_accuracy: 0.9640\n",
      "Epoch 73/100\n",
      "28/28 [==============================] - 0s 5ms/step - loss: 0.1014 - accuracy: 0.9649 - val_loss: 0.1114 - val_accuracy: 0.9640\n",
      "Epoch 74/100\n",
      "28/28 [==============================] - 0s 5ms/step - loss: 0.1010 - accuracy: 0.9649 - val_loss: 0.1108 - val_accuracy: 0.9640\n",
      "Epoch 75/100\n",
      "28/28 [==============================] - 0s 5ms/step - loss: 0.1004 - accuracy: 0.9649 - val_loss: 0.1105 - val_accuracy: 0.9640\n",
      "Epoch 76/100\n",
      "28/28 [==============================] - 0s 3ms/step - loss: 0.0999 - accuracy: 0.9649 - val_loss: 0.1103 - val_accuracy: 0.9640\n",
      "Epoch 77/100\n",
      "28/28 [==============================] - 0s 3ms/step - loss: 0.0994 - accuracy: 0.9649 - val_loss: 0.1101 - val_accuracy: 0.9640\n",
      "Epoch 78/100\n",
      "28/28 [==============================] - 0s 3ms/step - loss: 0.0989 - accuracy: 0.9661 - val_loss: 0.1097 - val_accuracy: 0.9640\n",
      "Epoch 79/100\n",
      "28/28 [==============================] - 0s 3ms/step - loss: 0.0984 - accuracy: 0.9661 - val_loss: 0.1095 - val_accuracy: 0.9640\n",
      "Epoch 80/100\n",
      "28/28 [==============================] - 0s 3ms/step - loss: 0.0981 - accuracy: 0.9661 - val_loss: 0.1092 - val_accuracy: 0.9640\n",
      "Epoch 81/100\n",
      "28/28 [==============================] - 0s 3ms/step - loss: 0.0976 - accuracy: 0.9661 - val_loss: 0.1090 - val_accuracy: 0.9640\n",
      "Epoch 82/100\n",
      "28/28 [==============================] - 0s 4ms/step - loss: 0.0971 - accuracy: 0.9661 - val_loss: 0.1087 - val_accuracy: 0.9640\n",
      "Epoch 83/100\n",
      "28/28 [==============================] - 0s 3ms/step - loss: 0.0967 - accuracy: 0.9661 - val_loss: 0.1085 - val_accuracy: 0.9640\n",
      "Epoch 84/100\n",
      "28/28 [==============================] - 0s 3ms/step - loss: 0.0962 - accuracy: 0.9661 - val_loss: 0.1082 - val_accuracy: 0.9640\n",
      "Epoch 85/100\n",
      "28/28 [==============================] - 0s 3ms/step - loss: 0.0958 - accuracy: 0.9661 - val_loss: 0.1080 - val_accuracy: 0.9640\n",
      "Epoch 86/100\n",
      "28/28 [==============================] - 0s 3ms/step - loss: 0.0953 - accuracy: 0.9661 - val_loss: 0.1078 - val_accuracy: 0.9640\n",
      "Epoch 87/100\n",
      "28/28 [==============================] - 0s 3ms/step - loss: 0.0950 - accuracy: 0.9672 - val_loss: 0.1075 - val_accuracy: 0.9640\n",
      "Epoch 88/100\n",
      "28/28 [==============================] - 0s 3ms/step - loss: 0.0945 - accuracy: 0.9672 - val_loss: 0.1077 - val_accuracy: 0.9595\n",
      "Epoch 89/100\n",
      "28/28 [==============================] - 0s 3ms/step - loss: 0.0941 - accuracy: 0.9672 - val_loss: 0.1074 - val_accuracy: 0.9595\n",
      "Epoch 90/100\n",
      "28/28 [==============================] - 0s 4ms/step - loss: 0.0937 - accuracy: 0.9672 - val_loss: 0.1072 - val_accuracy: 0.9595\n",
      "Epoch 91/100\n",
      "28/28 [==============================] - 0s 3ms/step - loss: 0.0934 - accuracy: 0.9672 - val_loss: 0.1070 - val_accuracy: 0.9595\n",
      "Epoch 92/100\n",
      "28/28 [==============================] - 0s 3ms/step - loss: 0.0931 - accuracy: 0.9672 - val_loss: 0.1070 - val_accuracy: 0.9595\n",
      "Epoch 93/100\n",
      "28/28 [==============================] - 0s 3ms/step - loss: 0.0926 - accuracy: 0.9672 - val_loss: 0.1068 - val_accuracy: 0.9595\n",
      "Epoch 94/100\n",
      "28/28 [==============================] - 0s 3ms/step - loss: 0.0922 - accuracy: 0.9672 - val_loss: 0.1066 - val_accuracy: 0.9595\n",
      "Epoch 95/100\n",
      "28/28 [==============================] - 0s 3ms/step - loss: 0.0918 - accuracy: 0.9672 - val_loss: 0.1065 - val_accuracy: 0.9595\n",
      "Epoch 96/100\n",
      "28/28 [==============================] - 0s 5ms/step - loss: 0.0914 - accuracy: 0.9672 - val_loss: 0.1065 - val_accuracy: 0.9595\n",
      "Epoch 97/100\n",
      "28/28 [==============================] - 0s 3ms/step - loss: 0.0910 - accuracy: 0.9683 - val_loss: 0.1062 - val_accuracy: 0.9595\n",
      "Epoch 98/100\n",
      "28/28 [==============================] - 0s 3ms/step - loss: 0.0907 - accuracy: 0.9683 - val_loss: 0.1062 - val_accuracy: 0.9595\n",
      "Epoch 99/100\n",
      "28/28 [==============================] - 0s 3ms/step - loss: 0.0904 - accuracy: 0.9683 - val_loss: 0.1060 - val_accuracy: 0.9595\n",
      "Epoch 100/100\n",
      "28/28 [==============================] - 0s 3ms/step - loss: 0.0900 - accuracy: 0.9683 - val_loss: 0.1061 - val_accuracy: 0.9595\n",
      "7/7 [==============================] - 0s 2ms/step - loss: 0.1061 - accuracy: 0.9595\n",
      "Test loss: 0.1061\n",
      "Test accuracy: 95.95%\n"
     ]
    }
   ],
   "source": [
    "# Define your model architecture\n",
    "model = Sequential()\n",
    "model.add(Input(shape=(x_train.shape[1],)))\n",
    "model.add(Dense(32, activation='relu'))\n",
    "model.add(Dense(16, activation='relu'))\n",
    "model.add(Dense(y.shape[1], activation='softmax'))  # Number of classes for classification\n",
    "\n",
    "# implement early stopping\n",
    "es = EarlyStopping(monitor='val_loss', mode='min', verbose=1, patience=5)\n",
    "\n",
    "# Create the model\n",
    "optimizer = tf.keras.optimizers.Adam(learning_rate=0.0001)\n",
    "model.compile(optimizer=optimizer, loss='categorical_crossentropy', metrics=['accuracy'])\n",
    "\n",
    "# Print model summary\n",
    "print(model.summary())\n",
    "\n",
    "# Model training\n",
    "history = model.fit(x_train, y_train, epochs=100, batch_size=32, validation_data=(x_test, y_test), callbacks=[es])\n",
    "\n",
    "# Model evaluation\n",
    "loss, accuracy = model.evaluate(x_test, y_test)\n",
    "print(f'Test loss: {loss:.4f}')\n",
    "print(f'Test accuracy: {accuracy * 100:.2f}%')"
   ]
  },
  {
   "cell_type": "code",
   "execution_count": 19,
   "metadata": {},
   "outputs": [
    {
     "name": "stderr",
     "output_type": "stream",
     "text": [
      "C:\\Users\\Ananya\\AppData\\Roaming\\Python\\Python311\\site-packages\\keras\\src\\engine\\training.py:3079: UserWarning: You are saving your model as an HDF5 file via `model.save()`. This file format is considered legacy. We recommend using instead the native Keras format, e.g. `model.save('my_model.keras')`.\n",
      "  saving_api.save_model(\n"
     ]
    }
   ],
   "source": [
    "# model.save('OASIS4_CDR.h5')"
   ]
  },
  {
   "cell_type": "code",
   "execution_count": 14,
   "metadata": {},
   "outputs": [
    {
     "data": {
      "text/plain": [
       "8"
      ]
     },
     "execution_count": 14,
     "metadata": {},
     "output_type": "execute_result"
    }
   ],
   "source": [
    "x_train.shape[1]"
   ]
  },
  {
   "cell_type": "markdown",
   "metadata": {},
   "source": [
    "#### Loss Curves"
   ]
  },
  {
   "cell_type": "code",
   "execution_count": 15,
   "metadata": {},
   "outputs": [
    {
     "data": {
      "image/png": "[encoded data removed]",
      "text/plain": [
       "<Figure size 640x480 with 1 Axes>"
      ]
     },
     "metadata": {},
     "output_type": "display_data"
    }
   ],
   "source": [
    "# plot the loss curves\n",
    "import matplotlib.pyplot as plt\n",
    "plt.plot(history.history['loss'], label='train')\n",
    "plt.plot(history.history['val_loss'], label='test')\n",
    "plt.legend()\n",
    "plt.show()"
   ]
  },
  {
   "cell_type": "markdown",
   "metadata": {},
   "source": [
    "### Accuracy Curve"
   ]
  },
  {
   "cell_type": "code",
   "execution_count": 16,
   "metadata": {},
   "outputs": [
    {
     "data": {
      "image/png": "[encoded data removed]",
      "text/plain": [
       "<Figure size 640x480 with 1 Axes>"
      ]
     },
     "metadata": {},
     "output_type": "display_data"
    }
   ],
   "source": [
    "# plot the accuracy curve\n",
    "plt.plot(history.history['accuracy'], label='train')\n",
    "plt.plot(history.history['val_accuracy'], label='test')\n",
    "plt.legend()\n",
    "plt.show()"
   ]
  },
  {
   "cell_type": "code",
   "execution_count": 18,
   "metadata": {},
   "outputs": [
    {
     "name": "stdout",
     "output_type": "stream",
     "text": [
      "7/7 [==============================] - 0s 2ms/step\n",
      "              precision    recall  f1-score   support\n",
      "\n",
      "           0       0.97      0.97      0.97       149\n",
      "           1       0.93      0.95      0.94        73\n",
      "\n",
      "    accuracy                           0.96       222\n",
      "   macro avg       0.95      0.96      0.95       222\n",
      "weighted avg       0.96      0.96      0.96       222\n",
      "\n",
      "a = 0.9594594594594594\n"
     ]
    },
    {
     "data": {
      "image/png": "[encoded data removed]",
      "text/plain": [
       "<Figure size 640x480 with 2 Axes>"
      ]
     },
     "metadata": {},
     "output_type": "display_data"
    }
   ],
   "source": [
    "from sklearn.metrics import accuracy_score, confusion_matrix, classification_report, ConfusionMatrixDisplay\n",
    "y_pred = model.predict(x_test)\n",
    "y_pred = np.argmax(y_pred, axis=1)\n",
    "y_test = np.argmax(np.array(y_test), axis=1)\n",
    "print(classification_report(y_test, y_pred))\n",
    "cm = confusion_matrix(y_test, y_pred)\n",
    "disp = ConfusionMatrixDisplay(confusion_matrix=cm, display_labels=['0', '1'])\n",
    "disp.plot()\n",
    "print(f\"a = {accuracy_score(y_test, y_pred)}\")"
   ]
  },
  {
   "cell_type": "markdown",
   "metadata": {},
   "source": [
    "#### data_clinical.csv"
   ]
  },
  {
   "cell_type": "code",
   "execution_count": 6,
   "metadata": {},
   "outputs": [],
   "source": [
    "# # Load your CSV data\n",
    "# df = pd.read_csv(\"OASIS4_data_clinical.csv\")\n",
    "\n",
    "# df = df.drop(['oasis_id', 'demographics_id', 'final_dx', 'marriage'], axis=1)\n",
    "# # Remove rows with missing values\n",
    "# df = df.dropna()\n",
    "\n",
    "# for col in df.columns:\n",
    "#     if df[col].dtype == 'int64':\n",
    "#         df[col] = df[col].astype(float)\n",
    "\n",
    "# # sort the correlation values wrt final_dx_categorized (absolute values)\n",
    "# correlation_matrix = df.corr()\n",
    "\n",
    "# # Get the absolute values of correlations with respect to 'final_dx_categorized'\n",
    "# correlation_with_target = correlation_matrix['final_dx_categorized'].abs()\n",
    "\n",
    "# # Sort the variables by their absolute correlation values\n",
    "# sorted_correlations = correlation_with_target.sort_values(ascending=False)\n",
    "\n",
    "# # Display the sorted correlations\n",
    "# print(sorted_correlations)\n",
    "\n",
    "# # Split the data into features (x) and the target (y)\n",
    "# # choose the top 8 features with the highest correlation values. Automate the code to choose the top 8 features.\n",
    "# # Select the top 8 features with the highest absolute correlation values\n",
    "# top_features = sorted_correlations.index[1:9]  # Exclude the target variable\n",
    "\n",
    "# # Split the data into x (selected features) and y (target variable)\n",
    "# x = df[top_features]\n",
    "# y = df['final_dx_categorized']\n",
    "\n",
    "# # Display the top 8 selected features\n",
    "# print(top_features)"
   ]
  },
  {
   "cell_type": "code",
   "execution_count": 7,
   "metadata": {},
   "outputs": [],
   "source": [
    "# print(y.value_counts())"
   ]
  },
  {
   "cell_type": "code",
   "execution_count": 8,
   "metadata": {},
   "outputs": [],
   "source": [
    "# x_train, x_test, y_train, y_test = train_test_split(x, y, test_size=0.2, random_state=42)\n",
    "# loss, accuracy = model.evaluate(x_test, y_test)\n",
    "# print(f'Test loss: {loss:.4f}')\n",
    "# print(f'Test accuracy: {accuracy * 100:.2f}%')"
   ]
  }
 ],
 "metadata": {
  "kernelspec": {
   "display_name": "Python 3",
   "language": "python",
   "name": "python3"
  },
  "language_info": {
   "codemirror_mode": {
    "name": "ipython",
    "version": 3
   },
   "file_extension": ".py",
   "mimetype": "text/x-python",
   "name": "python",
   "nbconvert_exporter": "python",
   "pygments_lexer": "ipython3",
   "version": "3.11.2"
  }
 },
 "nbformat": 4,
 "nbformat_minor": 2
}
