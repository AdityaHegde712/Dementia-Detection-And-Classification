{
 "cells": [
  {
   "cell_type": "code",
   "execution_count": 1,
   "metadata": {},
   "outputs": [],
   "source": [
    "import os\n",
    "\n",
    "def find_large_files(directory):\n",
    "    large_files = []\n",
    "\n",
    "    for root, _, files in os.walk(directory):\n",
    "        for filename in files:\n",
    "            if not str(filename).startswith('Alzheimer_s') and not str(filename).startswith('Checking') and not str(filename).startswith('Binary') and not str(filename).startswith('Multiclass'):\n",
    "                filepath = os.path.join(root, filename)\n",
    "                filesize = os.path.getsize(filepath)  # Get file size in bytes\n",
    "                if filesize > 50 * 1024 * 1024:  # Convert 50 MB to bytes\n",
    "                    relative_path = os.path.relpath(filepath, directory)\n",
    "                    large_files.append(relative_path)\n",
    "\n",
    "    return large_files\n",
    "\n"
   ]
  },
  {
   "cell_type": "code",
   "execution_count": 2,
   "metadata": {},
   "outputs": [
    {
     "name": "stdout",
     "output_type": "stream",
     "text": [
      "Large files found:\n",
      "Dataset Study\\Report.html\n",
      "Dataset Study\\CSVs\\investigator_nacc62.csv\n",
      "Image Processing v1\\inception_v4.pth\n",
      "Image Processing v1\\resnet50.pth\n",
      "Image Processing v1\\vgg16.pth\n",
      "Resources\\Datasets\\CSVs and Guides.zip\n",
      "Resources\\Datasets\\CSVs\\NACC\\investigator_nacc62.csv\n",
      "Resources\\Datasets\\CSVs\\OASIS\\OASIS3\\OASIS3_data_files.zip\n"
     ]
    }
   ],
   "source": [
    "project_folder = \"C:/Users/hifia/Projects/Dementia Detection and Classification\"  # Replace with your actual project folder path\n",
    "large_files_list = find_large_files(project_folder)\n",
    "\n",
    "if large_files_list:\n",
    "    print(\"Large files found:\")\n",
    "    for filepath in large_files_list:\n",
    "        print(filepath)\n",
    "else:\n",
    "    print(\"No large files found.\")\n"
   ]
  }
 ],
 "metadata": {
  "kernelspec": {
   "display_name": "Python 3",
   "language": "python",
   "name": "python3"
  },
  "language_info": {
   "codemirror_mode": {
    "name": "ipython",
    "version": 3
   },
   "file_extension": ".py",
   "mimetype": "text/x-python",
   "name": "python",
   "nbconvert_exporter": "python",
   "pygments_lexer": "ipython3",
   "version": "3.11.4"
  },
  "orig_nbformat": 4
 },
 "nbformat": 4,
 "nbformat_minor": 2
}
