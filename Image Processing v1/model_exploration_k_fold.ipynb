{
 "cells": [
  {
   "cell_type": "markdown",
   "metadata": {},
   "source": [
    "# Preliminary image processing task\n",
    "* CUDA, cuDNN, and cuBLAS libraries support for GPU acceleration - Yet to be done. \n",
    "* Pre-trained Convolutional Neural Networks (CNNs) such as VGG, MobileNet, DenseNet, ResNet, InceptionV4, and CoCa\n",
    "* Dropout layers with a dropout rate of 0.2 to prevent overfitting\n",
    "* Reduce batch sizes from 64 or 32 if memory limitations\n",
    "* train each model for 30 epochs initially, but adjust the number of epochs based on the observed accuracy during training.\n"
   ]
  },
  {
   "cell_type": "markdown",
   "metadata": {},
   "source": [
    "Imports"
   ]
  },
  {
   "cell_type": "code",
   "execution_count": 24,
   "metadata": {},
   "outputs": [],
   "source": [
    "import torch\n",
    "import timm\n",
    "from torchvision import transforms\n",
    "from torch.utils.data import DataLoader\n",
    "from torchvision.datasets import ImageFolder\n",
    "import torch.optim as optim\n",
    "import os\n",
    "import random\n",
    "import shutil\n",
    "from torchvision import datasets\n",
    "import numpy as np\n",
    "from pytorch_lightning.loggers import CSVLogger"
   ]
  },
  {
   "cell_type": "code",
   "execution_count": 14,
   "metadata": {},
   "outputs": [
    {
     "name": "stdout",
     "output_type": "stream",
     "text": [
      "['bat_resnext26ts.ch_in1k', 'beit_base_patch16_224.in22k_ft_in22k', 'beit_base_patch16_224.in22k_ft_in22k_in1k', 'beit_base_patch16_384.in22k_ft_in22k_in1k', 'beit_large_patch16_224.in22k_ft_in22k', 'beit_large_patch16_224.in22k_ft_in22k_in1k', 'beit_large_patch16_384.in22k_ft_in22k_in1k', 'beit_large_patch16_512.in22k_ft_in22k_in1k', 'beitv2_base_patch16_224.in1k_ft_in1k', 'beitv2_base_patch16_224.in1k_ft_in22k', 'beitv2_base_patch16_224.in1k_ft_in22k_in1k', 'beitv2_large_patch16_224.in1k_ft_in1k', 'beitv2_large_patch16_224.in1k_ft_in22k', 'beitv2_large_patch16_224.in1k_ft_in22k_in1k', 'botnet26t_256.c1_in1k', 'caformer_b36.sail_in1k', 'caformer_b36.sail_in1k_384', 'caformer_b36.sail_in22k', 'caformer_b36.sail_in22k_ft_in1k', 'caformer_b36.sail_in22k_ft_in1k_384', 'caformer_m36.sail_in1k', 'caformer_m36.sail_in1k_384', 'caformer_m36.sail_in22k', 'caformer_m36.sail_in22k_ft_in1k', 'caformer_m36.sail_in22k_ft_in1k_384', 'caformer_s18.sail_in1k', 'caformer_s18.sail_in1k_384', 'caformer_s18.sail_in22k', 'caformer_s18.sail_in22k_ft_in1k', 'caformer_s18.sail_in22k_ft_in1k_384', 'caformer_s36.sail_in1k', 'caformer_s36.sail_in1k_384', 'caformer_s36.sail_in22k', 'caformer_s36.sail_in22k_ft_in1k', 'caformer_s36.sail_in22k_ft_in1k_384', 'cait_m36_384.fb_dist_in1k', 'cait_m48_448.fb_dist_in1k', 'cait_s24_224.fb_dist_in1k', 'cait_s24_384.fb_dist_in1k', 'cait_s36_384.fb_dist_in1k', 'cait_xs24_384.fb_dist_in1k', 'cait_xxs24_224.fb_dist_in1k', 'cait_xxs24_384.fb_dist_in1k', 'cait_xxs36_224.fb_dist_in1k', 'cait_xxs36_384.fb_dist_in1k', 'coat_lite_medium.in1k', 'coat_lite_medium_384.in1k', 'coat_lite_mini.in1k', 'coat_lite_small.in1k', 'coat_lite_tiny.in1k', 'coat_mini.in1k', 'coat_small.in1k', 'coat_tiny.in1k', 'coatnet_0_rw_224.sw_in1k', 'coatnet_1_rw_224.sw_in1k', 'coatnet_2_rw_224.sw_in12k', 'coatnet_2_rw_224.sw_in12k_ft_in1k', 'coatnet_3_rw_224.sw_in12k', 'coatnet_bn_0_rw_224.sw_in1k', 'coatnet_nano_rw_224.sw_in1k', 'coatnet_rmlp_1_rw2_224.sw_in12k', 'coatnet_rmlp_1_rw2_224.sw_in12k_ft_in1k', 'coatnet_rmlp_1_rw_224.sw_in1k', 'coatnet_rmlp_2_rw_224.sw_in1k', 'coatnet_rmlp_2_rw_224.sw_in12k', 'coatnet_rmlp_2_rw_224.sw_in12k_ft_in1k', 'coatnet_rmlp_2_rw_384.sw_in12k_ft_in1k', 'coatnet_rmlp_nano_rw_224.sw_in1k', 'coatnext_nano_rw_224.sw_in1k', 'convformer_b36.sail_in1k', 'convformer_b36.sail_in1k_384', 'convformer_b36.sail_in22k', 'convformer_b36.sail_in22k_ft_in1k', 'convformer_b36.sail_in22k_ft_in1k_384', 'convformer_m36.sail_in1k', 'convformer_m36.sail_in1k_384', 'convformer_m36.sail_in22k', 'convformer_m36.sail_in22k_ft_in1k', 'convformer_m36.sail_in22k_ft_in1k_384', 'convformer_s18.sail_in1k', 'convformer_s18.sail_in1k_384', 'convformer_s18.sail_in22k', 'convformer_s18.sail_in22k_ft_in1k', 'convformer_s18.sail_in22k_ft_in1k_384', 'convformer_s36.sail_in1k', 'convformer_s36.sail_in1k_384', 'convformer_s36.sail_in22k', 'convformer_s36.sail_in22k_ft_in1k', 'convformer_s36.sail_in22k_ft_in1k_384', 'convit_base.fb_in1k', 'convit_small.fb_in1k', 'convit_tiny.fb_in1k', 'convmixer_768_32.in1k', 'convmixer_1024_20_ks9_p14.in1k', 'convmixer_1536_20.in1k', 'convnext_atto.d2_in1k', 'convnext_atto_ols.a2_in1k', 'convnext_base.clip_laion2b', 'convnext_base.clip_laion2b_augreg', 'convnext_base.clip_laion2b_augreg_ft_in1k', 'convnext_base.clip_laion2b_augreg_ft_in12k', 'convnext_base.clip_laion2b_augreg_ft_in12k_in1k', 'convnext_base.clip_laion2b_augreg_ft_in12k_in1k_384', 'convnext_base.clip_laiona', 'convnext_base.clip_laiona_320', 'convnext_base.clip_laiona_augreg_320', 'convnext_base.clip_laiona_augreg_ft_in1k_384', 'convnext_base.fb_in1k', 'convnext_base.fb_in22k', 'convnext_base.fb_in22k_ft_in1k', 'convnext_base.fb_in22k_ft_in1k_384', 'convnext_femto.d1_in1k', 'convnext_femto_ols.d1_in1k', 'convnext_large.fb_in1k', 'convnext_large.fb_in22k', 'convnext_large.fb_in22k_ft_in1k', 'convnext_large.fb_in22k_ft_in1k_384', 'convnext_large_mlp.clip_laion2b_augreg', 'convnext_large_mlp.clip_laion2b_augreg_ft_in1k', 'convnext_large_mlp.clip_laion2b_augreg_ft_in1k_384', 'convnext_large_mlp.clip_laion2b_augreg_ft_in12k_384', 'convnext_large_mlp.clip_laion2b_ft_320', 'convnext_large_mlp.clip_laion2b_ft_soup_320', 'convnext_large_mlp.clip_laion2b_soup_ft_in12k_320', 'convnext_large_mlp.clip_laion2b_soup_ft_in12k_384', 'convnext_large_mlp.clip_laion2b_soup_ft_in12k_in1k_320', 'convnext_large_mlp.clip_laion2b_soup_ft_in12k_in1k_384', 'convnext_nano.d1h_in1k', 'convnext_nano.in12k', 'convnext_nano.in12k_ft_in1k', 'convnext_nano_ols.d1h_in1k', 'convnext_pico.d1_in1k', 'convnext_pico_ols.d1_in1k', 'convnext_small.fb_in1k', 'convnext_small.fb_in22k', 'convnext_small.fb_in22k_ft_in1k', 'convnext_small.fb_in22k_ft_in1k_384', 'convnext_small.in12k', 'convnext_small.in12k_ft_in1k', 'convnext_small.in12k_ft_in1k_384', 'convnext_tiny.fb_in1k', 'convnext_tiny.fb_in22k', 'convnext_tiny.fb_in22k_ft_in1k', 'convnext_tiny.fb_in22k_ft_in1k_384', 'convnext_tiny.in12k', 'convnext_tiny.in12k_ft_in1k', 'convnext_tiny.in12k_ft_in1k_384', 'convnext_tiny_hnf.a2h_in1k', 'convnext_xlarge.fb_in22k', 'convnext_xlarge.fb_in22k_ft_in1k', 'convnext_xlarge.fb_in22k_ft_in1k_384', 'convnext_xxlarge.clip_laion2b_rewind', 'convnext_xxlarge.clip_laion2b_soup', 'convnext_xxlarge.clip_laion2b_soup_ft_in1k', 'convnextv2_atto.fcmae', 'convnextv2_atto.fcmae_ft_in1k', 'convnextv2_base.fcmae', 'convnextv2_base.fcmae_ft_in1k', 'convnextv2_base.fcmae_ft_in22k_in1k', 'convnextv2_base.fcmae_ft_in22k_in1k_384', 'convnextv2_femto.fcmae', 'convnextv2_femto.fcmae_ft_in1k', 'convnextv2_huge.fcmae', 'convnextv2_huge.fcmae_ft_in1k', 'convnextv2_huge.fcmae_ft_in22k_in1k_384', 'convnextv2_huge.fcmae_ft_in22k_in1k_512', 'convnextv2_large.fcmae', 'convnextv2_large.fcmae_ft_in1k', 'convnextv2_large.fcmae_ft_in22k_in1k', 'convnextv2_large.fcmae_ft_in22k_in1k_384', 'convnextv2_nano.fcmae', 'convnextv2_nano.fcmae_ft_in1k', 'convnextv2_nano.fcmae_ft_in22k_in1k', 'convnextv2_nano.fcmae_ft_in22k_in1k_384', 'convnextv2_pico.fcmae', 'convnextv2_pico.fcmae_ft_in1k', 'convnextv2_tiny.fcmae', 'convnextv2_tiny.fcmae_ft_in1k', 'convnextv2_tiny.fcmae_ft_in22k_in1k', 'convnextv2_tiny.fcmae_ft_in22k_in1k_384', 'crossvit_9_240.in1k', 'crossvit_9_dagger_240.in1k', 'crossvit_15_240.in1k', 'crossvit_15_dagger_240.in1k', 'crossvit_15_dagger_408.in1k', 'crossvit_18_240.in1k', 'crossvit_18_dagger_240.in1k', 'crossvit_18_dagger_408.in1k', 'crossvit_base_240.in1k', 'crossvit_small_240.in1k', 'crossvit_tiny_240.in1k', 'cs3darknet_focus_l.c2ns_in1k', 'cs3darknet_focus_m.c2ns_in1k', 'cs3darknet_l.c2ns_in1k', 'cs3darknet_m.c2ns_in1k', 'cs3darknet_x.c2ns_in1k', 'cs3edgenet_x.c2_in1k', 'cs3se_edgenet_x.c2ns_in1k', 'cs3sedarknet_l.c2ns_in1k', 'cs3sedarknet_x.c2ns_in1k', 'cspdarknet53.ra_in1k', 'cspresnet50.ra_in1k', 'cspresnext50.ra_in1k', 'darknet53.c2ns_in1k', 'darknetaa53.c2ns_in1k', 'davit_base.msft_in1k', 'davit_small.msft_in1k', 'davit_tiny.msft_in1k', 'deit3_base_patch16_224.fb_in1k', 'deit3_base_patch16_224.fb_in22k_ft_in1k', 'deit3_base_patch16_384.fb_in1k', 'deit3_base_patch16_384.fb_in22k_ft_in1k', 'deit3_huge_patch14_224.fb_in1k', 'deit3_huge_patch14_224.fb_in22k_ft_in1k', 'deit3_large_patch16_224.fb_in1k', 'deit3_large_patch16_224.fb_in22k_ft_in1k', 'deit3_large_patch16_384.fb_in1k', 'deit3_large_patch16_384.fb_in22k_ft_in1k', 'deit3_medium_patch16_224.fb_in1k', 'deit3_medium_patch16_224.fb_in22k_ft_in1k', 'deit3_small_patch16_224.fb_in1k', 'deit3_small_patch16_224.fb_in22k_ft_in1k', 'deit3_small_patch16_384.fb_in1k', 'deit3_small_patch16_384.fb_in22k_ft_in1k', 'deit_base_distilled_patch16_224.fb_in1k', 'deit_base_distilled_patch16_384.fb_in1k', 'deit_base_patch16_224.fb_in1k', 'deit_base_patch16_384.fb_in1k', 'deit_small_distilled_patch16_224.fb_in1k', 'deit_small_patch16_224.fb_in1k', 'deit_tiny_distilled_patch16_224.fb_in1k', 'deit_tiny_patch16_224.fb_in1k', 'densenet121.ra_in1k', 'densenet121.tv_in1k', 'densenet161.tv_in1k', 'densenet169.tv_in1k', 'densenet201.tv_in1k', 'densenetblur121d.ra_in1k', 'dla34.in1k', 'dla46_c.in1k', 'dla46x_c.in1k', 'dla60.in1k', 'dla60_res2net.in1k', 'dla60_res2next.in1k', 'dla60x.in1k', 'dla60x_c.in1k', 'dla102.in1k', 'dla102x2.in1k', 'dla102x.in1k', 'dla169.in1k', 'dm_nfnet_f0.dm_in1k', 'dm_nfnet_f1.dm_in1k', 'dm_nfnet_f2.dm_in1k', 'dm_nfnet_f3.dm_in1k', 'dm_nfnet_f4.dm_in1k', 'dm_nfnet_f5.dm_in1k', 'dm_nfnet_f6.dm_in1k', 'dpn68.mx_in1k', 'dpn68b.mx_in1k', 'dpn68b.ra_in1k', 'dpn92.mx_in1k', 'dpn98.mx_in1k', 'dpn107.mx_in1k', 'dpn131.mx_in1k', 'eca_botnext26ts_256.c1_in1k', 'eca_halonext26ts.c1_in1k', 'eca_nfnet_l0.ra2_in1k', 'eca_nfnet_l1.ra2_in1k', 'eca_nfnet_l2.ra3_in1k', 'eca_resnet33ts.ra2_in1k', 'eca_resnext26ts.ch_in1k', 'ecaresnet26t.ra2_in1k', 'ecaresnet50d.miil_in1k', 'ecaresnet50d_pruned.miil_in1k', 'ecaresnet50t.a1_in1k', 'ecaresnet50t.a2_in1k', 'ecaresnet50t.a3_in1k', 'ecaresnet50t.ra2_in1k', 'ecaresnet101d.miil_in1k', 'ecaresnet101d_pruned.miil_in1k', 'ecaresnet269d.ra2_in1k', 'ecaresnetlight.miil_in1k', 'edgenext_base.in21k_ft_in1k', 'edgenext_base.usi_in1k', 'edgenext_small.usi_in1k', 'edgenext_small_rw.sw_in1k', 'edgenext_x_small.in1k', 'edgenext_xx_small.in1k', 'efficientformer_l1.snap_dist_in1k', 'efficientformer_l3.snap_dist_in1k', 'efficientformer_l7.snap_dist_in1k', 'efficientformerv2_l.snap_dist_in1k', 'efficientformerv2_s0.snap_dist_in1k', 'efficientformerv2_s1.snap_dist_in1k', 'efficientformerv2_s2.snap_dist_in1k', 'efficientnet_b0.ra_in1k', 'efficientnet_b1.ft_in1k', 'efficientnet_b1_pruned.in1k', 'efficientnet_b2.ra_in1k', 'efficientnet_b2_pruned.in1k', 'efficientnet_b3.ra2_in1k', 'efficientnet_b3_pruned.in1k', 'efficientnet_b4.ra2_in1k', 'efficientnet_b5.sw_in12k', 'efficientnet_b5.sw_in12k_ft_in1k', 'efficientnet_el.ra_in1k', 'efficientnet_el_pruned.in1k', 'efficientnet_em.ra2_in1k', 'efficientnet_es.ra_in1k', 'efficientnet_es_pruned.in1k', 'efficientnet_lite0.ra_in1k', 'efficientnetv2_rw_m.agc_in1k', 'efficientnetv2_rw_s.ra2_in1k', 'efficientnetv2_rw_t.ra2_in1k', 'efficientvit_b0.r224_in1k', 'efficientvit_b1.r224_in1k', 'efficientvit_b1.r256_in1k', 'efficientvit_b1.r288_in1k', 'efficientvit_b2.r224_in1k', 'efficientvit_b2.r256_in1k', 'efficientvit_b2.r288_in1k', 'efficientvit_b3.r224_in1k', 'efficientvit_b3.r256_in1k', 'efficientvit_b3.r288_in1k', 'efficientvit_m0.r224_in1k', 'efficientvit_m1.r224_in1k', 'efficientvit_m2.r224_in1k', 'efficientvit_m3.r224_in1k', 'efficientvit_m4.r224_in1k', 'efficientvit_m5.r224_in1k', 'ese_vovnet19b_dw.ra_in1k', 'ese_vovnet39b.ra_in1k', 'eva02_base_patch14_224.mim_in22k', 'eva02_base_patch14_448.mim_in22k_ft_in1k', 'eva02_base_patch14_448.mim_in22k_ft_in22k', 'eva02_base_patch14_448.mim_in22k_ft_in22k_in1k', 'eva02_base_patch16_clip_224.merged2b', 'eva02_enormous_patch14_clip_224.laion2b', 'eva02_enormous_patch14_clip_224.laion2b_plus', 'eva02_large_patch14_224.mim_in22k', 'eva02_large_patch14_224.mim_m38m', 'eva02_large_patch14_448.mim_in22k_ft_in1k', 'eva02_large_patch14_448.mim_in22k_ft_in22k', 'eva02_large_patch14_448.mim_in22k_ft_in22k_in1k', 'eva02_large_patch14_448.mim_m38m_ft_in1k', 'eva02_large_patch14_448.mim_m38m_ft_in22k', 'eva02_large_patch14_448.mim_m38m_ft_in22k_in1k', 'eva02_large_patch14_clip_224.merged2b', 'eva02_large_patch14_clip_336.merged2b', 'eva02_small_patch14_224.mim_in22k', 'eva02_small_patch14_336.mim_in22k_ft_in1k', 'eva02_tiny_patch14_224.mim_in22k', 'eva02_tiny_patch14_336.mim_in22k_ft_in1k', 'eva_giant_patch14_224.clip_ft_in1k', 'eva_giant_patch14_336.clip_ft_in1k', 'eva_giant_patch14_336.m30m_ft_in22k_in1k', 'eva_giant_patch14_560.m30m_ft_in22k_in1k', 'eva_giant_patch14_clip_224.laion400m', 'eva_giant_patch14_clip_224.merged2b', 'eva_large_patch14_196.in22k_ft_in1k', 'eva_large_patch14_196.in22k_ft_in22k_in1k', 'eva_large_patch14_336.in22k_ft_in1k', 'eva_large_patch14_336.in22k_ft_in22k_in1k', 'fastvit_ma36.apple_dist_in1k', 'fastvit_ma36.apple_in1k', 'fastvit_s12.apple_dist_in1k', 'fastvit_s12.apple_in1k', 'fastvit_sa12.apple_dist_in1k', 'fastvit_sa12.apple_in1k', 'fastvit_sa24.apple_dist_in1k', 'fastvit_sa24.apple_in1k', 'fastvit_sa36.apple_dist_in1k', 'fastvit_sa36.apple_in1k', 'fastvit_t8.apple_dist_in1k', 'fastvit_t8.apple_in1k', 'fastvit_t12.apple_dist_in1k', 'fastvit_t12.apple_in1k', 'fbnetc_100.rmsp_in1k', 'fbnetv3_b.ra2_in1k', 'fbnetv3_d.ra2_in1k', 'fbnetv3_g.ra2_in1k', 'flexivit_base.300ep_in1k', 'flexivit_base.300ep_in21k', 'flexivit_base.600ep_in1k', 'flexivit_base.1000ep_in21k', 'flexivit_base.1200ep_in1k', 'flexivit_base.patch16_in21k', 'flexivit_base.patch30_in21k', 'flexivit_large.300ep_in1k', 'flexivit_large.600ep_in1k', 'flexivit_large.1200ep_in1k', 'flexivit_small.300ep_in1k', 'flexivit_small.600ep_in1k', 'flexivit_small.1200ep_in1k', 'focalnet_base_lrf.ms_in1k', 'focalnet_base_srf.ms_in1k', 'focalnet_huge_fl3.ms_in22k', 'focalnet_huge_fl4.ms_in22k', 'focalnet_large_fl3.ms_in22k', 'focalnet_large_fl4.ms_in22k', 'focalnet_small_lrf.ms_in1k', 'focalnet_small_srf.ms_in1k', 'focalnet_tiny_lrf.ms_in1k', 'focalnet_tiny_srf.ms_in1k', 'focalnet_xlarge_fl3.ms_in22k', 'focalnet_xlarge_fl4.ms_in22k', 'gc_efficientnetv2_rw_t.agc_in1k', 'gcresnet33ts.ra2_in1k', 'gcresnet50t.ra2_in1k', 'gcresnext26ts.ch_in1k', 'gcresnext50ts.ch_in1k', 'gcvit_base.in1k', 'gcvit_small.in1k', 'gcvit_tiny.in1k', 'gcvit_xtiny.in1k', 'gcvit_xxtiny.in1k', 'gernet_l.idstcv_in1k', 'gernet_m.idstcv_in1k', 'gernet_s.idstcv_in1k', 'ghostnet_100.in1k', 'ghostnetv2_100.in1k', 'ghostnetv2_130.in1k', 'ghostnetv2_160.in1k', 'gmixer_24_224.ra3_in1k', 'gmlp_s16_224.ra3_in1k', 'halo2botnet50ts_256.a1h_in1k', 'halonet26t.a1h_in1k', 'halonet50ts.a1h_in1k', 'haloregnetz_b.ra3_in1k', 'hardcorenas_a.miil_green_in1k', 'hardcorenas_b.miil_green_in1k', 'hardcorenas_c.miil_green_in1k', 'hardcorenas_d.miil_green_in1k', 'hardcorenas_e.miil_green_in1k', 'hardcorenas_f.miil_green_in1k', 'hrnet_w18.ms_aug_in1k', 'hrnet_w18.ms_in1k', 'hrnet_w18_small.gluon_in1k', 'hrnet_w18_small.ms_in1k', 'hrnet_w18_small_v2.gluon_in1k', 'hrnet_w18_small_v2.ms_in1k', 'hrnet_w18_ssld.paddle_in1k', 'hrnet_w30.ms_in1k', 'hrnet_w32.ms_in1k', 'hrnet_w40.ms_in1k', 'hrnet_w44.ms_in1k', 'hrnet_w48.ms_in1k', 'hrnet_w48_ssld.paddle_in1k', 'hrnet_w64.ms_in1k', 'inception_next_base.sail_in1k', 'inception_next_base.sail_in1k_384', 'inception_next_small.sail_in1k', 'inception_next_tiny.sail_in1k', 'inception_resnet_v2.tf_ens_adv_in1k', 'inception_resnet_v2.tf_in1k', 'inception_v3.gluon_in1k', 'inception_v3.tf_adv_in1k', 'inception_v3.tf_in1k', 'inception_v3.tv_in1k', 'inception_v4.tf_in1k', 'lambda_resnet26rpt_256.c1_in1k', 'lambda_resnet26t.c1_in1k', 'lambda_resnet50ts.a1h_in1k', 'lamhalobotnet50ts_256.a1h_in1k', 'lcnet_050.ra2_in1k', 'lcnet_075.ra2_in1k', 'lcnet_100.ra2_in1k', 'legacy_senet154.in1k', 'legacy_seresnet18.in1k', 'legacy_seresnet34.in1k', 'legacy_seresnet50.in1k', 'legacy_seresnet101.in1k', 'legacy_seresnet152.in1k', 'legacy_seresnext26_32x4d.in1k', 'legacy_seresnext50_32x4d.in1k', 'legacy_seresnext101_32x4d.in1k', 'legacy_xception.tf_in1k', 'levit_128.fb_dist_in1k', 'levit_128s.fb_dist_in1k', 'levit_192.fb_dist_in1k', 'levit_256.fb_dist_in1k', 'levit_384.fb_dist_in1k', 'levit_conv_128.fb_dist_in1k', 'levit_conv_128s.fb_dist_in1k', 'levit_conv_192.fb_dist_in1k', 'levit_conv_256.fb_dist_in1k', 'levit_conv_384.fb_dist_in1k', 'maxvit_base_tf_224.in1k', 'maxvit_base_tf_224.in21k', 'maxvit_base_tf_384.in1k', 'maxvit_base_tf_384.in21k_ft_in1k', 'maxvit_base_tf_512.in1k', 'maxvit_base_tf_512.in21k_ft_in1k', 'maxvit_large_tf_224.in1k', 'maxvit_large_tf_224.in21k', 'maxvit_large_tf_384.in1k', 'maxvit_large_tf_384.in21k_ft_in1k', 'maxvit_large_tf_512.in1k', 'maxvit_large_tf_512.in21k_ft_in1k', 'maxvit_nano_rw_256.sw_in1k', 'maxvit_rmlp_base_rw_224.sw_in12k', 'maxvit_rmlp_base_rw_224.sw_in12k_ft_in1k', 'maxvit_rmlp_base_rw_384.sw_in12k_ft_in1k', 'maxvit_rmlp_nano_rw_256.sw_in1k', 'maxvit_rmlp_pico_rw_256.sw_in1k', 'maxvit_rmlp_small_rw_224.sw_in1k', 'maxvit_rmlp_tiny_rw_256.sw_in1k', 'maxvit_small_tf_224.in1k', 'maxvit_small_tf_384.in1k', 'maxvit_small_tf_512.in1k', 'maxvit_tiny_rw_224.sw_in1k', 'maxvit_tiny_tf_224.in1k', 'maxvit_tiny_tf_384.in1k', 'maxvit_tiny_tf_512.in1k', 'maxvit_xlarge_tf_224.in21k', 'maxvit_xlarge_tf_384.in21k_ft_in1k', 'maxvit_xlarge_tf_512.in21k_ft_in1k', 'maxxvit_rmlp_nano_rw_256.sw_in1k', 'maxxvit_rmlp_small_rw_256.sw_in1k', 'maxxvitv2_nano_rw_256.sw_in1k', 'maxxvitv2_rmlp_base_rw_224.sw_in12k', 'maxxvitv2_rmlp_base_rw_224.sw_in12k_ft_in1k', 'maxxvitv2_rmlp_base_rw_384.sw_in12k_ft_in1k', 'mixer_b16_224.goog_in21k', 'mixer_b16_224.goog_in21k_ft_in1k', 'mixer_b16_224.miil_in21k', 'mixer_b16_224.miil_in21k_ft_in1k', 'mixer_l16_224.goog_in21k', 'mixer_l16_224.goog_in21k_ft_in1k', 'mixnet_l.ft_in1k', 'mixnet_m.ft_in1k', 'mixnet_s.ft_in1k', 'mixnet_xl.ra_in1k', 'mnasnet_100.rmsp_in1k', 'mnasnet_small.lamb_in1k', 'mobilenetv2_050.lamb_in1k', 'mobilenetv2_100.ra_in1k', 'mobilenetv2_110d.ra_in1k', 'mobilenetv2_120d.ra_in1k', 'mobilenetv2_140.ra_in1k', 'mobilenetv3_large_100.miil_in21k', 'mobilenetv3_large_100.miil_in21k_ft_in1k', 'mobilenetv3_large_100.ra_in1k', 'mobilenetv3_rw.rmsp_in1k', 'mobilenetv3_small_050.lamb_in1k', 'mobilenetv3_small_075.lamb_in1k', 'mobilenetv3_small_100.lamb_in1k', 'mobileone_s0.apple_in1k', 'mobileone_s1.apple_in1k', 'mobileone_s2.apple_in1k', 'mobileone_s3.apple_in1k', 'mobileone_s4.apple_in1k', 'mobilevit_s.cvnets_in1k', 'mobilevit_xs.cvnets_in1k', 'mobilevit_xxs.cvnets_in1k', 'mobilevitv2_050.cvnets_in1k', 'mobilevitv2_075.cvnets_in1k', 'mobilevitv2_100.cvnets_in1k', 'mobilevitv2_125.cvnets_in1k', 'mobilevitv2_150.cvnets_in1k', 'mobilevitv2_150.cvnets_in22k_ft_in1k', 'mobilevitv2_150.cvnets_in22k_ft_in1k_384', 'mobilevitv2_175.cvnets_in1k', 'mobilevitv2_175.cvnets_in22k_ft_in1k', 'mobilevitv2_175.cvnets_in22k_ft_in1k_384', 'mobilevitv2_200.cvnets_in1k', 'mobilevitv2_200.cvnets_in22k_ft_in1k', 'mobilevitv2_200.cvnets_in22k_ft_in1k_384', 'mvitv2_base.fb_in1k', 'mvitv2_base_cls.fb_inw21k', 'mvitv2_huge_cls.fb_inw21k', 'mvitv2_large.fb_in1k', 'mvitv2_large_cls.fb_inw21k', 'mvitv2_small.fb_in1k', 'mvitv2_tiny.fb_in1k', 'nasnetalarge.tf_in1k', 'nest_base_jx.goog_in1k', 'nest_small_jx.goog_in1k', 'nest_tiny_jx.goog_in1k', 'nf_regnet_b1.ra2_in1k', 'nf_resnet50.ra2_in1k', 'nfnet_l0.ra2_in1k', 'pit_b_224.in1k', 'pit_b_distilled_224.in1k', 'pit_s_224.in1k', 'pit_s_distilled_224.in1k', 'pit_ti_224.in1k', 'pit_ti_distilled_224.in1k', 'pit_xs_224.in1k', 'pit_xs_distilled_224.in1k', 'pnasnet5large.tf_in1k', 'poolformer_m36.sail_in1k', 'poolformer_m48.sail_in1k', 'poolformer_s12.sail_in1k', 'poolformer_s24.sail_in1k', 'poolformer_s36.sail_in1k', 'poolformerv2_m36.sail_in1k', 'poolformerv2_m48.sail_in1k', 'poolformerv2_s12.sail_in1k', 'poolformerv2_s24.sail_in1k', 'poolformerv2_s36.sail_in1k', 'pvt_v2_b0.in1k', 'pvt_v2_b1.in1k', 'pvt_v2_b2.in1k', 'pvt_v2_b2_li.in1k', 'pvt_v2_b3.in1k', 'pvt_v2_b4.in1k', 'pvt_v2_b5.in1k', 'regnetv_040.ra3_in1k', 'regnetv_064.ra3_in1k', 'regnetx_002.pycls_in1k', 'regnetx_004.pycls_in1k', 'regnetx_004_tv.tv2_in1k', 'regnetx_006.pycls_in1k', 'regnetx_008.pycls_in1k', 'regnetx_008.tv2_in1k', 'regnetx_016.pycls_in1k', 'regnetx_016.tv2_in1k', 'regnetx_032.pycls_in1k', 'regnetx_032.tv2_in1k', 'regnetx_040.pycls_in1k', 'regnetx_064.pycls_in1k', 'regnetx_080.pycls_in1k', 'regnetx_080.tv2_in1k', 'regnetx_120.pycls_in1k', 'regnetx_160.pycls_in1k', 'regnetx_160.tv2_in1k', 'regnetx_320.pycls_in1k', 'regnetx_320.tv2_in1k', 'regnety_002.pycls_in1k', 'regnety_004.pycls_in1k', 'regnety_004.tv2_in1k', 'regnety_006.pycls_in1k', 'regnety_008.pycls_in1k', 'regnety_008_tv.tv2_in1k', 'regnety_016.pycls_in1k', 'regnety_016.tv2_in1k', 'regnety_032.pycls_in1k', 'regnety_032.ra_in1k', 'regnety_032.tv2_in1k', 'regnety_040.pycls_in1k', 'regnety_040.ra3_in1k', 'regnety_064.pycls_in1k', 'regnety_064.ra3_in1k', 'regnety_080.pycls_in1k', 'regnety_080.ra3_in1k', 'regnety_080_tv.tv2_in1k', 'regnety_120.pycls_in1k', 'regnety_120.sw_in12k', 'regnety_120.sw_in12k_ft_in1k', 'regnety_160.deit_in1k', 'regnety_160.lion_in12k_ft_in1k', 'regnety_160.pycls_in1k', 'regnety_160.sw_in12k', 'regnety_160.sw_in12k_ft_in1k', 'regnety_160.swag_ft_in1k', 'regnety_160.swag_lc_in1k', 'regnety_160.tv2_in1k', 'regnety_320.pycls_in1k', 'regnety_320.seer', 'regnety_320.seer_ft_in1k', 'regnety_320.swag_ft_in1k', 'regnety_320.swag_lc_in1k', 'regnety_320.tv2_in1k', 'regnety_640.seer', 'regnety_640.seer_ft_in1k', 'regnety_1280.seer', 'regnety_1280.seer_ft_in1k', 'regnety_1280.swag_ft_in1k', 'regnety_1280.swag_lc_in1k', 'regnety_2560.seer_ft_in1k', 'regnetz_040.ra3_in1k', 'regnetz_040_h.ra3_in1k', 'regnetz_b16.ra3_in1k', 'regnetz_c16.ra3_in1k', 'regnetz_c16_evos.ch_in1k', 'regnetz_d8.ra3_in1k', 'regnetz_d8_evos.ch_in1k', 'regnetz_d32.ra3_in1k', 'regnetz_e8.ra3_in1k', 'repghostnet_050.in1k', 'repghostnet_058.in1k', 'repghostnet_080.in1k', 'repghostnet_100.in1k', 'repghostnet_111.in1k', 'repghostnet_130.in1k', 'repghostnet_150.in1k', 'repghostnet_200.in1k', 'repvgg_a0.rvgg_in1k', 'repvgg_a1.rvgg_in1k', 'repvgg_a2.rvgg_in1k', 'repvgg_b0.rvgg_in1k', 'repvgg_b1.rvgg_in1k', 'repvgg_b1g4.rvgg_in1k', 'repvgg_b2.rvgg_in1k', 'repvgg_b2g4.rvgg_in1k', 'repvgg_b3.rvgg_in1k', 'repvgg_b3g4.rvgg_in1k', 'repvgg_d2se.rvgg_in1k', 'repvit_m1.dist_in1k', 'repvit_m2.dist_in1k', 'repvit_m3.dist_in1k', 'res2net50_14w_8s.in1k', 'res2net50_26w_4s.in1k', 'res2net50_26w_6s.in1k', 'res2net50_26w_8s.in1k', 'res2net50_48w_2s.in1k', 'res2net50d.in1k', 'res2net101_26w_4s.in1k', 'res2net101d.in1k', 'res2next50.in1k', 'resmlp_12_224.fb_dino', 'resmlp_12_224.fb_distilled_in1k', 'resmlp_12_224.fb_in1k', 'resmlp_24_224.fb_dino', 'resmlp_24_224.fb_distilled_in1k', 'resmlp_24_224.fb_in1k', 'resmlp_36_224.fb_distilled_in1k', 'resmlp_36_224.fb_in1k', 'resmlp_big_24_224.fb_distilled_in1k', 'resmlp_big_24_224.fb_in1k', 'resmlp_big_24_224.fb_in22k_ft_in1k', 'resnest14d.gluon_in1k', 'resnest26d.gluon_in1k', 'resnest50d.in1k', 'resnest50d_1s4x24d.in1k', 'resnest50d_4s2x40d.in1k', 'resnest101e.in1k', 'resnest200e.in1k', 'resnest269e.in1k', 'resnet10t.c3_in1k', 'resnet14t.c3_in1k', 'resnet18.a1_in1k', 'resnet18.a2_in1k', 'resnet18.a3_in1k', 'resnet18.fb_ssl_yfcc100m_ft_in1k', 'resnet18.fb_swsl_ig1b_ft_in1k', 'resnet18.gluon_in1k', 'resnet18.tv_in1k', 'resnet18d.ra2_in1k', 'resnet26.bt_in1k', 'resnet26d.bt_in1k', 'resnet26t.ra2_in1k', 'resnet32ts.ra2_in1k', 'resnet33ts.ra2_in1k', 'resnet34.a1_in1k', 'resnet34.a2_in1k', 'resnet34.a3_in1k', 'resnet34.bt_in1k', 'resnet34.gluon_in1k', 'resnet34.tv_in1k', 'resnet34d.ra2_in1k', 'resnet50.a1_in1k', 'resnet50.a1h_in1k', 'resnet50.a2_in1k', 'resnet50.a3_in1k', 'resnet50.am_in1k', 'resnet50.b1k_in1k', 'resnet50.b2k_in1k', 'resnet50.bt_in1k', 'resnet50.c1_in1k', 'resnet50.c2_in1k', 'resnet50.d_in1k', 'resnet50.fb_ssl_yfcc100m_ft_in1k', 'resnet50.fb_swsl_ig1b_ft_in1k', 'resnet50.gluon_in1k', 'resnet50.ra_in1k', 'resnet50.ram_in1k', 'resnet50.tv2_in1k', 'resnet50.tv_in1k', 'resnet50_gn.a1h_in1k', 'resnet50c.gluon_in1k', 'resnet50d.a1_in1k', 'resnet50d.a2_in1k', 'resnet50d.a3_in1k', 'resnet50d.gluon_in1k', 'resnet50d.ra2_in1k', 'resnet50s.gluon_in1k', 'resnet51q.ra2_in1k', 'resnet61q.ra2_in1k', 'resnet101.a1_in1k', 'resnet101.a1h_in1k', 'resnet101.a2_in1k', 'resnet101.a3_in1k', 'resnet101.gluon_in1k', 'resnet101.tv2_in1k', 'resnet101.tv_in1k', 'resnet101c.gluon_in1k', 'resnet101d.gluon_in1k', 'resnet101d.ra2_in1k', 'resnet101s.gluon_in1k', 'resnet152.a1_in1k', 'resnet152.a1h_in1k', 'resnet152.a2_in1k', 'resnet152.a3_in1k', 'resnet152.gluon_in1k', 'resnet152.tv2_in1k', 'resnet152.tv_in1k', 'resnet152c.gluon_in1k', 'resnet152d.gluon_in1k', 'resnet152d.ra2_in1k', 'resnet152s.gluon_in1k', 'resnet200d.ra2_in1k', 'resnetaa50.a1h_in1k', 'resnetaa50d.d_in12k', 'resnetaa50d.sw_in12k', 'resnetaa50d.sw_in12k_ft_in1k', 'resnetaa101d.sw_in12k', 'resnetaa101d.sw_in12k_ft_in1k', 'resnetblur50.bt_in1k', 'resnetrs50.tf_in1k', 'resnetrs101.tf_in1k', 'resnetrs152.tf_in1k', 'resnetrs200.tf_in1k', 'resnetrs270.tf_in1k', 'resnetrs350.tf_in1k', 'resnetrs420.tf_in1k', 'resnetv2_50.a1h_in1k', 'resnetv2_50d_evos.ah_in1k', 'resnetv2_50d_gn.ah_in1k', 'resnetv2_50x1_bit.goog_distilled_in1k', 'resnetv2_50x1_bit.goog_in21k', 'resnetv2_50x1_bit.goog_in21k_ft_in1k', 'resnetv2_50x3_bit.goog_in21k', 'resnetv2_50x3_bit.goog_in21k_ft_in1k', 'resnetv2_101.a1h_in1k', 'resnetv2_101x1_bit.goog_in21k', 'resnetv2_101x1_bit.goog_in21k_ft_in1k', 'resnetv2_101x3_bit.goog_in21k', 'resnetv2_101x3_bit.goog_in21k_ft_in1k', 'resnetv2_152x2_bit.goog_in21k', 'resnetv2_152x2_bit.goog_in21k_ft_in1k', 'resnetv2_152x2_bit.goog_teacher_in21k_ft_in1k', 'resnetv2_152x2_bit.goog_teacher_in21k_ft_in1k_384', 'resnetv2_152x4_bit.goog_in21k', 'resnetv2_152x4_bit.goog_in21k_ft_in1k', 'resnext26ts.ra2_in1k', 'resnext50_32x4d.a1_in1k', 'resnext50_32x4d.a1h_in1k', 'resnext50_32x4d.a2_in1k', 'resnext50_32x4d.a3_in1k', 'resnext50_32x4d.fb_ssl_yfcc100m_ft_in1k', 'resnext50_32x4d.fb_swsl_ig1b_ft_in1k', 'resnext50_32x4d.gluon_in1k', 'resnext50_32x4d.ra_in1k', 'resnext50_32x4d.tv2_in1k', 'resnext50_32x4d.tv_in1k', 'resnext50d_32x4d.bt_in1k', 'resnext101_32x4d.fb_ssl_yfcc100m_ft_in1k', 'resnext101_32x4d.fb_swsl_ig1b_ft_in1k', 'resnext101_32x4d.gluon_in1k', 'resnext101_32x8d.fb_ssl_yfcc100m_ft_in1k', 'resnext101_32x8d.fb_swsl_ig1b_ft_in1k', 'resnext101_32x8d.fb_wsl_ig1b_ft_in1k', 'resnext101_32x8d.tv2_in1k', 'resnext101_32x8d.tv_in1k', 'resnext101_32x16d.fb_ssl_yfcc100m_ft_in1k', 'resnext101_32x16d.fb_swsl_ig1b_ft_in1k', 'resnext101_32x16d.fb_wsl_ig1b_ft_in1k', 'resnext101_32x32d.fb_wsl_ig1b_ft_in1k', 'resnext101_64x4d.c1_in1k', 'resnext101_64x4d.gluon_in1k', 'resnext101_64x4d.tv_in1k', 'rexnet_100.nav_in1k', 'rexnet_130.nav_in1k', 'rexnet_150.nav_in1k', 'rexnet_200.nav_in1k', 'rexnet_300.nav_in1k', 'rexnetr_200.sw_in12k', 'rexnetr_200.sw_in12k_ft_in1k', 'rexnetr_300.sw_in12k', 'rexnetr_300.sw_in12k_ft_in1k', 'samvit_base_patch16.sa1b', 'samvit_huge_patch16.sa1b', 'samvit_large_patch16.sa1b', 'sebotnet33ts_256.a1h_in1k', 'sehalonet33ts.ra2_in1k', 'selecsls42b.in1k', 'selecsls60.in1k', 'selecsls60b.in1k', 'semnasnet_075.rmsp_in1k', 'semnasnet_100.rmsp_in1k', 'senet154.gluon_in1k', 'sequencer2d_l.in1k', 'sequencer2d_m.in1k', 'sequencer2d_s.in1k', 'seresnet33ts.ra2_in1k', 'seresnet50.a1_in1k', 'seresnet50.a2_in1k', 'seresnet50.a3_in1k', 'seresnet50.ra2_in1k', 'seresnet152d.ra2_in1k', 'seresnext26d_32x4d.bt_in1k', 'seresnext26t_32x4d.bt_in1k', 'seresnext26ts.ch_in1k', 'seresnext50_32x4d.gluon_in1k', 'seresnext50_32x4d.racm_in1k', 'seresnext101_32x4d.gluon_in1k', 'seresnext101_32x8d.ah_in1k', 'seresnext101_64x4d.gluon_in1k', 'seresnext101d_32x8d.ah_in1k', 'seresnextaa101d_32x8d.ah_in1k', 'seresnextaa101d_32x8d.sw_in12k', 'seresnextaa101d_32x8d.sw_in12k_ft_in1k', 'seresnextaa101d_32x8d.sw_in12k_ft_in1k_288', 'seresnextaa201d_32x8d.sw_in12k', 'seresnextaa201d_32x8d.sw_in12k_ft_in1k_384', 'skresnet18.ra_in1k', 'skresnet34.ra_in1k', 'skresnext50_32x4d.ra_in1k', 'spnasnet_100.rmsp_in1k', 'swin_base_patch4_window7_224.ms_in1k', 'swin_base_patch4_window7_224.ms_in22k', 'swin_base_patch4_window7_224.ms_in22k_ft_in1k', 'swin_base_patch4_window12_384.ms_in1k', 'swin_base_patch4_window12_384.ms_in22k', 'swin_base_patch4_window12_384.ms_in22k_ft_in1k', 'swin_large_patch4_window7_224.ms_in22k', 'swin_large_patch4_window7_224.ms_in22k_ft_in1k', 'swin_large_patch4_window12_384.ms_in22k', 'swin_large_patch4_window12_384.ms_in22k_ft_in1k', 'swin_s3_base_224.ms_in1k', 'swin_s3_small_224.ms_in1k', 'swin_s3_tiny_224.ms_in1k', 'swin_small_patch4_window7_224.ms_in1k', 'swin_small_patch4_window7_224.ms_in22k', 'swin_small_patch4_window7_224.ms_in22k_ft_in1k', 'swin_tiny_patch4_window7_224.ms_in1k', 'swin_tiny_patch4_window7_224.ms_in22k', 'swin_tiny_patch4_window7_224.ms_in22k_ft_in1k', 'swinv2_base_window8_256.ms_in1k', 'swinv2_base_window12_192.ms_in22k', 'swinv2_base_window12to16_192to256.ms_in22k_ft_in1k', 'swinv2_base_window12to24_192to384.ms_in22k_ft_in1k', 'swinv2_base_window16_256.ms_in1k', 'swinv2_cr_small_224.sw_in1k', 'swinv2_cr_small_ns_224.sw_in1k', 'swinv2_cr_tiny_ns_224.sw_in1k', 'swinv2_large_window12_192.ms_in22k', 'swinv2_large_window12to16_192to256.ms_in22k_ft_in1k', 'swinv2_large_window12to24_192to384.ms_in22k_ft_in1k', 'swinv2_small_window8_256.ms_in1k', 'swinv2_small_window16_256.ms_in1k', 'swinv2_tiny_window8_256.ms_in1k', 'swinv2_tiny_window16_256.ms_in1k', 'tf_efficientnet_b0.aa_in1k', 'tf_efficientnet_b0.ap_in1k', 'tf_efficientnet_b0.in1k', 'tf_efficientnet_b0.ns_jft_in1k', 'tf_efficientnet_b1.aa_in1k', 'tf_efficientnet_b1.ap_in1k', 'tf_efficientnet_b1.in1k', 'tf_efficientnet_b1.ns_jft_in1k', 'tf_efficientnet_b2.aa_in1k', 'tf_efficientnet_b2.ap_in1k', 'tf_efficientnet_b2.in1k', 'tf_efficientnet_b2.ns_jft_in1k', 'tf_efficientnet_b3.aa_in1k', 'tf_efficientnet_b3.ap_in1k', 'tf_efficientnet_b3.in1k', 'tf_efficientnet_b3.ns_jft_in1k', 'tf_efficientnet_b4.aa_in1k', 'tf_efficientnet_b4.ap_in1k', 'tf_efficientnet_b4.in1k', 'tf_efficientnet_b4.ns_jft_in1k', 'tf_efficientnet_b5.aa_in1k', 'tf_efficientnet_b5.ap_in1k', 'tf_efficientnet_b5.in1k', 'tf_efficientnet_b5.ns_jft_in1k', 'tf_efficientnet_b5.ra_in1k', 'tf_efficientnet_b6.aa_in1k', 'tf_efficientnet_b6.ap_in1k', 'tf_efficientnet_b6.ns_jft_in1k', 'tf_efficientnet_b7.aa_in1k', 'tf_efficientnet_b7.ap_in1k', 'tf_efficientnet_b7.ns_jft_in1k', 'tf_efficientnet_b7.ra_in1k', 'tf_efficientnet_b8.ap_in1k', 'tf_efficientnet_b8.ra_in1k', 'tf_efficientnet_cc_b0_4e.in1k', 'tf_efficientnet_cc_b0_8e.in1k', 'tf_efficientnet_cc_b1_8e.in1k', 'tf_efficientnet_el.in1k', 'tf_efficientnet_em.in1k', 'tf_efficientnet_es.in1k', 'tf_efficientnet_l2.ns_jft_in1k', 'tf_efficientnet_l2.ns_jft_in1k_475', 'tf_efficientnet_lite0.in1k', 'tf_efficientnet_lite1.in1k', 'tf_efficientnet_lite2.in1k', 'tf_efficientnet_lite3.in1k', 'tf_efficientnet_lite4.in1k', 'tf_efficientnetv2_b0.in1k', 'tf_efficientnetv2_b1.in1k', 'tf_efficientnetv2_b2.in1k', 'tf_efficientnetv2_b3.in1k', 'tf_efficientnetv2_b3.in21k', 'tf_efficientnetv2_b3.in21k_ft_in1k', 'tf_efficientnetv2_l.in1k', 'tf_efficientnetv2_l.in21k', 'tf_efficientnetv2_l.in21k_ft_in1k', 'tf_efficientnetv2_m.in1k', 'tf_efficientnetv2_m.in21k', 'tf_efficientnetv2_m.in21k_ft_in1k', 'tf_efficientnetv2_s.in1k', 'tf_efficientnetv2_s.in21k', 'tf_efficientnetv2_s.in21k_ft_in1k', 'tf_efficientnetv2_xl.in21k', 'tf_efficientnetv2_xl.in21k_ft_in1k', 'tf_mixnet_l.in1k', 'tf_mixnet_m.in1k', 'tf_mixnet_s.in1k', 'tf_mobilenetv3_large_075.in1k', 'tf_mobilenetv3_large_100.in1k', 'tf_mobilenetv3_large_minimal_100.in1k', 'tf_mobilenetv3_small_075.in1k', 'tf_mobilenetv3_small_100.in1k', 'tf_mobilenetv3_small_minimal_100.in1k', 'tiny_vit_5m_224.dist_in22k', 'tiny_vit_5m_224.dist_in22k_ft_in1k', 'tiny_vit_5m_224.in1k', 'tiny_vit_11m_224.dist_in22k', 'tiny_vit_11m_224.dist_in22k_ft_in1k', 'tiny_vit_11m_224.in1k', 'tiny_vit_21m_224.dist_in22k', 'tiny_vit_21m_224.dist_in22k_ft_in1k', 'tiny_vit_21m_224.in1k', 'tiny_vit_21m_384.dist_in22k_ft_in1k', 'tiny_vit_21m_512.dist_in22k_ft_in1k', 'tinynet_a.in1k', 'tinynet_b.in1k', 'tinynet_c.in1k', 'tinynet_d.in1k', 'tinynet_e.in1k', 'tnt_s_patch16_224', 'tresnet_l.miil_in1k', 'tresnet_l.miil_in1k_448', 'tresnet_m.miil_in1k', 'tresnet_m.miil_in1k_448', 'tresnet_m.miil_in21k', 'tresnet_m.miil_in21k_ft_in1k', 'tresnet_v2_l.miil_in21k', 'tresnet_v2_l.miil_in21k_ft_in1k', 'tresnet_xl.miil_in1k', 'tresnet_xl.miil_in1k_448', 'twins_pcpvt_base.in1k', 'twins_pcpvt_large.in1k', 'twins_pcpvt_small.in1k', 'twins_svt_base.in1k', 'twins_svt_large.in1k', 'twins_svt_small.in1k', 'vgg11.tv_in1k', 'vgg11_bn.tv_in1k', 'vgg13.tv_in1k', 'vgg13_bn.tv_in1k', 'vgg16.tv_in1k', 'vgg16_bn.tv_in1k', 'vgg19.tv_in1k', 'vgg19_bn.tv_in1k', 'visformer_small.in1k', 'visformer_tiny.in1k', 'vit_base_patch8_224.augreg2_in21k_ft_in1k', 'vit_base_patch8_224.augreg_in21k', 'vit_base_patch8_224.augreg_in21k_ft_in1k', 'vit_base_patch8_224.dino', 'vit_base_patch14_dinov2.lvd142m', 'vit_base_patch16_224.augreg2_in21k_ft_in1k', 'vit_base_patch16_224.augreg_in1k', 'vit_base_patch16_224.augreg_in21k', 'vit_base_patch16_224.augreg_in21k_ft_in1k', 'vit_base_patch16_224.dino', 'vit_base_patch16_224.mae', 'vit_base_patch16_224.orig_in21k_ft_in1k', 'vit_base_patch16_224.sam_in1k', 'vit_base_patch16_224_miil.in21k', 'vit_base_patch16_224_miil.in21k_ft_in1k', 'vit_base_patch16_384.augreg_in1k', 'vit_base_patch16_384.augreg_in21k_ft_in1k', 'vit_base_patch16_384.orig_in21k_ft_in1k', 'vit_base_patch16_clip_224.datacompxl', 'vit_base_patch16_clip_224.laion2b', 'vit_base_patch16_clip_224.laion2b_ft_in1k', 'vit_base_patch16_clip_224.laion2b_ft_in12k', 'vit_base_patch16_clip_224.laion2b_ft_in12k_in1k', 'vit_base_patch16_clip_224.openai', 'vit_base_patch16_clip_224.openai_ft_in1k', 'vit_base_patch16_clip_224.openai_ft_in12k', 'vit_base_patch16_clip_224.openai_ft_in12k_in1k', 'vit_base_patch16_clip_384.laion2b_ft_in1k', 'vit_base_patch16_clip_384.laion2b_ft_in12k_in1k', 'vit_base_patch16_clip_384.openai_ft_in1k', 'vit_base_patch16_clip_384.openai_ft_in12k_in1k', 'vit_base_patch16_rpn_224.sw_in1k', 'vit_base_patch32_224.augreg_in1k', 'vit_base_patch32_224.augreg_in21k', 'vit_base_patch32_224.augreg_in21k_ft_in1k', 'vit_base_patch32_224.sam_in1k', 'vit_base_patch32_384.augreg_in1k', 'vit_base_patch32_384.augreg_in21k_ft_in1k', 'vit_base_patch32_clip_224.laion2b', 'vit_base_patch32_clip_224.laion2b_ft_in1k', 'vit_base_patch32_clip_224.laion2b_ft_in12k_in1k', 'vit_base_patch32_clip_224.openai', 'vit_base_patch32_clip_224.openai_ft_in1k', 'vit_base_patch32_clip_384.laion2b_ft_in12k_in1k', 'vit_base_patch32_clip_384.openai_ft_in12k_in1k', 'vit_base_patch32_clip_448.laion2b_ft_in12k_in1k', 'vit_base_r50_s16_224.orig_in21k', 'vit_base_r50_s16_384.orig_in21k_ft_in1k', 'vit_giant_patch14_clip_224.laion2b', 'vit_giant_patch14_dinov2.lvd142m', 'vit_gigantic_patch14_clip_224.laion2b', 'vit_gigantic_patch16_224_ijepa.in22k', 'vit_huge_patch14_224.mae', 'vit_huge_patch14_224.orig_in21k', 'vit_huge_patch14_224_ijepa.in1k', 'vit_huge_patch14_224_ijepa.in22k', 'vit_huge_patch14_clip_224.laion2b', 'vit_huge_patch14_clip_224.laion2b_ft_in1k', 'vit_huge_patch14_clip_224.laion2b_ft_in12k', 'vit_huge_patch14_clip_224.laion2b_ft_in12k_in1k', 'vit_huge_patch14_clip_336.laion2b_ft_in12k_in1k', 'vit_huge_patch16_448_ijepa.in1k', 'vit_large_patch14_clip_224.datacompxl', 'vit_large_patch14_clip_224.laion2b', 'vit_large_patch14_clip_224.laion2b_ft_in1k', 'vit_large_patch14_clip_224.laion2b_ft_in12k', 'vit_large_patch14_clip_224.laion2b_ft_in12k_in1k', 'vit_large_patch14_clip_224.openai', 'vit_large_patch14_clip_224.openai_ft_in1k', 'vit_large_patch14_clip_224.openai_ft_in12k', 'vit_large_patch14_clip_224.openai_ft_in12k_in1k', 'vit_large_patch14_clip_336.laion2b_ft_in1k', 'vit_large_patch14_clip_336.laion2b_ft_in12k_in1k', 'vit_large_patch14_clip_336.openai', 'vit_large_patch14_clip_336.openai_ft_in12k_in1k', 'vit_large_patch14_dinov2.lvd142m', 'vit_large_patch16_224.augreg_in21k', 'vit_large_patch16_224.augreg_in21k_ft_in1k', 'vit_large_patch16_224.mae', 'vit_large_patch16_384.augreg_in21k_ft_in1k', 'vit_large_patch32_224.orig_in21k', 'vit_large_patch32_384.orig_in21k_ft_in1k', 'vit_large_r50_s32_224.augreg_in21k', 'vit_large_r50_s32_224.augreg_in21k_ft_in1k', 'vit_large_r50_s32_384.augreg_in21k_ft_in1k', 'vit_medium_patch16_gap_240.sw_in12k', 'vit_medium_patch16_gap_256.sw_in12k_ft_in1k', 'vit_medium_patch16_gap_384.sw_in12k_ft_in1k', 'vit_relpos_base_patch16_224.sw_in1k', 'vit_relpos_base_patch16_clsgap_224.sw_in1k', 'vit_relpos_base_patch32_plus_rpn_256.sw_in1k', 'vit_relpos_medium_patch16_224.sw_in1k', 'vit_relpos_medium_patch16_cls_224.sw_in1k', 'vit_relpos_medium_patch16_rpn_224.sw_in1k', 'vit_relpos_small_patch16_224.sw_in1k', 'vit_small_patch8_224.dino', 'vit_small_patch14_dinov2.lvd142m', 'vit_small_patch16_224.augreg_in1k', 'vit_small_patch16_224.augreg_in21k', 'vit_small_patch16_224.augreg_in21k_ft_in1k', 'vit_small_patch16_224.dino', 'vit_small_patch16_384.augreg_in1k', 'vit_small_patch16_384.augreg_in21k_ft_in1k', 'vit_small_patch32_224.augreg_in21k', 'vit_small_patch32_224.augreg_in21k_ft_in1k', 'vit_small_patch32_384.augreg_in21k_ft_in1k', 'vit_small_r26_s32_224.augreg_in21k', 'vit_small_r26_s32_224.augreg_in21k_ft_in1k', 'vit_small_r26_s32_384.augreg_in21k_ft_in1k', 'vit_srelpos_medium_patch16_224.sw_in1k', 'vit_srelpos_small_patch16_224.sw_in1k', 'vit_tiny_patch16_224.augreg_in21k', 'vit_tiny_patch16_224.augreg_in21k_ft_in1k', 'vit_tiny_patch16_384.augreg_in21k_ft_in1k', 'vit_tiny_r_s16_p8_224.augreg_in21k', 'vit_tiny_r_s16_p8_224.augreg_in21k_ft_in1k', 'vit_tiny_r_s16_p8_384.augreg_in21k_ft_in1k', 'volo_d1_224.sail_in1k', 'volo_d1_384.sail_in1k', 'volo_d2_224.sail_in1k', 'volo_d2_384.sail_in1k', 'volo_d3_224.sail_in1k', 'volo_d3_448.sail_in1k', 'volo_d4_224.sail_in1k', 'volo_d4_448.sail_in1k', 'volo_d5_224.sail_in1k', 'volo_d5_448.sail_in1k', 'volo_d5_512.sail_in1k', 'wide_resnet50_2.racm_in1k', 'wide_resnet50_2.tv2_in1k', 'wide_resnet50_2.tv_in1k', 'wide_resnet101_2.tv2_in1k', 'wide_resnet101_2.tv_in1k', 'xception41.tf_in1k', 'xception41p.ra3_in1k', 'xception65.ra3_in1k', 'xception65.tf_in1k', 'xception65p.ra3_in1k', 'xception71.tf_in1k', 'xcit_large_24_p8_224.fb_dist_in1k', 'xcit_large_24_p8_224.fb_in1k', 'xcit_large_24_p8_384.fb_dist_in1k', 'xcit_large_24_p16_224.fb_dist_in1k', 'xcit_large_24_p16_224.fb_in1k', 'xcit_large_24_p16_384.fb_dist_in1k', 'xcit_medium_24_p8_224.fb_dist_in1k', 'xcit_medium_24_p8_224.fb_in1k', 'xcit_medium_24_p8_384.fb_dist_in1k', 'xcit_medium_24_p16_224.fb_dist_in1k', 'xcit_medium_24_p16_224.fb_in1k', 'xcit_medium_24_p16_384.fb_dist_in1k', 'xcit_nano_12_p8_224.fb_dist_in1k', 'xcit_nano_12_p8_224.fb_in1k', 'xcit_nano_12_p8_384.fb_dist_in1k', 'xcit_nano_12_p16_224.fb_dist_in1k', 'xcit_nano_12_p16_224.fb_in1k', 'xcit_nano_12_p16_384.fb_dist_in1k', 'xcit_small_12_p8_224.fb_dist_in1k', 'xcit_small_12_p8_224.fb_in1k', 'xcit_small_12_p8_384.fb_dist_in1k', 'xcit_small_12_p16_224.fb_dist_in1k', 'xcit_small_12_p16_224.fb_in1k', 'xcit_small_12_p16_384.fb_dist_in1k', 'xcit_small_24_p8_224.fb_dist_in1k', 'xcit_small_24_p8_224.fb_in1k', 'xcit_small_24_p8_384.fb_dist_in1k', 'xcit_small_24_p16_224.fb_dist_in1k', 'xcit_small_24_p16_224.fb_in1k', 'xcit_small_24_p16_384.fb_dist_in1k', 'xcit_tiny_12_p8_224.fb_dist_in1k', 'xcit_tiny_12_p8_224.fb_in1k', 'xcit_tiny_12_p8_384.fb_dist_in1k', 'xcit_tiny_12_p16_224.fb_dist_in1k', 'xcit_tiny_12_p16_224.fb_in1k', 'xcit_tiny_12_p16_384.fb_dist_in1k', 'xcit_tiny_24_p8_224.fb_dist_in1k', 'xcit_tiny_24_p8_224.fb_in1k', 'xcit_tiny_24_p8_384.fb_dist_in1k', 'xcit_tiny_24_p16_224.fb_dist_in1k', 'xcit_tiny_24_p16_224.fb_in1k', 'xcit_tiny_24_p16_384.fb_dist_in1k']\n"
     ]
    }
   ],
   "source": [
    "avail_pretrained_models = timm.list_models(pretrained=True)\n",
    "print(avail_pretrained_models)"
   ]
  },
  {
   "cell_type": "markdown",
   "metadata": {},
   "source": [
    "Check GPU"
   ]
  },
  {
   "cell_type": "code",
   "execution_count": 15,
   "metadata": {},
   "outputs": [
    {
     "name": "stdout",
     "output_type": "stream",
     "text": [
      "Is CUDA supported by this system? True\n",
      "CUDA version: 11.8\n",
      "ID of current CUDA device: 0\n",
      "Name of current CUDA device: NVIDIA GeForce RTX 3060 Laptop GPU\n"
     ]
    }
   ],
   "source": [
    "print(f\"Is CUDA supported by this system? {torch.cuda.is_available()}\")\n",
    "print(f\"CUDA version: {torch.version.cuda}\")\n",
    " \n",
    "# Storing ID of current CUDA device\n",
    "cuda_id = torch.cuda.current_device()\n",
    "print(f\"ID of current CUDA device: {torch.cuda.current_device()}\")\n",
    "       \n",
    "print(f\"Name of current CUDA device: {torch.cuda.get_device_name(cuda_id)}\")"
   ]
  },
  {
   "cell_type": "markdown",
   "metadata": {},
   "source": [
    "Loading a few pre-trained models (Re run this once the epochs are done for the first one, and comment the first one out so that we don't lose our evaluation results)"
   ]
  },
  {
   "cell_type": "code",
   "execution_count": 16,
   "metadata": {},
   "outputs": [
    {
     "name": "stdout",
     "output_type": "stream",
     "text": [
      "Device: cuda\n"
     ]
    }
   ],
   "source": [
    "if torch.cuda.is_available():\n",
    "    device = torch.device(\"cuda\")\n",
    "else:\n",
    "    device = torch.device(\"cpu\")\n",
    "\n",
    "print(f\"Device: {device}\")\n",
    "\n",
    "densenet = timm.create_model('densenet121', pretrained=True, num_classes=2, drop_rate=0.2).to(device)"
   ]
  },
  {
   "cell_type": "markdown",
   "metadata": {},
   "source": [
    "Check Path Accuracy"
   ]
  },
  {
   "cell_type": "code",
   "execution_count": null,
   "metadata": {},
   "outputs": [],
   "source": [
    "print(os.listdir('Alzheimer_s Dataset_binary\\\\src')) # Preliminary Image Processing\\Alzheimer_s Dataset_binary\\src\n",
    "print(os.listdir('Alzheimer_s Dataset_binary\\\\train'))\n",
    "print(os.listdir('Alzheimer_s Dataset_binary\\\\test'))\n",
    "print(os.listdir('Alzheimer_s Dataset_binary\\\\val'))"
   ]
  },
  {
   "cell_type": "markdown",
   "metadata": {},
   "source": [
    "Train Test Validation Split"
   ]
  },
  {
   "cell_type": "code",
   "execution_count": null,
   "metadata": {},
   "outputs": [],
   "source": [
    "# Define the source folder containing subfolders for each class\n",
    "source_folder = 'Alzheimer_s Dataset_binary\\\\src'\n",
    "train_folder = 'Alzheimer_s Dataset_binary\\\\train'\n",
    "test_folder = 'Alzheimer_s Dataset_binary\\\\test'\n",
    "val_folder = 'Alzheimer_s Dataset_binary\\\\val'\n",
    "\n",
    "# Define the ratios for train, test, and validation sets\n",
    "train_ratio = 0.7\n",
    "test_ratio = 0.15\n",
    "val_ratio = 0.15\n",
    "\n",
    "# Create destination folders if they don't exist\n",
    "os.makedirs(train_folder, exist_ok=True)\n",
    "os.makedirs(test_folder, exist_ok=True)\n",
    "os.makedirs(val_folder, exist_ok=True)\n",
    "\n",
    "# List subfolders (classes) in the source folder\n",
    "classes = os.listdir(source_folder)\n",
    "\n",
    "# Loop through each class\n",
    "for class_name in classes:\n",
    "    class_source_folder = os.path.join(source_folder, class_name)\n",
    "    class_train_folder = os.path.join(train_folder, class_name)\n",
    "    class_test_folder = os.path.join(test_folder, class_name)\n",
    "    class_val_folder = os.path.join(val_folder, class_name)\n",
    "\n",
    "    # List image files in the class source folder\n",
    "    image_files = os.listdir(class_source_folder)\n",
    "    random.shuffle(image_files)\n",
    "\n",
    "    # Calculate the number of images for each set based on the defined ratios\n",
    "    total_images = len(image_files)\n",
    "    train_split = int(total_images * train_ratio)\n",
    "    test_split = int(total_images * test_ratio)\n",
    "\n",
    "    # Copy image files to their respective folders for train, test, and validation\n",
    "    for i, image_file in enumerate(image_files):\n",
    "        source_path = os.path.join(class_source_folder, image_file)\n",
    "        if i < train_split:\n",
    "            destination_folder = class_train_folder\n",
    "        elif i < train_split + test_split:\n",
    "            destination_folder = class_test_folder\n",
    "        else:\n",
    "            destination_folder = class_val_folder\n",
    "\n",
    "        destination_path = os.path.join(destination_folder, image_file)\n",
    "        shutil.copyfile(source_path, destination_path)\n"
   ]
  },
  {
   "cell_type": "markdown",
   "metadata": {},
   "source": [
    "Batch Creation"
   ]
  },
  {
   "cell_type": "code",
   "execution_count": 17,
   "metadata": {},
   "outputs": [],
   "source": [
    "transform = transforms.Compose([\n",
    "    transforms.Resize((176, 208)),  # Resize images to a common size (adjust as needed)\n",
    "    transforms.ToTensor(),           # Convert images to tensors\n",
    "    transforms.Normalize((0.485, 0.456, 0.406), (0.229, 0.224, 0.225)),  # Normalize using ImageNet stats\n",
    "])\n",
    "\n",
    "# Load training dataset\n",
    "train_dataset = ImageFolder(root='Alzheimer_s Dataset_binary/temp_train', transform=transform)\n",
    "test_dataset = ImageFolder(root='Alzheimer_s Dataset_binary/test', transform=transform)"
   ]
  },
  {
   "cell_type": "code",
   "execution_count": null,
   "metadata": {},
   "outputs": [],
   "source": [
    "# Define transformations for image preprocessing\n",
    "transform = transforms.Compose([\n",
    "    transforms.Resize((176, 208)),  # Resize images to a common size (adjust as needed)\n",
    "    transforms.ToTensor(),           # Convert images to tensors\n",
    "    transforms.Normalize((0.485, 0.456, 0.406), (0.229, 0.224, 0.225)),  # Normalize using ImageNet stats\n",
    "])\n",
    "\n",
    "# Load training and testing datasets\n",
    "train_dataset = ImageFolder(root='Alzheimer_s Dataset_binary/train', transform=transform)\n",
    "test_dataset = ImageFolder(root='Alzheimer_s Dataset_binary/test', transform=transform)\n",
    "val_dataset = ImageFolder(root='Alzheimer_s Dataset_binary/val', transform=transform)\n",
    "\n",
    "batch_size = 26  # Adjust as needed\n",
    "train_loader = DataLoader(train_dataset, batch_size=batch_size, shuffle=True)\n",
    "test_loader = DataLoader(test_dataset, batch_size=batch_size)\n",
    "val_loader = DataLoader(val_dataset, batch_size=batch_size)\n",
    "\n",
    "print(len(train_loader))\n",
    "print(len(test_loader))\n",
    "print(len(val_loader))\n",
    "print(len(train_dataset))\n",
    "print(len(test_dataset))\n",
    "print(len(val_dataset))"
   ]
  },
  {
   "cell_type": "markdown",
   "metadata": {},
   "source": [
    "Creating data loader iterable"
   ]
  },
  {
   "cell_type": "code",
   "execution_count": 18,
   "metadata": {},
   "outputs": [],
   "source": [
    "# data_loaders = [train_loader, test_loader, val_loader]\n",
    "k = 5\n",
    "results = []"
   ]
  },
  {
   "cell_type": "code",
   "execution_count": 19,
   "metadata": {},
   "outputs": [],
   "source": [
    "from sklearn.model_selection import KFold\n",
    "kf = KFold(n_splits=k, shuffle=True)"
   ]
  },
  {
   "cell_type": "code",
   "execution_count": 20,
   "metadata": {},
   "outputs": [
    {
     "name": "stdout",
     "output_type": "stream",
     "text": [
      "<generator object _BaseKFold.split at 0x000001422F68B530>\n"
     ]
    }
   ],
   "source": [
    "print(kf.split(train_dataset))"
   ]
  },
  {
   "cell_type": "code",
   "execution_count": 21,
   "metadata": {},
   "outputs": [],
   "source": [
    "batch_size = 26  # Adjust as needed"
   ]
  },
  {
   "cell_type": "markdown",
   "metadata": {},
   "source": [
    "Densenet"
   ]
  },
  {
   "cell_type": "code",
   "execution_count": 22,
   "metadata": {},
   "outputs": [
    {
     "name": "stdout",
     "output_type": "stream",
     "text": [
      "Completed epoch 1 with loss 1.1484618186950684, validation loss 0.5057119251024432\n",
      "Completed epoch 2 with loss 1.2884621620178223, validation loss 0.3627873115786692\n",
      "Completed epoch 3 with loss 0.018827371299266815, validation loss 0.2020016667154822\n",
      "Completed epoch 4 with loss 0.006940481252968311, validation loss 0.33010066624038015\n",
      "Completed epoch 5 with loss 0.0029939389787614346, validation loss 0.13381277134151498\n",
      "Completed epoch 6 with loss 0.007666299119591713, validation loss 0.11236935644968447\n",
      "Completed epoch 7 with loss 0.0004390953981783241, validation loss 0.10733184022470463\n",
      "Completed epoch 8 with loss 0.002471413230523467, validation loss 0.15000562258199618\n",
      "Completed epoch 9 with loss 0.0007438694592565298, validation loss 0.10278692701299073\n",
      "Completed epoch 10 with loss 0.5399367809295654, validation loss 0.1635335151474531\n",
      "Completed epoch 11 with loss 0.0034285385627299547, validation loss 0.13939997676203436\n",
      "Completed epoch 12 with loss 0.00025099364574998617, validation loss 0.06483315164223313\n",
      "Completed epoch 13 with loss 1.9962234497070312, validation loss 0.09538069764525195\n",
      "Completed epoch 14 with loss 0.0027278016787022352, validation loss 0.07991527880114252\n",
      "Completed epoch 15 with loss 0.588902473449707, validation loss 0.09668096829764386\n",
      "Completed epoch 16 with loss 0.10885056853294373, validation loss 0.12886813231999417\n",
      "Completed epoch 17 with loss 0.0008250889368355274, validation loss 0.07089854714872783\n",
      "Early stopping triggered\n",
      "Done \n",
      "\n",
      "\n",
      "Completed epoch 1 with loss 0.0037701944820582867, validation loss 0.009216065599303408\n",
      "Completed epoch 2 with loss 0.09134851396083832, validation loss 0.0032810796688952505\n",
      "Completed epoch 3 with loss 0.00042849848978221416, validation loss 0.0017437244545384957\n",
      "Completed epoch 4 with loss 0.00029483844991773367, validation loss 0.0034979860012044365\n",
      "Completed epoch 5 with loss 0.0034196763299405575, validation loss 0.001504514736730127\n",
      "Completed epoch 6 with loss 1.966567873954773, validation loss 0.001079062007059891\n",
      "Completed epoch 7 with loss 0.5882751941680908, validation loss 0.011245854372845782\n",
      "Completed epoch 8 with loss 0.0016891638515517116, validation loss 0.00948817574042151\n",
      "Completed epoch 9 with loss 0.0002722094068303704, validation loss 0.004871567255821258\n",
      "Completed epoch 10 with loss 3.5774152278900146, validation loss 0.023614466699100597\n",
      "Completed epoch 11 with loss 0.7067097425460815, validation loss 0.006152913117747209\n",
      "Early stopping triggered\n",
      "Done \n",
      "\n",
      "\n",
      "Completed epoch 1 with loss 0.0003025247424375266, validation loss 0.001041337632059589\n",
      "Completed epoch 2 with loss 0.002657443517819047, validation loss 0.0007145421496915799\n",
      "Completed epoch 3 with loss 0.14614537358283997, validation loss 0.0007144804431934573\n",
      "Completed epoch 4 with loss 0.00035786672378890216, validation loss 0.0004371556064498003\n",
      "Completed epoch 5 with loss 4.093451023101807, validation loss 0.0013926514964945143\n",
      "Completed epoch 6 with loss 1.0318243503570557, validation loss 0.0019558999586620747\n",
      "Completed epoch 7 with loss 0.00990336574614048, validation loss 0.0022098591344929\n",
      "Completed epoch 8 with loss 1.6927522665355355e-05, validation loss 0.0025342361341023295\n",
      "Completed epoch 9 with loss 8.260858157882467e-05, validation loss 0.0010574080031846079\n",
      "Early stopping triggered\n",
      "Done \n",
      "\n",
      "\n",
      "Completed epoch 1 with loss 0.010713346302509308, validation loss 0.00018733185870587477\n",
      "Completed epoch 2 with loss 9.166563540929928e-05, validation loss 0.0005776316922492697\n",
      "Completed epoch 3 with loss 0.0034241110552102327, validation loss 0.00022138823510431394\n",
      "Completed epoch 4 with loss 0.00016919674817472696, validation loss 0.0002327157788556633\n",
      "Completed epoch 5 with loss 2.853891372680664, validation loss 0.00022264738294097697\n",
      "Completed epoch 6 with loss 0.10030177980661392, validation loss 0.0006227151276561926\n",
      "Early stopping triggered\n",
      "Done \n",
      "\n",
      "\n",
      "Completed epoch 1 with loss 0.0025943389628082514, validation loss 0.00026520572851040924\n",
      "Completed epoch 2 with loss 2.5011074542999268, validation loss 0.0008044633129429713\n",
      "Completed epoch 3 with loss 0.1854642629623413, validation loss 0.0021461455128701347\n",
      "Completed epoch 4 with loss 4.803924821317196e-05, validation loss 0.001172325642164651\n",
      "Completed epoch 5 with loss 0.00030428843456320465, validation loss 0.000820036013783465\n",
      "Completed epoch 6 with loss 0.00022428012744057924, validation loss 0.0005256392702904123\n",
      "Early stopping triggered\n",
      "Done \n",
      "\n",
      "\n",
      "Average accuracy: 98.85%\n"
     ]
    }
   ],
   "source": [
    "csv_logger = CSVLogger(\"logs\", name=\"densenet121_k_fold\")\n",
    "test_loader = DataLoader(test_dataset, batch_size=batch_size)\n",
    "for train_idx, val_idx in kf.split(train_dataset):\n",
    "    train_subset = torch.utils.data.Subset(train_dataset, train_idx)\n",
    "    val_subset = torch.utils.data.Subset(train_dataset, val_idx)\n",
    "\n",
    "    train_loader = DataLoader(train_subset, batch_size=batch_size, shuffle=True)\n",
    "    val_loader = DataLoader(val_subset, batch_size=batch_size)\n",
    "\n",
    "    loss_value = torch.nn.CrossEntropyLoss()\n",
    "\n",
    "    densenet_opt = optim.SGD(densenet.parameters(), lr=0.001, momentum=0.9)\n",
    "\n",
    "    # Training loop\n",
    "    num_epochs = 30  \n",
    "    early_stopping = False  \n",
    "    best_loss = float('inf') \n",
    "    patience = 5 \n",
    "\n",
    "    for epoch in range(num_epochs):\n",
    "        densenet.train()  \n",
    "        # Training\n",
    "        for inputs, labels in train_loader:\n",
    "            inputs, labels = inputs.to(device), labels.to(device)\n",
    "            densenet_opt.zero_grad()\n",
    "            outputs = densenet(inputs)\n",
    "            loss = loss_value(outputs, labels)\n",
    "            loss.backward()\n",
    "            densenet_opt.step()\n",
    "        \n",
    "        # Validation\n",
    "        densenet.eval()  \n",
    "        val_loss = 0.0\n",
    "        for val_inputs, val_labels in val_loader:\n",
    "            val_inputs, val_labels = val_inputs.to(device), val_labels.to(device)\n",
    "            val_outputs = densenet(val_inputs)\n",
    "            val_loss += loss_value(val_outputs, val_labels).item()\n",
    "        val_loss /= len(val_loader)\n",
    "        \n",
    "        print(f\"Completed epoch {epoch + 1} with loss {loss.item()}, validation loss {val_loss}\")\n",
    "        \n",
    "        # Early stopping\n",
    "        if val_loss < best_loss:\n",
    "            best_loss = val_loss\n",
    "            patience_counter = 0  \n",
    "        else:\n",
    "            patience_counter += 1  \n",
    "            \n",
    "            # If validation loss hasn't improved for 'patience' epochs, stop early\n",
    "            if patience_counter >= patience:\n",
    "                print(\"Early stopping triggered\")\n",
    "                early_stopping = True\n",
    "                break\n",
    "        \n",
    "        if early_stopping:\n",
    "            break\n",
    "\n",
    "    # -----------------------------------------\n",
    "\n",
    "    correct = 0\n",
    "    total = 0\n",
    "    densenet.eval()  # Set the model to evaluation mode\n",
    "    with torch.no_grad():\n",
    "        for inputs, labels in test_loader:\n",
    "            inputs, labels = inputs.to(device), labels.to(device)\n",
    "            outputs = densenet(inputs)\n",
    "            _, predicted = torch.max(outputs.data, 1)\n",
    "            total += labels.size(0)\n",
    "            correct += (predicted == labels).sum().item()\n",
    "\n",
    "    accuracy = 100 * correct / total\n",
    "    results.append(accuracy)\n",
    "    print(\"Done \\n\\n\")\n",
    "# print('\\n\\nAccuracy on the test dataset: {:.2f}%'.format(accuracy))\n",
    "avg = np.mean(results)\n",
    "print(f\"Average accuracy: {avg:.2f}%\")\n",
    "print(results)"
   ]
  },
  {
   "cell_type": "code",
   "execution_count": 23,
   "metadata": {},
   "outputs": [
    {
     "name": "stdout",
     "output_type": "stream",
     "text": [
      "[97.7124183006536, 98.69281045751634, 98.91067538126362, 99.34640522875817, 99.56427015250544]\n"
     ]
    }
   ],
   "source": [
    "print(results)"
   ]
  }
 ],
 "metadata": {
  "kernelspec": {
   "display_name": "Dementia_Detection",
   "language": "python",
   "name": "python3"
  },
  "language_info": {
   "codemirror_mode": {
    "name": "ipython",
    "version": 3
   },
   "file_extension": ".py",
   "mimetype": "text/x-python",
   "name": "python",
   "nbconvert_exporter": "python",
   "pygments_lexer": "ipython3",
   "version": "3.10.13"
  },
  "orig_nbformat": 4
 },
 "nbformat": 4,
 "nbformat_minor": 2
}
