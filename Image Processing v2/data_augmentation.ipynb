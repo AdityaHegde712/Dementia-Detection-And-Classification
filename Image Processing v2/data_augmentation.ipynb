{
 "cells": [
  {
   "cell_type": "code",
   "execution_count": 1,
   "metadata": {},
   "outputs": [],
   "source": [
    "import os, shutil, random\n",
    "from turtle import mode\n",
    "import numpy as np\n",
    "import cv2\n",
    "from keras.preprocessing.image import ImageDataGenerator\n",
    "from tqdm import tqdm"
   ]
  },
  {
   "cell_type": "markdown",
   "metadata": {},
   "source": [
    "Oversampling"
   ]
  },
  {
   "cell_type": "code",
   "execution_count": 5,
   "metadata": {},
   "outputs": [
    {
     "name": "stdout",
     "output_type": "stream",
     "text": [
      "2882\n"
     ]
    }
   ],
   "source": [
    "# Define the path to your \"Moderate demented\" images\n",
    "source_dir = 'Binary_TTV_over_under_all\\\\test\\Demented'\n",
    "\n",
    "\n",
    "# Create a directory to save the augmented images\n",
    "augmented_dir = 'Binary_TTV_over_under_all\\\\test\\\\Demented\\Augmented'\n",
    "os.makedirs(augmented_dir, exist_ok=True)\n",
    "\n",
    "# Initialize the ImageDataGenerator with augmentation settings\n",
    "datagen = ImageDataGenerator(\n",
    "    rescale=128./255,              # Rescale pixel values to [0, 1]\n",
    "    brightness_range=[0.5, 1.5],   # Random brightness adjustment\n",
    "    zoom_range=[0.8, 1.2],         # Random zooming\n",
    "    fill_mode='nearest',           # Fill mode for filling pixels after augmentation\n",
    "    horizontal_flip=True,          # Random horizontal flipping\n",
    "    vertical_flip=True,            # Random vertical flipping\n",
    "    rotation_range=30,             # Random rotations\n",
    "    shear_range=0.3,               # Random shearing\n",
    ")\n",
    "\n",
    "# List all images in the \"Moderate demented\" directory\n",
    "image_files = [i for i in os.listdir(source_dir) if i.endswith('.jpg')]\n",
    "print(len(image_files))\n",
    "# Set the target number of augmented images (e.g., 700)\n",
    "\n",
    "target_count = 3600"
   ]
  },
  {
   "cell_type": "code",
   "execution_count": 6,
   "metadata": {},
   "outputs": [
    {
     "name": "stdout",
     "output_type": "stream",
     "text": [
      "Generating 3600 augmented images...\n",
      "\n"
     ]
    },
    {
     "name": "stderr",
     "output_type": "stream",
     "text": [
      "Augmentation Progress: 100%|██████████| 3600/3600 [01:10<00:00, 50.85it/s]"
     ]
    },
    {
     "name": "stdout",
     "output_type": "stream",
     "text": [
      "Generated 3600 augmented images.\n"
     ]
    },
    {
     "name": "stderr",
     "output_type": "stream",
     "text": [
      "\n"
     ]
    }
   ],
   "source": [
    "# Loop until the target count is reached\n",
    "generated_count = 0\n",
    "print(f'Generating {target_count} augmented images...', end='\\n\\n')\n",
    "with tqdm(total=target_count, desc=\"Augmentation Progress\") as pbar:\n",
    "    while generated_count < target_count:\n",
    "        # Randomly select an image from the original dataset\n",
    "        image_file = np.random.choice(image_files)\n",
    "        image_path = os.path.join(source_dir, image_file)\n",
    "\n",
    "        # Load the image\n",
    "        image = cv2.imread(image_path)\n",
    "        image = cv2.cvtColor(image, cv2.COLOR_BGR2RGB)  # Ensure it's in RGB format\n",
    "\n",
    "        # Generate augmented images using the data generator\n",
    "        aug_iter = datagen.flow(np.expand_dims(image, axis=0), batch_size=1)\n",
    "        augmented_images = [next(aug_iter)[0].astype(np.uint8) for _ in range(5)]  # Create 5 augmented images per original\n",
    "\n",
    "        # Save the augmented images\n",
    "        for i, aug_image in enumerate(augmented_images):\n",
    "            aug_filename = f'augmented_{generated_count + i}.jpg'\n",
    "            aug_image_path = os.path.join(augmented_dir, aug_filename)\n",
    "            cv2.imwrite(aug_image_path, cv2.cvtColor(aug_image, cv2.COLOR_RGB2BGR))\n",
    "\n",
    "        # Update the count of generated images\n",
    "        generated_count += len(augmented_images)\n",
    "        # if generated_count % 6000 == 0:\n",
    "        #     print(f'{generated_count} images generated...')\n",
    "        pbar.update(len(augmented_images))\n",
    "\n",
    "print(f'Generated {generated_count} augmented images.')"
   ]
  },
  {
   "cell_type": "markdown",
   "metadata": {},
   "source": [
    "Undersampling"
   ]
  },
  {
   "cell_type": "code",
   "execution_count": 7,
   "metadata": {},
   "outputs": [
    {
     "name": "stdout",
     "output_type": "stream",
     "text": [
      "10083\n",
      "6482\n"
     ]
    },
    {
     "name": "stderr",
     "output_type": "stream",
     "text": [
      "Undersampling Progress: 100%|██████████| 6482/6482 [00:31<00:00, 207.64it/s]"
     ]
    },
    {
     "name": "stdout",
     "output_type": "stream",
     "text": [
      "Downsampling completed. 6482 non-demented images saved to Binary_TTV_over_under_all/test/NonDemented/.\n"
     ]
    },
    {
     "name": "stderr",
     "output_type": "stream",
     "text": [
      "\n"
     ]
    }
   ],
   "source": [
    "# Path to the folders\n",
    "non_demented_folder = \"Binary_TTV_over_under_all/test/NonDemented_original/\"\n",
    "output_folder = \"Binary_TTV_over_under_all/test/NonDemented/\"  # Specify the folder where the downsampled images will be stored\n",
    "\n",
    "# Target number of images\n",
    "target_count = 6482\n",
    "\n",
    "# Get the list of non-demented files\n",
    "non_demented_files = os.listdir(non_demented_folder)\n",
    "print(len(non_demented_files))\n",
    "\n",
    "# Randomly select files to achieve the target count\n",
    "selected_non_demented_files = random.sample(non_demented_files, target_count)\n",
    "print(len(selected_non_demented_files))\n",
    "\n",
    "# Create the output folder if it doesn't exist\n",
    "os.makedirs(output_folder, exist_ok=True)\n",
    "\n",
    "# Copy the selected non-demented files to the output folder\n",
    "with tqdm(total=target_count, desc=\"Undersampling Progress\") as pbar:\n",
    "    for file_name in selected_non_demented_files:\n",
    "        source_path = os.path.join(non_demented_folder, file_name)\n",
    "        destination_path = os.path.join(output_folder, file_name)\n",
    "        # if pbar.n % 5000 == 0:\n",
    "        #     print(f\"Copying {source_path} to {destination_path}\")\n",
    "        shutil.copy(source_path, destination_path)\n",
    "        pbar.update(1)\n",
    "\n",
    "print(f\"Downsampling completed. {target_count} non-demented images saved to {output_folder}.\")\n"
   ]
  }
 ],
 "metadata": {
  "kernelspec": {
   "display_name": "DementiaTensorflow",
   "language": "python",
   "name": "python3"
  },
  "language_info": {
   "codemirror_mode": {
    "name": "ipython",
    "version": 3
   },
   "file_extension": ".py",
   "mimetype": "text/x-python",
   "name": "python",
   "nbconvert_exporter": "python",
   "pygments_lexer": "ipython3",
   "version": "3.10.13"
  }
 },
 "nbformat": 4,
 "nbformat_minor": 2
}
