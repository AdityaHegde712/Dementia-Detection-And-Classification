{
 "cells": [
  {
   "cell_type": "code",
   "execution_count": 1,
   "metadata": {},
   "outputs": [],
   "source": [
    "import os\n",
    "from turtle import mode\n",
    "import numpy as np\n",
    "import cv2\n",
    "from keras.preprocessing.image import ImageDataGenerator\n",
    "from tqdm import tqdm"
   ]
  },
  {
   "cell_type": "code",
   "execution_count": 2,
   "metadata": {},
   "outputs": [],
   "source": [
    "# Target number - 48007\n",
    "# Target class - Demented\n",
    "\n",
    "\n",
    "# Define the path to your \"Moderate demented\" images\n",
    "# moderate_demented_dir = 'Binary_ttv\\\\test\\Demented'\n",
    "moderate_demented_dir = 'Binary_Data\\Demented'\n",
    "# print(os.listdir(moderate_demented_dir)[0:5])\n",
    "\n",
    "# Create a directory to save the augmented images\n",
    "augmented_dir = 'Binary_Data\\Demented\\Augmented'\n",
    "os.makedirs(augmented_dir, exist_ok=True)\n",
    "\n",
    "# Initialize the ImageDataGenerator with augmentation settings\n",
    "datagen = ImageDataGenerator(\n",
    "    rescale=128./255,              # Rescale pixel values to [0, 1]\n",
    "    brightness_range=[0.5, 1.5],   # Random brightness adjustment\n",
    "    zoom_range=[0.8, 1.2],         # Random zooming\n",
    "    fill_mode='nearest',           # Fill mode for filling pixels after augmentation\n",
    "    horizontal_flip=True,          # Random horizontal flipping\n",
    "    vertical_flip=True,            # Random vertical flipping\n",
    "    rotation_range=30,             # Random rotations\n",
    "    shear_range=0.3,               # Random shearing\n",
    ")\n",
    "\n",
    "# List all images in the \"Moderate demented\" directory\n",
    "image_files = os.listdir(moderate_demented_dir)\n",
    "\n",
    "# Set the target number of augmented images (e.g., 700)\n",
    "target_count = 48007"
   ]
  },
  {
   "cell_type": "code",
   "execution_count": 3,
   "metadata": {},
   "outputs": [
    {
     "name": "stdout",
     "output_type": "stream",
     "text": [
      "Generating 48007 augmented images...\n",
      "\n"
     ]
    },
    {
     "name": "stderr",
     "output_type": "stream",
     "text": [
      "Augmentation Progress: 48010it [25:23, 31.52it/s]                           "
     ]
    },
    {
     "name": "stdout",
     "output_type": "stream",
     "text": [
      "Generated 48010 augmented images.\n"
     ]
    },
    {
     "name": "stderr",
     "output_type": "stream",
     "text": [
      "\n"
     ]
    }
   ],
   "source": [
    "# Loop until the target count is reached\n",
    "generated_count = 0\n",
    "print(f'Generating {target_count} augmented images...', end='\\n\\n')\n",
    "with tqdm(total=target_count, desc=\"Augmentation Progress\") as pbar:\n",
    "    while generated_count < target_count:\n",
    "        # Randomly select an image from the original dataset\n",
    "        image_file = np.random.choice(image_files)\n",
    "        image_path = os.path.join(moderate_demented_dir, image_file)\n",
    "\n",
    "        # Load the image\n",
    "        image = cv2.imread(image_path)\n",
    "        image = cv2.cvtColor(image, cv2.COLOR_BGR2RGB)  # Ensure it's in RGB format\n",
    "\n",
    "        # Generate augmented images using the data generator\n",
    "        aug_iter = datagen.flow(np.expand_dims(image, axis=0), batch_size=1)\n",
    "        augmented_images = [next(aug_iter)[0].astype(np.uint8) for _ in range(5)]  # Create 5 augmented images per original\n",
    "\n",
    "        # Save the augmented images\n",
    "        for i, aug_image in enumerate(augmented_images):\n",
    "            aug_filename = f'augmented_{generated_count + i}.jpg'\n",
    "            aug_image_path = os.path.join(augmented_dir, aug_filename)\n",
    "            cv2.imwrite(aug_image_path, cv2.cvtColor(aug_image, cv2.COLOR_RGB2BGR))\n",
    "\n",
    "        # Update the count of generated images\n",
    "        generated_count += len(augmented_images)\n",
    "        # if generated_count % 6000 == 0:\n",
    "        #     print(f'{generated_count} images generated...')\n",
    "        pbar.update(len(augmented_images))\n",
    "\n",
    "print(f'Generated {generated_count} augmented images.')"
   ]
  }
 ],
 "metadata": {
  "kernelspec": {
   "display_name": "DementiaTensorflow",
   "language": "python",
   "name": "python3"
  },
  "language_info": {
   "codemirror_mode": {
    "name": "ipython",
    "version": 3
   },
   "file_extension": ".py",
   "mimetype": "text/x-python",
   "name": "python",
   "nbconvert_exporter": "python",
   "pygments_lexer": "ipython3",
   "version": "3.10.13"
  }
 },
 "nbformat": 4,
 "nbformat_minor": 2
}
