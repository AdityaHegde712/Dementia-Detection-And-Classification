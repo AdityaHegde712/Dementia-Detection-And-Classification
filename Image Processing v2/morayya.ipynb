{
 "cells": [
  {
   "cell_type": "code",
   "execution_count": 1,
   "metadata": {},
   "outputs": [
    {
     "name": "stderr",
     "output_type": "stream",
     "text": [
      "2023-10-19 08:12:11.933730: I tensorflow/core/platform/cpu_feature_guard.cc:193] This TensorFlow binary is optimized with oneAPI Deep Neural Network Library (oneDNN) to use the following CPU instructions in performance-critical operations:  SSE4.1 SSE4.2 AVX AVX2 FMA\n",
      "To enable them in other operations, rebuild TensorFlow with the appropriate compiler flags.\n"
     ]
    }
   ],
   "source": [
    "import cv2\n",
    "from keras.preprocessing.image import ImageDataGenerator\n",
    "import numpy as np\n",
    "import pickle\n",
    "import os\n",
    "import csv\n",
    "import shutil\n",
    "import random\n",
    "import numpy as np\n",
    "import tensorflow as tf\n",
    "from tensorflow.keras.models import Sequential\n",
    "from tensorflow.keras import Input\n",
    "from tensorflow.keras.layers import Conv2D, MaxPooling2D, Flatten, Dense\n",
    "from sklearn.model_selection import KFold\n",
    "from matplotlib import pyplot as plt"
   ]
  },
  {
   "cell_type": "markdown",
   "metadata": {},
   "source": [
    "Adding CSV logger"
   ]
  },
  {
   "cell_type": "code",
   "execution_count": 73,
   "metadata": {},
   "outputs": [],
   "source": [
    "class CSVLogger:\n",
    "    def __init__(self, filename, fieldnames):\n",
    "        self.filename = filename\n",
    "        self.fieldnames = fieldnames\n",
    "\n",
    "        # Create and initialize the CSV file\n",
    "        if not os.path.isfile(self.filename):\n",
    "            with open(self.filename, 'w', newline='') as csvfile:\n",
    "                writer = csv.DictWriter(csvfile, fieldnames=self.fieldnames)\n",
    "                writer.writeheader()\n",
    "        else:\n",
    "            with open(self.filename, 'a', newline='') as csvfile:\n",
    "                writer = csv.DictWriter(csvfile, fieldnames=self.fieldnames)\n",
    "                writer.writerow({})\n",
    "\n",
    "    def log(self, data):\n",
    "        # Append data to the CSV file\n",
    "        with open(self.filename, 'a', newline='') as csvfile:\n",
    "            writer = csv.DictWriter(csvfile, fieldnames=self.fieldnames)\n",
    "            writer.writerow(data)"
   ]
  },
  {
   "cell_type": "markdown",
   "metadata": {},
   "source": [
    "Augmenting new images for \"Moderate Demented\" class"
   ]
  },
  {
   "cell_type": "code",
   "execution_count": null,
   "metadata": {},
   "outputs": [],
   "source": [
    "# Define the path to your \"Moderate demented\" images\n",
    "moderate_demented_dir = 'Alzheimer_s Dataset/train/ModerateDemented'\n",
    "\n",
    "# Create a directory to save the augmented images\n",
    "augmented_dir = 'Alzheimer_s Dataset/augmented/ModerateDemented'\n",
    "os.makedirs(augmented_dir, exist_ok=True)\n",
    "\n",
    "# Initialize the ImageDataGenerator with augmentation settings\n",
    "datagen = ImageDataGenerator(\n",
    "    rescale=128./255,                # Rescale pixel values to [0, 1]\n",
    "    brightness_range=[0.5, 1.5],  # Random brightness adjustment\n",
    "    zoom_range=[0.8, 1.2],        # Random zooming\n",
    "    fill_mode='nearest',          # Fill mode for filling pixels after augmentation\n",
    "    horizontal_flip=True          # Random horizontal flipping\n",
    ")\n",
    "\n",
    "# List all images in the \"Moderate demented\" directory\n",
    "image_files = os.listdir(moderate_demented_dir)\n",
    "\n",
    "# Set the target number of augmented images (e.g., 700)\n",
    "target_count = 256\n",
    "\n",
    "# Loop until the target count is reached\n",
    "generated_count = 0\n",
    "while generated_count < target_count:\n",
    "    # Randomly select an image from the original dataset\n",
    "    image_file = np.random.choice(image_files)\n",
    "    image_path = os.path.join(moderate_demented_dir, image_file)\n",
    "\n",
    "    # Load the image\n",
    "    image = cv2.imread(image_path)\n",
    "    image = cv2.cvtColor(image, cv2.COLOR_BGR2RGB)  # Ensure it's in RGB format\n",
    "\n",
    "    # Generate augmented images using the data generator\n",
    "    aug_iter = datagen.flow(np.expand_dims(image, axis=0), batch_size=1)\n",
    "    augmented_images = [next(aug_iter)[0].astype(np.uint8) for _ in range(5)]  # Create 5 augmented images per original\n",
    "\n",
    "    # Save the augmented images\n",
    "    for i, aug_image in enumerate(augmented_images):\n",
    "        aug_filename = f'augmented_{generated_count + i}.jpg'\n",
    "        aug_image_path = os.path.join(augmented_dir, aug_filename)\n",
    "        cv2.imwrite(aug_image_path, cv2.cvtColor(aug_image, cv2.COLOR_RGB2BGR))\n",
    "\n",
    "    # Update the count of generated images\n",
    "    generated_count += len(augmented_images)\n",
    "\n",
    "print(f'Generated {generated_count} augmented images.')"
   ]
  },
  {
   "cell_type": "markdown",
   "metadata": {},
   "source": [
    "Arranging for binaryClassification"
   ]
  },
  {
   "cell_type": "code",
   "execution_count": 2,
   "metadata": {},
   "outputs": [],
   "source": [
    "import shutil\n",
    "\n",
    "def save_files_from_directories(dir_list, destination_dir):\n",
    "    \"\"\"\n",
    "    Save files from a list of directories to a destination directory,\n",
    "    avoiding naming clashes by renaming each file based on a counter.\n",
    "    \n",
    "    Args:\n",
    "    dir_list (list): List of directory paths containing files to be saved.\n",
    "    destination_dir (str): Destination directory where files will be saved.\n",
    "    \n",
    "    Returns:\n",
    "    None\n",
    "    \"\"\"\n",
    "    counter = 1  # Initialize a counter to rename files\n",
    "    \n",
    "    # Create the destination directory if it doesn't exist\n",
    "    os.makedirs(destination_dir, exist_ok=True)\n",
    "    \n",
    "    # Iterate through each directory in the list\n",
    "    for source_dir in dir_list:\n",
    "        # Check if the source directory exists\n",
    "        if os.path.exists(source_dir) and os.path.isdir(source_dir):\n",
    "            # Iterate through files in the source directory\n",
    "            for filename in os.listdir(source_dir):\n",
    "                source_file_path = os.path.join(source_dir, filename)\n",
    "                \n",
    "                # Check if it's a file (not a directory)\n",
    "                if os.path.isfile(source_file_path):\n",
    "                    # Extract the file extension\n",
    "                    _, file_extension = os.path.splitext(filename)\n",
    "                    \n",
    "                    # Create a new filename with a counter and the original extension\n",
    "                    new_filename = f\"file_{counter}{file_extension}\"\n",
    "                    counter += 1\n",
    "                    \n",
    "                    # Construct the destination file path\n",
    "                    destination_file_path = os.path.join(destination_dir, new_filename)\n",
    "                    \n",
    "                    # Copy the file to the destination with the new name\n",
    "                    shutil.copyfile(source_file_path, destination_file_path)\n",
    "        else:\n",
    "            print(f\"Source directory '{source_dir}' does not exist or is not a directory.\")\n",
    "    \n",
    "    print(f\"Files saved to '{destination_dir}'.\")\n",
    "\n",
    "source_directories = ['Alzheimer_s Dataset/train/MildDemented', 'Alzheimer_s Dataset/train/ModerateDemented','Alzheimer_s Dataset/train/VeryMildDemented',\n",
    "                      'Alzheimer_s Dataset/augmented/ModerateDemented','Alzheimer_s Dataset/test/MildDemented','Alzheimer_s Dataset/test/ModerateDemented',\n",
    "                      'Alzheimer_s Dataset/test/VeryMildDemented']\n",
    "destination_directory = 'Alzheimer_s Dataset/binaryClassification/all/Demented'\n",
    "save_files_from_directories(source_directories, destination_directory)\n",
    "\n",
    "source_directories = ['Alzheimer_s Dataset/train/NonDemented','Alzheimer_s Dataset/test/NonDemented']\n",
    "destination_directory = 'Alzheimer_s Dataset/binaryClassification/all/NonDemented'\n",
    "save_files_from_directories(source_directories, destination_directory)\n"
   ]
  },
  {
   "cell_type": "markdown",
   "metadata": {},
   "source": [
    "Train-test-val split"
   ]
  },
  {
   "cell_type": "code",
   "execution_count": 8,
   "metadata": {},
   "outputs": [],
   "source": [
    "# Define the source folder containing subfolders for each class\n",
    "source_folder = 'Alzheimer_s Dataset/binaryClassification/all'\n",
    "train_folder = 'Alzheimer_s Dataset/binaryClassification/train'\n",
    "test_folder = 'Alzheimer_s Dataset/binaryClassification/test'\n",
    "val_folder = 'Alzheimer_s Dataset/binaryClassification/val'\n",
    "\n",
    "# Define the ratios for train, test, and validation sets\n",
    "train_ratio = 0.7\n",
    "test_ratio = 0.15\n",
    "val_ratio = 0.15\n",
    "\n",
    "# Create destination folders if they don't exist\n",
    "os.makedirs(train_folder, exist_ok=True)\n",
    "os.makedirs(test_folder, exist_ok=True)\n",
    "os.makedirs(val_folder, exist_ok=True)\n",
    "\n",
    "# List subfolders (classes) in the source folder\n",
    "classes = os.listdir(source_folder)\n",
    "\n",
    "# Loop through each class\n",
    "for class_name in classes:\n",
    "    class_source_folder = os.path.join(source_folder, class_name)\n",
    "    class_train_folder = os.path.join(train_folder, class_name)\n",
    "    class_test_folder = os.path.join(test_folder, class_name)\n",
    "    class_val_folder = os.path.join(val_folder, class_name)\n",
    "\n",
    "    # List image files in the class source folder\n",
    "    image_files = os.listdir(class_source_folder)\n",
    "    random.shuffle(image_files)\n",
    "\n",
    "    # Calculate the number of images for each set based on the defined ratios\n",
    "    total_images = len(image_files)\n",
    "    train_split = int(total_images * train_ratio)\n",
    "    test_split = int(total_images * test_ratio)\n",
    "\n",
    "    # Copy image files to their respective folders for train, test, and validation\n",
    "    for i, image_file in enumerate(image_files):\n",
    "        source_path = os.path.join(class_source_folder, image_file)\n",
    "        if i < train_split:\n",
    "            destination_folder = class_train_folder\n",
    "        elif i < train_split + test_split:\n",
    "            destination_folder = class_test_folder\n",
    "        else:\n",
    "            destination_folder = class_val_folder\n",
    "\n",
    "        destination_path = os.path.join(destination_folder, image_file)\n",
    "        shutil.copyfile(source_path, destination_path)"
   ]
  },
  {
   "cell_type": "markdown",
   "metadata": {},
   "source": [
    "Loading the dataset"
   ]
  },
  {
   "cell_type": "code",
   "execution_count": 7,
   "metadata": {},
   "outputs": [
    {
     "name": "stdout",
     "output_type": "stream",
     "text": [
      "Found 4662 images belonging to 2 classes.\n",
      "Found 999 images belonging to 2 classes.\n",
      "Found 999 images belonging to 2 classes.\n"
     ]
    }
   ],
   "source": [
    "datagen = ImageDataGenerator(rescale=1./255)  # Normalize pixel values\n",
    "\n",
    "train_generator = datagen.flow_from_directory(\n",
    "    'Alzheimer_s Dataset/binaryClassification/train',\n",
    "    target_size=(150, 150),\n",
    "    batch_size=32,\n",
    "    class_mode='binary'\n",
    ")\n",
    "\n",
    "validation_generator = datagen.flow_from_directory(\n",
    "    'Alzheimer_s Dataset/binaryClassification/val',\n",
    "    target_size=(150, 150),\n",
    "    batch_size=32,\n",
    "    class_mode='binary'\n",
    ")\n",
    "\n",
    "test_generator = datagen.flow_from_directory(\n",
    "    'Alzheimer_s Dataset/binaryClassification/test',\n",
    "    target_size=(150, 150),\n",
    "    batch_size=32,\n",
    "    class_mode='binary'\n",
    ")\n",
    "\n",
    "classes = 2"
   ]
  },
  {
   "cell_type": "markdown",
   "metadata": {},
   "source": [
    "Preparing model"
   ]
  },
  {
   "cell_type": "code",
   "execution_count": 4,
   "metadata": {},
   "outputs": [
    {
     "name": "stdout",
     "output_type": "stream",
     "text": [
      "Model: \"sequential_1\"\n",
      "_________________________________________________________________\n",
      " Layer (type)                Output Shape              Param #   \n",
      "=================================================================\n",
      " conv2d_2 (Conv2D)           (None, 150, 150, 32)      896       \n",
      "                                                                 \n",
      " max_pooling2d_2 (MaxPooling  (None, 75, 75, 32)       0         \n",
      " 2D)                                                             \n",
      "                                                                 \n",
      " conv2d_3 (Conv2D)           (None, 75, 75, 32)        9248      \n",
      "                                                                 \n",
      " max_pooling2d_3 (MaxPooling  (None, 37, 37, 32)       0         \n",
      " 2D)                                                             \n",
      "                                                                 \n",
      " flatten_1 (Flatten)         (None, 43808)             0         \n",
      "                                                                 \n",
      " dense_2 (Dense)             (None, 150)               6571350   \n",
      "                                                                 \n",
      " dense_3 (Dense)             (None, 1)                 151       \n",
      "                                                                 \n",
      "=================================================================\n",
      "Total params: 6,581,645\n",
      "Trainable params: 6,581,645\n",
      "Non-trainable params: 0\n",
      "_________________________________________________________________\n",
      "None\n"
     ]
    }
   ],
   "source": [
    "# learning_rate = 0.00001\n",
    "# patch_size = (3,3)\n",
    "# num_hidden_units = 150 \n",
    "\n",
    "\n",
    "# model = Sequential()\n",
    "# model.add(Input(shape=(150, 150, 3))) # Added this\n",
    "# model.add(Conv2D(32, patch_size, activation='relu', input_shape=(150, 150, 3))) # Changed 32 to 64\n",
    "# model.add(MaxPooling2D(2, 2))\n",
    "# model.add(Conv2D(32, patch_size, activation='relu')) # Changed 32 to 64\n",
    "# model.add(MaxPooling2D(2, 2))\n",
    "# model.add(Flatten())\n",
    "# model.add(Dense(num_hidden_units, activation='relu'))\n",
    "# model.add(Dense(1, activation='sigmoid'))  # Number of classes\n",
    "\n",
    "\n",
    "# # Compile and train model\n",
    "# optimizer = tf.keras.optimizers.Adam()\n",
    "\n",
    "# model.compile(optimizer=optimizer,\n",
    "#               loss='binary_crossentropy',\n",
    "#               metrics=['accuracy'])\n",
    "\n",
    "# model.summary()\n",
    "\n",
    "model = Sequential()\n",
    "model.add(Input(shape=(150, 150, 3)))\n",
    "model.add(Conv2D(32, (3, 3), padding='same', activation='relu',input_shape=(150, 150, 3)))\n",
    "model.add(MaxPooling2D((2, 2)))\n",
    "                                                                                          \n",
    "model.add(Conv2D(32, (3, 3), padding='same', activation='relu'))\n",
    "model.add(MaxPooling2D((2, 2)))\n",
    "\n",
    "model.add(Flatten())  \n",
    "model.add(Dense(150, activation='relu'))\n",
    "model.add(Dense(1, activation='sigmoid'))\n",
    "\n",
    "# Create model \n",
    "optimizer = tf.keras.optimizers.Adam()\n",
    "\n",
    "model.compile(optimizer=optimizer,\n",
    "              loss='binary_crossentropy',\n",
    "              metrics=['accuracy'])\n",
    "# Print model summary\n",
    "print(model.summary())"
   ]
  },
  {
   "cell_type": "markdown",
   "metadata": {},
   "source": [
    "Adding early stopping"
   ]
  },
  {
   "cell_type": "code",
   "execution_count": 5,
   "metadata": {},
   "outputs": [],
   "source": [
    "callback = tf.keras.callbacks.EarlyStopping(monitor='val_loss', patience=20, mode=\"min\")"
   ]
  },
  {
   "cell_type": "markdown",
   "metadata": {},
   "source": [
    "Training model"
   ]
  },
  {
   "cell_type": "code",
   "execution_count": 8,
   "metadata": {},
   "outputs": [
    {
     "name": "stdout",
     "output_type": "stream",
     "text": [
      "Epoch 1/100\n"
     ]
    },
    {
     "name": "stderr",
     "output_type": "stream",
     "text": [
      "2023-10-10 15:22:52.346480: I tensorflow/compiler/xla/stream_executor/cuda/cuda_dnn.cc:428] Loaded cuDNN version 8800\n",
      "2023-10-10 15:22:52.630946: I tensorflow/compiler/xla/stream_executor/cuda/cuda_blas.cc:630] TensorFloat-32 will be used for the matrix multiplication. This will only be logged once.\n",
      "2023-10-10 15:22:52.683442: I tensorflow/compiler/xla/service/service.cc:173] XLA service 0x7f23c0e37f60 initialized for platform CUDA (this does not guarantee that XLA will be used). Devices:\n",
      "2023-10-10 15:22:52.683466: I tensorflow/compiler/xla/service/service.cc:181]   StreamExecutor device (0): NVIDIA GeForce RTX 3050 Ti Laptop GPU, Compute Capability 8.6\n",
      "2023-10-10 15:22:52.686572: I tensorflow/compiler/mlir/tensorflow/utils/dump_mlir_util.cc:268] disabling MLIR crash reproducer, set env var `MLIR_CRASH_REPRODUCER_DIRECTORY` to enable.\n",
      "2023-10-10 15:22:52.701136: W tensorflow/compiler/xla/service/gpu/nvptx_helper.cc:56] Can't find libdevice directory ${CUDA_DIR}/nvvm/libdevice. This may result in compilation or runtime failures, if the program we try to run uses routines from libdevice.\n",
      "Searched for CUDA in the following directories:\n",
      "  ./cuda_sdk_lib\n",
      "  /usr/local/cuda-11.2\n",
      "  /usr/local/cuda\n",
      "  .\n",
      "You can choose the search directory by setting xla_gpu_cuda_data_dir in HloModule's DebugOptions.  For most apps, setting the environment variable XLA_FLAGS=--xla_gpu_cuda_data_dir=/path/to/cuda will work.\n",
      "2023-10-10 15:22:52.776019: I tensorflow/compiler/jit/xla_compilation_cache.cc:477] Compiled cluster using XLA!  This line is logged at most once for the lifetime of the process.\n"
     ]
    },
    {
     "name": "stdout",
     "output_type": "stream",
     "text": [
      "  1/146 [..............................] - ETA: 4:47 - loss: 0.7013 - accuracy: 0.3438"
     ]
    },
    {
     "name": "stderr",
     "output_type": "stream",
     "text": [
      "2023-10-10 15:22:53.647911: W tensorflow/tsl/framework/bfc_allocator.cc:290] Allocator (GPU_0_bfc) ran out of memory trying to allocate 668.27MiB with freed_by_count=0. The caller indicates that this is not a failure, but this may mean that there could be performance gains if more memory were available.\n"
     ]
    },
    {
     "name": "stdout",
     "output_type": "stream",
     "text": [
      "146/146 [==============================] - 7s 35ms/step - loss: 0.6481 - accuracy: 0.6532 - val_loss: 0.5233 - val_accuracy: 0.7207\n",
      "Epoch 2/100\n",
      "146/146 [==============================] - 3s 21ms/step - loss: 0.4555 - accuracy: 0.7840 - val_loss: 0.3954 - val_accuracy: 0.8248\n",
      "Epoch 3/100\n",
      "146/146 [==============================] - 3s 19ms/step - loss: 0.2878 - accuracy: 0.8799 - val_loss: 0.2620 - val_accuracy: 0.8829\n",
      "Epoch 4/100\n",
      "146/146 [==============================] - 3s 20ms/step - loss: 0.1608 - accuracy: 0.9395 - val_loss: 0.1992 - val_accuracy: 0.9299\n",
      "Epoch 5/100\n",
      "146/146 [==============================] - 3s 19ms/step - loss: 0.0779 - accuracy: 0.9747 - val_loss: 0.1473 - val_accuracy: 0.9510\n",
      "Epoch 6/100\n",
      "146/146 [==============================] - 3s 19ms/step - loss: 0.0390 - accuracy: 0.9888 - val_loss: 0.1616 - val_accuracy: 0.9439\n",
      "Epoch 7/100\n",
      "146/146 [==============================] - 4s 29ms/step - loss: 0.0199 - accuracy: 0.9968 - val_loss: 0.1343 - val_accuracy: 0.9620\n",
      "Epoch 8/100\n",
      "146/146 [==============================] - 3s 20ms/step - loss: 0.0050 - accuracy: 0.9996 - val_loss: 0.1773 - val_accuracy: 0.9459\n",
      "Epoch 9/100\n",
      "146/146 [==============================] - 3s 20ms/step - loss: 0.0392 - accuracy: 0.9852 - val_loss: 0.1464 - val_accuracy: 0.9580\n",
      "Epoch 10/100\n",
      "146/146 [==============================] - 3s 20ms/step - loss: 0.0204 - accuracy: 0.9961 - val_loss: 0.2426 - val_accuracy: 0.9289\n",
      "Epoch 11/100\n",
      "146/146 [==============================] - 3s 19ms/step - loss: 0.0064 - accuracy: 0.9989 - val_loss: 0.1094 - val_accuracy: 0.9730\n",
      "Epoch 12/100\n",
      "146/146 [==============================] - 3s 20ms/step - loss: 0.0018 - accuracy: 1.0000 - val_loss: 0.1168 - val_accuracy: 0.9700\n",
      "Epoch 13/100\n",
      "146/146 [==============================] - 3s 19ms/step - loss: 5.3636e-04 - accuracy: 1.0000 - val_loss: 0.1193 - val_accuracy: 0.9700\n",
      "Epoch 14/100\n",
      "146/146 [==============================] - 3s 19ms/step - loss: 3.3446e-04 - accuracy: 1.0000 - val_loss: 0.1229 - val_accuracy: 0.9710\n",
      "Epoch 15/100\n",
      "146/146 [==============================] - 3s 19ms/step - loss: 2.6758e-04 - accuracy: 1.0000 - val_loss: 0.1233 - val_accuracy: 0.9710\n",
      "Epoch 16/100\n",
      "146/146 [==============================] - 3s 19ms/step - loss: 2.1633e-04 - accuracy: 1.0000 - val_loss: 0.1234 - val_accuracy: 0.9710\n",
      "Epoch 17/100\n",
      "146/146 [==============================] - 3s 19ms/step - loss: 1.8262e-04 - accuracy: 1.0000 - val_loss: 0.1267 - val_accuracy: 0.9710\n",
      "Epoch 18/100\n",
      "146/146 [==============================] - 3s 19ms/step - loss: 1.5662e-04 - accuracy: 1.0000 - val_loss: 0.1262 - val_accuracy: 0.9720\n",
      "Epoch 19/100\n",
      "146/146 [==============================] - 3s 20ms/step - loss: 1.3668e-04 - accuracy: 1.0000 - val_loss: 0.1255 - val_accuracy: 0.9730\n",
      "Epoch 20/100\n",
      "146/146 [==============================] - 3s 20ms/step - loss: 1.1813e-04 - accuracy: 1.0000 - val_loss: 0.1290 - val_accuracy: 0.9710\n",
      "Epoch 21/100\n",
      "146/146 [==============================] - 3s 20ms/step - loss: 1.0248e-04 - accuracy: 1.0000 - val_loss: 0.1298 - val_accuracy: 0.9710\n",
      "Epoch 22/100\n",
      "146/146 [==============================] - 3s 19ms/step - loss: 9.0974e-05 - accuracy: 1.0000 - val_loss: 0.1314 - val_accuracy: 0.9710\n",
      "Epoch 23/100\n",
      "146/146 [==============================] - 3s 19ms/step - loss: 7.8804e-05 - accuracy: 1.0000 - val_loss: 0.1309 - val_accuracy: 0.9740\n",
      "Epoch 24/100\n",
      "146/146 [==============================] - 3s 19ms/step - loss: 7.0142e-05 - accuracy: 1.0000 - val_loss: 0.1326 - val_accuracy: 0.9720\n",
      "Epoch 25/100\n",
      "146/146 [==============================] - 3s 19ms/step - loss: 6.2570e-05 - accuracy: 1.0000 - val_loss: 0.1334 - val_accuracy: 0.9740\n",
      "Epoch 26/100\n",
      "146/146 [==============================] - 3s 19ms/step - loss: 5.5189e-05 - accuracy: 1.0000 - val_loss: 0.1347 - val_accuracy: 0.9730\n",
      "Epoch 27/100\n",
      "146/146 [==============================] - 3s 19ms/step - loss: 4.9256e-05 - accuracy: 1.0000 - val_loss: 0.1374 - val_accuracy: 0.9730\n",
      "Epoch 28/100\n",
      "146/146 [==============================] - 3s 19ms/step - loss: 4.4149e-05 - accuracy: 1.0000 - val_loss: 0.1387 - val_accuracy: 0.9720\n",
      "Epoch 29/100\n",
      "146/146 [==============================] - 3s 20ms/step - loss: 3.9706e-05 - accuracy: 1.0000 - val_loss: 0.1376 - val_accuracy: 0.9730\n",
      "Epoch 30/100\n",
      "146/146 [==============================] - 3s 20ms/step - loss: 3.5132e-05 - accuracy: 1.0000 - val_loss: 0.1366 - val_accuracy: 0.9750\n",
      "Epoch 31/100\n",
      "146/146 [==============================] - 3s 19ms/step - loss: 3.1736e-05 - accuracy: 1.0000 - val_loss: 0.1380 - val_accuracy: 0.9740\n"
     ]
    }
   ],
   "source": [
    "history = model.fit(train_generator, epochs=100, validation_data=validation_generator,batch_size=32,callbacks=[callback])"
   ]
  },
  {
   "cell_type": "markdown",
   "metadata": {},
   "source": [
    "Calculating accuracy"
   ]
  },
  {
   "cell_type": "code",
   "execution_count": 9,
   "metadata": {},
   "outputs": [
    {
     "name": "stdout",
     "output_type": "stream",
     "text": [
      "32/32 [==============================] - 1s 26ms/step - loss: 0.0406 - accuracy: 0.9870\n",
      "Test Accuracy: 0.9869869947433472\n"
     ]
    }
   ],
   "source": [
    "accuracy = model.evaluate(test_generator)\n",
    "print(\"Test Accuracy:\", accuracy[1])"
   ]
  },
  {
   "cell_type": "markdown",
   "metadata": {},
   "source": [
    "Plotting model accuracy"
   ]
  },
  {
   "cell_type": "code",
   "execution_count": 40,
   "metadata": {},
   "outputs": [
    {
     "data": {
      "image/png": "[encoded data removed]",
      "text/plain": [
       "<Figure size 640x480 with 1 Axes>"
      ]
     },
     "metadata": {},
     "output_type": "display_data"
    }
   ],
   "source": [
    "plt.plot(history.history['accuracy'])\n",
    "plt.plot(history.history['val_accuracy'])\n",
    "plt.title('model accuracy')\n",
    "plt.ylabel('accuracy')\n",
    "plt.xlabel('epoch')\n",
    "plt.legend(['train', 'val'], loc='upper left')\n",
    "plt.show()"
   ]
  },
  {
   "cell_type": "markdown",
   "metadata": {},
   "source": [
    "Plotting loss function"
   ]
  },
  {
   "cell_type": "code",
   "execution_count": 41,
   "metadata": {},
   "outputs": [
    {
     "data": {
      "image/png": "[encoded data removed]",
      "text/plain": [
       "<Figure size 640x480 with 1 Axes>"
      ]
     },
     "metadata": {},
     "output_type": "display_data"
    }
   ],
   "source": [
    "plt.plot(history.history['loss'])\n",
    "plt.plot(history.history['val_loss'])\n",
    "plt.title('model loss')\n",
    "plt.ylabel('loss')\n",
    "plt.xlabel('epoch')\n",
    "plt.legend(['train', 'val'], loc='upper left')\n",
    "plt.show()"
   ]
  },
  {
   "cell_type": "markdown",
   "metadata": {},
   "source": [
    "Exporting model"
   ]
  },
  {
   "cell_type": "code",
   "execution_count": null,
   "metadata": {},
   "outputs": [],
   "source": [
    "model.save('98.4acc.keras')"
   ]
  },
  {
   "cell_type": "markdown",
   "metadata": {},
   "source": [
    "Preparing data for multi-classification"
   ]
  },
  {
   "cell_type": "code",
   "execution_count": 3,
   "metadata": {},
   "outputs": [
    {
     "name": "stdout",
     "output_type": "stream",
     "text": [
      "Files saved to 'Alzheimer_s Dataset/multiClassification/all/MildDemented'.\n",
      "Files saved to 'Alzheimer_s Dataset/multiClassification/all/ModerateDemented'.\n",
      "Files saved to 'Alzheimer_s Dataset/multiClassification/all/VeryMildDemented'.\n",
      "Files saved to 'Alzheimer_s Dataset/multiClassification/all/NonDemented'.\n"
     ]
    }
   ],
   "source": [
    "source_directories = ['Alzheimer_s Dataset/train/MildDemented',\n",
    "                      'Alzheimer_s Dataset/test/MildDemented']\n",
    "destination_directory = 'Alzheimer_s Dataset/multiClassification/all/MildDemented'\n",
    "save_files_from_directories(source_directories, destination_directory)\n",
    "\n",
    "source_directories = ['Alzheimer_s Dataset/train/ModerateDemented','Alzheimer_s Dataset/augmented/ModerateDemented','Alzheimer_s Dataset/test/ModerateDemented',]\n",
    "destination_directory = 'Alzheimer_s Dataset/multiClassification/all/ModerateDemented'\n",
    "save_files_from_directories(source_directories,destination_directory)\n",
    "\n",
    "source_directories = ['Alzheimer_s Dataset/test/VeryMildDemented','Alzheimer_s Dataset/train/VeryMildDemented']\n",
    "destination_directory = 'Alzheimer_s Dataset/multiClassification/all/VeryMildDemented'\n",
    "save_files_from_directories(source_directories, destination_directory)\n",
    "\n",
    "\n",
    "source_directories = ['Alzheimer_s Dataset/train/NonDemented','Alzheimer_s Dataset/test/NonDemented']\n",
    "destination_directory = 'Alzheimer_s Dataset/multiClassification/all/NonDemented'\n",
    "save_files_from_directories(source_directories, destination_directory)\n"
   ]
  },
  {
   "cell_type": "code",
   "execution_count": 10,
   "metadata": {},
   "outputs": [],
   "source": [
    "# Define the source folder containing subfolders for each class\n",
    "source_folder = 'Alzheimer_s Dataset/multiClassification/all'\n",
    "train_folder = 'Alzheimer_s Dataset/multiClassification/train'\n",
    "test_folder = 'Alzheimer_s Dataset/multiClassification/test'\n",
    "val_folder = 'Alzheimer_s Dataset/multiClassification/val'\n",
    "\n",
    "# Define the ratios for train, test, and validation sets\n",
    "train_ratio = 0.7\n",
    "test_ratio = 0.15\n",
    "val_ratio = 0.15\n",
    "\n",
    "# Create destination folders if they don't exist\n",
    "os.makedirs(train_folder, exist_ok=True)\n",
    "os.makedirs(test_folder, exist_ok=True)\n",
    "os.makedirs(val_folder, exist_ok=True)\n",
    "\n",
    "# List subfolders (classes) in the source folder\n",
    "classes = os.listdir(source_folder)\n",
    "\n",
    "# Loop through each class\n",
    "for class_name in classes:\n",
    "    class_source_folder = os.path.join(source_folder, class_name)\n",
    "    class_train_folder = os.path.join(train_folder, class_name)\n",
    "    class_test_folder = os.path.join(test_folder, class_name)\n",
    "    class_val_folder = os.path.join(val_folder, class_name)\n",
    "\n",
    "    # List image files in the class source folder\n",
    "    image_files = os.listdir(class_source_folder)\n",
    "    random.shuffle(image_files)\n",
    "\n",
    "    # Calculate the number of images for each set based on the defined ratios\n",
    "    total_images = len(image_files)\n",
    "    train_split = int(total_images * train_ratio)\n",
    "    test_split = int(total_images * test_ratio)\n",
    "\n",
    "    # Copy image files to their respective folders for train, test, and validation\n",
    "    for i, image_file in enumerate(image_files):\n",
    "        source_path = os.path.join(class_source_folder, image_file)\n",
    "        if i < train_split:\n",
    "            destination_folder = class_train_folder\n",
    "        elif i < train_split + test_split:\n",
    "            destination_folder = class_test_folder\n",
    "        else:\n",
    "            destination_folder = class_val_folder\n",
    "\n",
    "        destination_path = os.path.join(destination_folder, image_file)\n",
    "        shutil.copyfile(source_path, destination_path)"
   ]
  },
  {
   "cell_type": "markdown",
   "metadata": {},
   "source": [
    "Loading Dataset"
   ]
  },
  {
   "cell_type": "code",
   "execution_count": 2,
   "metadata": {},
   "outputs": [
    {
     "name": "stdout",
     "output_type": "stream",
     "text": [
      "Found 5405 files belonging to 4 classes.\n",
      "Found 1450 files belonging to 4 classes.\n",
      "29\n",
      "109\n"
     ]
    },
    {
     "name": "stderr",
     "output_type": "stream",
     "text": [
      "2023-10-17 11:51:05.055860: I tensorflow/compiler/xla/stream_executor/cuda/cuda_gpu_executor.cc:981] successful NUMA node read from SysFS had negative value (-1), but there must be at least one NUMA node, so returning NUMA node zero\n",
      "2023-10-17 11:51:06.273443: I tensorflow/compiler/xla/stream_executor/cuda/cuda_gpu_executor.cc:981] successful NUMA node read from SysFS had negative value (-1), but there must be at least one NUMA node, so returning NUMA node zero\n",
      "2023-10-17 11:51:06.273780: I tensorflow/compiler/xla/stream_executor/cuda/cuda_gpu_executor.cc:981] successful NUMA node read from SysFS had negative value (-1), but there must be at least one NUMA node, so returning NUMA node zero\n",
      "2023-10-17 11:51:06.274573: I tensorflow/core/platform/cpu_feature_guard.cc:193] This TensorFlow binary is optimized with oneAPI Deep Neural Network Library (oneDNN) to use the following CPU instructions in performance-critical operations:  SSE4.1 SSE4.2 AVX AVX2 FMA\n",
      "To enable them in other operations, rebuild TensorFlow with the appropriate compiler flags.\n",
      "2023-10-17 11:51:06.275318: I tensorflow/compiler/xla/stream_executor/cuda/cuda_gpu_executor.cc:981] successful NUMA node read from SysFS had negative value (-1), but there must be at least one NUMA node, so returning NUMA node zero\n",
      "2023-10-17 11:51:06.275549: I tensorflow/compiler/xla/stream_executor/cuda/cuda_gpu_executor.cc:981] successful NUMA node read from SysFS had negative value (-1), but there must be at least one NUMA node, so returning NUMA node zero\n",
      "2023-10-17 11:51:06.275750: I tensorflow/compiler/xla/stream_executor/cuda/cuda_gpu_executor.cc:981] successful NUMA node read from SysFS had negative value (-1), but there must be at least one NUMA node, so returning NUMA node zero\n",
      "2023-10-17 11:51:06.345414: I tensorflow/compiler/xla/stream_executor/cuda/cuda_gpu_executor.cc:981] successful NUMA node read from SysFS had negative value (-1), but there must be at least one NUMA node, so returning NUMA node zero\n",
      "2023-10-17 11:51:06.345641: I tensorflow/compiler/xla/stream_executor/cuda/cuda_gpu_executor.cc:981] successful NUMA node read from SysFS had negative value (-1), but there must be at least one NUMA node, so returning NUMA node zero\n",
      "2023-10-17 11:51:06.345837: I tensorflow/compiler/xla/stream_executor/cuda/cuda_gpu_executor.cc:981] successful NUMA node read from SysFS had negative value (-1), but there must be at least one NUMA node, so returning NUMA node zero\n",
      "2023-10-17 11:51:06.345982: I tensorflow/core/common_runtime/gpu/gpu_device.cc:1613] Created device /job:localhost/replica:0/task:0/device:GPU:0 with 2187 MB memory:  -> device: 0, name: NVIDIA GeForce RTX 3050 Ti Laptop GPU, pci bus id: 0000:01:00.0, compute capability: 8.6\n"
     ]
    }
   ],
   "source": [
    "# datagen = ImageDataGenerator(rescale=1./255)  # Normalize pixel values\n",
    "\n",
    "# train_generator = datagen.flow_from_directory(\n",
    "#     'Alzheimer_s Dataset/multiClassification/train',\n",
    "#     target_size=(150, 150),\n",
    "#     batch_size=32,\n",
    "#     class_mode='categorical'\n",
    "# )\n",
    "\n",
    "# validation_generator = datagen.flow_from_directory(\n",
    "#     'Alzheimer_s Dataset/multiClassification/val',\n",
    "#     target_size=(150, 150),\n",
    "#     batch_size=32,\n",
    "#     class_mode='categorical'\n",
    "# )\n",
    "\n",
    "# test_generator = datagen.flow_from_directory(\n",
    "#     'Alzheimer_s Dataset/multiClassification/test',\n",
    "#     target_size=(150, 150),\n",
    "#     batch_size=32,\n",
    "#     class_mode='categorical'\n",
    "# )\n",
    "tf.data.experimental.enable_debug_mode()\n",
    "\n",
    "seed_train_validation = 1337 # Must be same for train_ds and val_ds\n",
    "shuffle_value = True\n",
    "validation_split = 0\n",
    "\n",
    "train_ds = tf.keras.utils.image_dataset_from_directory(\n",
    "directory ='Alzheimer_s Dataset/multiClassification/train',\n",
    "image_size = (150,150),\n",
    "validation_split = validation_split,\n",
    "label_mode='categorical',\n",
    "seed = seed_train_validation,\n",
    "color_mode = 'rgb',\n",
    "batch_size=50,\n",
    "shuffle = shuffle_value)\n",
    "\n",
    "val_ds = tf.keras.utils.image_dataset_from_directory(\n",
    "directory ='Alzheimer_s Dataset/multiClassification/test',\n",
    "image_size = (150,150),\n",
    "validation_split = validation_split,\n",
    "seed = seed_train_validation,\n",
    "batch_size=50,\n",
    "color_mode = 'rgb',\n",
    "label_mode='categorical',\n",
    "shuffle = shuffle_value)\n",
    "\n",
    "# val_batches = tf.data.experimental.cardinality(val_ds)\n",
    "# test_ds = val_ds.take((1*val_batches) // 2)\n",
    "# val_ds = val_ds.skip((1*val_batches) // 2)\n",
    "\n",
    "# print(len(test_ds))\n",
    "print(len(val_ds))\n",
    "print(len(train_ds))\n",
    "\n",
    "classes = 4"
   ]
  },
  {
   "cell_type": "markdown",
   "metadata": {},
   "source": [
    "Preparing model"
   ]
  },
  {
   "cell_type": "code",
   "execution_count": 15,
   "metadata": {},
   "outputs": [
    {
     "name": "stdout",
     "output_type": "stream",
     "text": [
      "Model: \"sequential_4\"\n",
      "_________________________________________________________________\n",
      " Layer (type)                Output Shape              Param #   \n",
      "=================================================================\n",
      " conv2d_8 (Conv2D)           (None, 150, 150, 32)      896       \n",
      "                                                                 \n",
      " max_pooling2d_8 (MaxPooling  (None, 75, 75, 32)       0         \n",
      " 2D)                                                             \n",
      "                                                                 \n",
      " conv2d_9 (Conv2D)           (None, 75, 75, 32)        9248      \n",
      "                                                                 \n",
      " max_pooling2d_9 (MaxPooling  (None, 37, 37, 32)       0         \n",
      " 2D)                                                             \n",
      "                                                                 \n",
      " flatten_4 (Flatten)         (None, 43808)             0         \n",
      "                                                                 \n",
      " dense_8 (Dense)             (None, 150)               6571350   \n",
      "                                                                 \n",
      " dense_9 (Dense)             (None, 4)                 604       \n",
      "                                                                 \n",
      "=================================================================\n",
      "Total params: 6,582,098\n",
      "Trainable params: 6,582,098\n",
      "Non-trainable params: 0\n",
      "_________________________________________________________________\n"
     ]
    }
   ],
   "source": [
    "learning_rate = 0.001\n",
    "patch_size = (3,3)\n",
    "num_hidden_units = 150\n",
    "\n",
    "\n",
    "model = Sequential()\n",
    "model.add(Input(shape=(150, 150, 3)))\n",
    "model.add(Conv2D(32, patch_size, activation='softplus',padding='same', input_shape=(150, 150, 3))) # Changed 32 to 64\n",
    "model.add(MaxPooling2D(2, 2))\n",
    "model.add(Conv2D(32, patch_size, padding='same',activation='softplus')) # Changed 32 to 64\n",
    "model.add(MaxPooling2D(2, 2))\n",
    "model.add(Flatten())\n",
    "model.add(Dense(num_hidden_units, activation='softplus'))\n",
    "model.add(Dense(classes, activation='softmax'))  # Number of classes\n",
    "\n",
    "\n",
    "# Compile and train model\n",
    "optimizer = tf.keras.optimizers.Adam()\n",
    "\n",
    "model.compile(optimizer=optimizer,\n",
    "              loss='categorical_crossentropy',\n",
    "              metrics=['accuracy'])\n",
    "\n",
    "model.summary()"
   ]
  },
  {
   "cell_type": "markdown",
   "metadata": {},
   "source": [
    "Adding Early stopping"
   ]
  },
  {
   "cell_type": "code",
   "execution_count": 9,
   "metadata": {},
   "outputs": [],
   "source": [
    "callback = tf.keras.callbacks.EarlyStopping(monitor='val_loss', patience=5, mode=\"min\")\n",
    "# logger = tf.keras.callbacks.CSVLogger('multiClassTrainLog.csv', separator=\",\", append=True)"
   ]
  },
  {
   "cell_type": "markdown",
   "metadata": {},
   "source": [
    "Training model"
   ]
  },
  {
   "cell_type": "code",
   "execution_count": 16,
   "metadata": {},
   "outputs": [
    {
     "name": "stdout",
     "output_type": "stream",
     "text": [
      "Epoch 1/100\n"
     ]
    },
    {
     "name": "stdout",
     "output_type": "stream",
     "text": [
      "109/109 [==============================] - 19s 170ms/step - loss: 34.9605 - accuracy: 0.4860 - val_loss: 1.0063 - val_accuracy: 0.5752\n",
      "Epoch 2/100\n",
      "109/109 [==============================] - 18s 160ms/step - loss: 0.7675 - accuracy: 0.6574 - val_loss: 0.6034 - val_accuracy: 0.7338\n",
      "Epoch 3/100\n",
      "109/109 [==============================] - 17s 151ms/step - loss: 0.4110 - accuracy: 0.8294 - val_loss: 0.3123 - val_accuracy: 0.8917\n",
      "Epoch 4/100\n",
      "109/109 [==============================] - 17s 151ms/step - loss: 0.2835 - accuracy: 0.8875 - val_loss: 0.1929 - val_accuracy: 0.9366\n",
      "Epoch 5/100\n",
      "109/109 [==============================] - 17s 152ms/step - loss: 0.1386 - accuracy: 0.9502 - val_loss: 0.1305 - val_accuracy: 0.9552\n",
      "Epoch 6/100\n",
      "109/109 [==============================] - 17s 151ms/step - loss: 0.0593 - accuracy: 0.9824 - val_loss: 0.0913 - val_accuracy: 0.9697\n",
      "Epoch 7/100\n",
      "109/109 [==============================] - 17s 152ms/step - loss: 0.0329 - accuracy: 0.9913 - val_loss: 0.0982 - val_accuracy: 0.9669\n",
      "Epoch 8/100\n",
      "109/109 [==============================] - 17s 151ms/step - loss: 0.0221 - accuracy: 0.9959 - val_loss: 0.0652 - val_accuracy: 0.9738\n",
      "Epoch 9/100\n",
      "109/109 [==============================] - 17s 151ms/step - loss: 0.0088 - accuracy: 0.9994 - val_loss: 0.0493 - val_accuracy: 0.9834\n",
      "Epoch 10/100\n",
      "109/109 [==============================] - 17s 152ms/step - loss: 0.0033 - accuracy: 1.0000 - val_loss: 0.0548 - val_accuracy: 0.9779\n",
      "Epoch 11/100\n",
      "109/109 [==============================] - 17s 153ms/step - loss: 0.0016 - accuracy: 1.0000 - val_loss: 0.0476 - val_accuracy: 0.9841\n",
      "Epoch 12/100\n",
      "109/109 [==============================] - 17s 152ms/step - loss: 0.0010 - accuracy: 1.0000 - val_loss: 0.0478 - val_accuracy: 0.9821\n",
      "Epoch 13/100\n",
      "109/109 [==============================] - 17s 152ms/step - loss: 7.8223e-04 - accuracy: 1.0000 - val_loss: 0.0428 - val_accuracy: 0.9841\n",
      "Epoch 14/100\n",
      "109/109 [==============================] - 17s 152ms/step - loss: 6.6753e-04 - accuracy: 1.0000 - val_loss: 0.0419 - val_accuracy: 0.9834\n",
      "Epoch 15/100\n",
      "109/109 [==============================] - 17s 153ms/step - loss: 5.3854e-04 - accuracy: 1.0000 - val_loss: 0.0402 - val_accuracy: 0.9855\n",
      "Epoch 16/100\n",
      "109/109 [==============================] - 17s 153ms/step - loss: 4.4796e-04 - accuracy: 1.0000 - val_loss: 0.0396 - val_accuracy: 0.9855\n",
      "Epoch 17/100\n",
      "109/109 [==============================] - 17s 153ms/step - loss: 3.9461e-04 - accuracy: 1.0000 - val_loss: 0.0427 - val_accuracy: 0.9834\n",
      "Epoch 18/100\n",
      "109/109 [==============================] - 17s 152ms/step - loss: 3.2928e-04 - accuracy: 1.0000 - val_loss: 0.0400 - val_accuracy: 0.9841\n",
      "Epoch 19/100\n",
      "109/109 [==============================] - 17s 153ms/step - loss: 2.8235e-04 - accuracy: 1.0000 - val_loss: 0.0380 - val_accuracy: 0.9848\n",
      "Epoch 20/100\n",
      "109/109 [==============================] - 17s 152ms/step - loss: 2.4826e-04 - accuracy: 1.0000 - val_loss: 0.0393 - val_accuracy: 0.9848\n",
      "Epoch 21/100\n",
      "109/109 [==============================] - 17s 152ms/step - loss: 2.1757e-04 - accuracy: 1.0000 - val_loss: 0.0393 - val_accuracy: 0.9841\n",
      "Epoch 22/100\n",
      "109/109 [==============================] - 17s 152ms/step - loss: 1.8846e-04 - accuracy: 1.0000 - val_loss: 0.0408 - val_accuracy: 0.9841\n",
      "Epoch 23/100\n",
      "109/109 [==============================] - 17s 153ms/step - loss: 1.6847e-04 - accuracy: 1.0000 - val_loss: 0.0399 - val_accuracy: 0.9841\n",
      "Epoch 24/100\n",
      "109/109 [==============================] - 17s 151ms/step - loss: 1.4734e-04 - accuracy: 1.0000 - val_loss: 0.0388 - val_accuracy: 0.9848\n"
     ]
    }
   ],
   "source": [
    "tf.config.run_functions_eagerly(True)\n",
    "history = model.fit(train_ds, epochs=100, validation_data=val_ds,batch_size=32,callbacks=[callback])"
   ]
  },
  {
   "cell_type": "markdown",
   "metadata": {},
   "source": [
    "Calculating accuracy"
   ]
  },
  {
   "cell_type": "code",
   "execution_count": 17,
   "metadata": {},
   "outputs": [
    {
     "name": "stdout",
     "output_type": "stream",
     "text": [
      "29/29 [==============================] - 3s 73ms/step - loss: 0.0388 - accuracy: 0.9848\n",
      "Test Accuracy: 0.9848275780677795\n"
     ]
    }
   ],
   "source": [
    "accuracy = model.evaluate(val_ds)\n",
    "print(\"Test Accuracy:\", accuracy[1])\n",
    "# Saving it\n",
    "with open('./98.5accModelAccuracy.pkl', 'wb') as file_pi:\n",
    "    pickle.dump(accuracy, file_pi)"
   ]
  },
  {
   "cell_type": "markdown",
   "metadata": {},
   "source": [
    "Saving history"
   ]
  },
  {
   "cell_type": "code",
   "execution_count": 90,
   "metadata": {},
   "outputs": [],
   "source": [
    "with open('./98.5accModelHistory.pkl', 'wb') as file_pi:\n",
    "    pickle.dump(history.history, file_pi)"
   ]
  },
  {
   "cell_type": "markdown",
   "metadata": {},
   "source": [
    "Plotting model accuracy"
   ]
  },
  {
   "cell_type": "code",
   "execution_count": 6,
   "metadata": {},
   "outputs": [
    {
     "data": {
      "image/png": "[encoded data removed]",
      "text/plain": [
       "<Figure size 640x480 with 1 Axes>"
      ]
     },
     "metadata": {},
     "output_type": "display_data"
    }
   ],
   "source": [
    "import pickle\n",
    "\n",
    "\n",
    "with open('Results/98.5accModelHistory.pkl', 'rb') as f:\n",
    "    history = pickle.load(f)\n",
    "\n",
    "\n",
    "plt.plot(history['accuracy'])\n",
    "plt.plot(history['val_accuracy'])\n",
    "plt.title('model accuracy')\n",
    "plt.ylabel('accuracy')\n",
    "plt.xlabel('epoch')\n",
    "plt.legend(['train', 'val'], loc='upper left')\n",
    "plt.show()"
   ]
  },
  {
   "cell_type": "markdown",
   "metadata": {},
   "source": [
    "Plotting loss function"
   ]
  },
  {
   "cell_type": "code",
   "execution_count": 22,
   "metadata": {},
   "outputs": [
    {
     "data": {
      "image/png": "[encoded data removed]",
      "text/plain": [
       "<Figure size 640x480 with 1 Axes>"
      ]
     },
     "metadata": {},
     "output_type": "display_data"
    }
   ],
   "source": [
    "plt.plot(history['loss'][1:])\n",
    "plt.plot(history['val_loss'][1:])\n",
    "plt.title('model loss')\n",
    "plt.ylabel('loss')\n",
    "plt.xlabel('epoch')\n",
    "plt.legend(['train', 'val'], loc='upper left')\n",
    "plt.show()"
   ]
  },
  {
   "cell_type": "markdown",
   "metadata": {},
   "source": [
    "Making confusion matrix"
   ]
  },
  {
   "cell_type": "code",
   "execution_count": 27,
   "metadata": {},
   "outputs": [
    {
     "ename": "TypeError",
     "evalue": "compute_metrics() missing 4 required positional arguments: 'x', 'y', 'y_pred', and 'sample_weight'",
     "output_type": "error",
     "traceback": [
      "\u001b[0;31m---------------------------------------------------------------------------\u001b[0m",
      "\u001b[0;31mTypeError\u001b[0m                                 Traceback (most recent call last)",
      "\u001b[1;32m/home/yodenharsh/Documents/Research/Mini Project - I/Paper to Replicate/main.ipynb Cell 46\u001b[0m line \u001b[0;36m3\n\u001b[1;32m      <a href='vscode-notebook-cell:/home/yodenharsh/Documents/Research/Mini%20Project%20-%20I/Paper%20to%20Replicate/main.ipynb#X63sZmlsZQ%3D%3D?line=0'>1</a>\u001b[0m \u001b[39mimport\u001b[39;00m \u001b[39mmath\u001b[39;00m\n\u001b[1;32m      <a href='vscode-notebook-cell:/home/yodenharsh/Documents/Research/Mini%20Project%20-%20I/Paper%20to%20Replicate/main.ipynb#X63sZmlsZQ%3D%3D?line=1'>2</a>\u001b[0m \u001b[39mfrom\u001b[39;00m \u001b[39msklearn\u001b[39;00m \u001b[39mimport\u001b[39;00m metrics\n\u001b[0;32m----> <a href='vscode-notebook-cell:/home/yodenharsh/Documents/Research/Mini%20Project%20-%20I/Paper%20to%20Replicate/main.ipynb#X63sZmlsZQ%3D%3D?line=2'>3</a>\u001b[0m model\u001b[39m.\u001b[39;49mcompute_metrics()\n\u001b[1;32m      <a href='vscode-notebook-cell:/home/yodenharsh/Documents/Research/Mini%20Project%20-%20I/Paper%20to%20Replicate/main.ipynb#X63sZmlsZQ%3D%3D?line=4'>5</a>\u001b[0m test_steps_per_epoch \u001b[39m=\u001b[39m math\u001b[39m.\u001b[39mceil(test_generator\u001b[39m.\u001b[39msamples \u001b[39m/\u001b[39m test_generator\u001b[39m.\u001b[39mbatch_size)\n\u001b[1;32m      <a href='vscode-notebook-cell:/home/yodenharsh/Documents/Research/Mini%20Project%20-%20I/Paper%20to%20Replicate/main.ipynb#X63sZmlsZQ%3D%3D?line=5'>6</a>\u001b[0m predictions \u001b[39m=\u001b[39m model\u001b[39m.\u001b[39mpredict(test_generator, steps\u001b[39m=\u001b[39mtest_steps_per_epoch)\n",
      "\u001b[0;31mTypeError\u001b[0m: compute_metrics() missing 4 required positional arguments: 'x', 'y', 'y_pred', and 'sample_weight'"
     ]
    }
   ],
   "source": [
    "import math\n",
    "from sklearn import metrics\n",
    "model.compute_metrics()\n",
    "\n",
    "test_steps_per_epoch = math.ceil(test_generator.samples / test_generator.batch_size)\n",
    "predictions = model.predict(test_generator, steps=test_steps_per_epoch)\n",
    "predicted_classes = np.argmax(predictions, axis=1)\n",
    "\n",
    "true_classes = test_generator.classes\n",
    "class_labels = list(test_generator.class_indices.keys())   \n",
    "\n",
    "report = metrics.classification_report(true_classes, predicted_classes, target_names=class_labels)\n",
    "print(report)    \n"
   ]
  },
  {
   "cell_type": "markdown",
   "metadata": {},
   "source": [
    "Predicting single image"
   ]
  },
  {
   "cell_type": "code",
   "execution_count": 25,
   "metadata": {},
   "outputs": [
    {
     "name": "stdout",
     "output_type": "stream",
     "text": [
      "1/1 [==============================] - 0s 243ms/step\n"
     ]
    },
    {
     "data": {
      "text/plain": [
       "array([1])"
      ]
     },
     "execution_count": 25,
     "metadata": {},
     "output_type": "execute_result"
    }
   ],
   "source": [
    "image_path = \"Alzheimer_s Dataset/multiClassification/test/VeryMildDemented/file_2.jpg\"\n",
    "\n",
    "image = tf.keras.preprocessing.image.load_img(image_path, target_size=(150, 150))\n",
    "input_arr = tf.keras.preprocessing.image.img_to_array(image)\n",
    "input_arr = np.array([input_arr])  # Convert single image to a batch.\n",
    "\n",
    "input_arr = input_arr.astype('float32') / 255.  # This is VERY important\n",
    "predictions = model.predict(input_arr)\n",
    "\n",
    "predicted_class = np.argmax(predictions, axis=-1)\n",
    "predicted_class"
   ]
  },
  {
   "cell_type": "markdown",
   "metadata": {},
   "source": [
    "Exporting model"
   ]
  },
  {
   "cell_type": "code",
   "execution_count": 91,
   "metadata": {},
   "outputs": [],
   "source": [
    "model.save('98.5accMulti.keras')"
   ]
  }
 ],
 "metadata": {
  "kernelspec": {
   "display_name": "mini_proj_aditya_stuff",
   "language": "python",
   "name": "python3"
  },
  "language_info": {
   "codemirror_mode": {
    "name": "ipython",
    "version": 3
   },
   "file_extension": ".py",
   "mimetype": "text/x-python",
   "name": "python",
   "nbconvert_exporter": "python",
   "pygments_lexer": "ipython3",
   "version": "3.9.18"
  },
  "orig_nbformat": 4
 },
 "nbformat": 4,
 "nbformat_minor": 2
}
