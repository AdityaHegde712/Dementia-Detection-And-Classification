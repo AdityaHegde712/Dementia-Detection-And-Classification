{
 "cells": [
  {
   "cell_type": "code",
   "execution_count": 1,
   "metadata": {},
   "outputs": [],
   "source": [
    "import os\n",
    "import shutil"
   ]
  },
  {
   "cell_type": "markdown",
   "metadata": {},
   "source": [
    "Sorting results"
   ]
  },
  {
   "cell_type": "code",
   "execution_count": 5,
   "metadata": {},
   "outputs": [],
   "source": [
    "# os.chdir('Results')\n",
    "\n",
    "os.mkdir('CSVs')\n",
    "os.mkdir('PNGs')\n",
    "\n",
    "for file in os.listdir():\n",
    "    if file.endswith('.csv'):\n",
    "        shutil.move(file, 'CSVs')\n",
    "    elif file.endswith('.png'):\n",
    "        shutil.move(file, 'PNGs')"
   ]
  },
  {
   "cell_type": "markdown",
   "metadata": {},
   "source": [
    "Creating train test val directories with sub-classes"
   ]
  },
  {
   "cell_type": "code",
   "execution_count": 9,
   "metadata": {},
   "outputs": [],
   "source": [
    "os.chdir('../NewBinary_TTV/')\n",
    "\n",
    "types = ['train', 'test', 'val']\n",
    "classes = ['Demented', 'NonDemented']\n",
    "\n",
    "for t in types:\n",
    "    for c in classes:\n",
    "        os.mkdir(f'{t}/{c}')\n"
   ]
  },
  {
   "cell_type": "markdown",
   "metadata": {},
   "source": [
    "Convert multiclass to binary class"
   ]
  },
  {
   "cell_type": "code",
   "execution_count": null,
   "metadata": {},
   "outputs": [],
   "source": [
    "import os\n",
    "import shutil\n",
    "\n",
    "# Define the source and destination directories\n",
    "source_dir = \"Multiclass_Data\"\n",
    "destination_dir = \"Binary_Data\"\n",
    "\n",
    "# Map the source subfolder names to their corresponding destination subfolder names\n",
    "subfolder_mapping = {\n",
    "    \"Mild dementia\": \"Demented\",\n",
    "    \"Moderate Dementia\": \"Demented\",\n",
    "    \"Severe Dementia\": \"Demented\",\n",
    "    \"Non Dementia\": \"NonDemented\"\n",
    "}\n",
    "\n",
    "# Iterate through the source subfolders in Multiclass_Data\n",
    "for source_subfolder, destination_subfolder in subfolder_mapping.items():\n",
    "    source_subfolder_path = os.path.join(source_dir, source_subfolder)\n",
    "    destination_subfolder_path = os.path.join(destination_dir, destination_subfolder)\n",
    "\n",
    "    # Create the destination subfolder if it doesn't exist\n",
    "    os.makedirs(destination_subfolder_path, exist_ok=True)\n",
    "\n",
    "    # Move files from source to destination while renaming them\n",
    "    for root, _, files in os.walk(source_subfolder_path):\n",
    "        for file in files:\n",
    "            source_file_path = os.path.join(root, file)\n",
    "            destination_file_path = os.path.join(destination_subfolder_path, file)\n",
    "\n",
    "            # # Check if the file already exists in the destination\n",
    "            # if os.path.exists(destination_file_path):\n",
    "            #     # If it does, add a prefix to avoid overwriting\n",
    "            #     filename, file_extension = os.path.splitext(file)\n",
    "            #     counter = 1\n",
    "            #     while os.path.exists(destination_file_path):\n",
    "            #         new_filename = f\"{filename}_{counter}{file_extension}\"\n",
    "            #         destination_file_path = os.path.join(destination_subfolder_path, new_filename)\n",
    "            #         counter += 1\n",
    "\n",
    "            shutil.copy(source_file_path, destination_file_path)\n",
    "    print(f\"Finished {source_subfolder_path}\")\n",
    "\n",
    "print(\"File transfer complete.\")\n"
   ]
  },
  {
   "cell_type": "markdown",
   "metadata": {},
   "source": [
    "File renaming"
   ]
  },
  {
   "cell_type": "code",
   "execution_count": null,
   "metadata": {},
   "outputs": [],
   "source": [
    "import os\n",
    "\n",
    "# Define the root directory where your folders are located\n",
    "root_directory = \"Image Processing v2\\Multiclass_Data\"\n",
    "\n",
    "# Initialize a counter\n",
    "counter = 1\n",
    "\n",
    "# Iterate through the subdirectories within the root directory\n",
    "for subdirectory in os.listdir(root_directory):\n",
    "    subdirectory_path = os.path.join(root_directory, subdirectory)\n",
    "\n",
    "    # Check if the item in the root directory is a directory\n",
    "    if os.path.isdir(subdirectory_path):\n",
    "        # Get a list of image files in the subdirectory\n",
    "        image_files = [f for f in os.listdir(subdirectory_path) if os.path.isfile(os.path.join(subdirectory_path, f))]\n",
    "\n",
    "        # Iterate through the image files and rename them\n",
    "        for filename in image_files:\n",
    "            # Get the file extension\n",
    "            file_extension = os.path.splitext(filename)[-1]\n",
    "\n",
    "            # Define the new filename\n",
    "            new_filename = \"a\" + str(counter) + file_extension\n",
    "\n",
    "            # Build the full paths to the original and new files\n",
    "            original_file_path = os.path.join(subdirectory_path, filename)\n",
    "            new_file_path = os.path.join(subdirectory_path, new_filename)\n",
    "\n",
    "            # Rename the file\n",
    "            os.rename(original_file_path, new_file_path)\n",
    "\n",
    "            # Increment the counter for the next file\n",
    "            counter += 1\n",
    "    print(f\"Completed {subdirectory}\")\n",
    "\n",
    "print(\"File renaming complete.\")\n"
   ]
  }
 ],
 "metadata": {
  "kernelspec": {
   "display_name": "DementiaTensorflow",
   "language": "python",
   "name": "python3"
  },
  "language_info": {
   "codemirror_mode": {
    "name": "ipython",
    "version": 3
   },
   "file_extension": ".py",
   "mimetype": "text/x-python",
   "name": "python",
   "nbconvert_exporter": "python",
   "pygments_lexer": "ipython3",
   "version": "3.10.13"
  }
 },
 "nbformat": 4,
 "nbformat_minor": 2
}
