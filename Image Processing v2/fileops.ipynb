{
 "cells": [
  {
   "cell_type": "code",
   "execution_count": 4,
   "metadata": {},
   "outputs": [],
   "source": [
    "import os\n",
    "import shutil\n",
    "import random"
   ]
  },
  {
   "cell_type": "markdown",
   "metadata": {},
   "source": [
    "Generate target folder structure"
   ]
  },
  {
   "cell_type": "code",
   "execution_count": 2,
   "metadata": {},
   "outputs": [],
   "source": [
    "def create_folder_structure(base_folder):\n",
    "    # Define folder names\n",
    "    folders = ['train', 'test', 'val']\n",
    "    subfolders = ['Demented', 'NonDemented']\n",
    "\n",
    "    # Create base folder if it doesn't exist\n",
    "    if not os.path.exists(base_folder):\n",
    "        os.makedirs(base_folder, exist_ok=True)\n",
    "\n",
    "    # Create subfolders\n",
    "    for folder in folders:\n",
    "        current_folder = os.path.join(base_folder, folder)\n",
    "        if not os.path.exists(current_folder):\n",
    "            os.makedirs(current_folder, exist_ok=True)\n",
    "\n",
    "        for subfolder in subfolders:\n",
    "            subfolder_path = os.path.join(current_folder, subfolder)\n",
    "            if not os.path.exists(subfolder_path):\n",
    "                os.makedirs(subfolder_path, exist_ok=True)"
   ]
  },
  {
   "cell_type": "code",
   "execution_count": 5,
   "metadata": {},
   "outputs": [],
   "source": [
    "create_folder_structure(base_folder='Binary_TTV_over_under_all')"
   ]
  },
  {
   "cell_type": "markdown",
   "metadata": {},
   "source": [
    "Sorting results"
   ]
  },
  {
   "cell_type": "code",
   "execution_count": 5,
   "metadata": {},
   "outputs": [],
   "source": [
    "# os.chdir('Results')\n",
    "\n",
    "os.mkdir('CSVs')\n",
    "os.mkdir('PNGs')\n",
    "\n",
    "for file in os.listdir():\n",
    "    if file.endswith('.csv'):\n",
    "        shutil.move(file, 'CSVs')\n",
    "    elif file.endswith('.png'):\n",
    "        shutil.move(file, 'PNGs')"
   ]
  },
  {
   "cell_type": "markdown",
   "metadata": {},
   "source": [
    "Creating train test val directories with sub-classes"
   ]
  },
  {
   "cell_type": "code",
   "execution_count": 9,
   "metadata": {},
   "outputs": [],
   "source": [
    "os.chdir('../NewBinary_TTV/')\n",
    "\n",
    "types = ['train', 'test', 'val']\n",
    "classes = ['Demented', 'NonDemented']\n",
    "\n",
    "for t in types:\n",
    "    for c in classes:\n",
    "        os.mkdir(f'{t}/{c}')\n"
   ]
  },
  {
   "cell_type": "markdown",
   "metadata": {},
   "source": [
    "Convert multiclass to binary class"
   ]
  },
  {
   "cell_type": "code",
   "execution_count": null,
   "metadata": {},
   "outputs": [],
   "source": [
    "import os\n",
    "import shutil\n",
    "\n",
    "# Define the source and destination directories\n",
    "source_dir = \"Multiclass_Data\"\n",
    "destination_dir = \"Binary_Data\"\n",
    "\n",
    "# Map the source subfolder names to their corresponding destination subfolder names\n",
    "subfolder_mapping = {\n",
    "    \"Mild dementia\": \"Demented\",\n",
    "    \"Moderate Dementia\": \"Demented\",\n",
    "    \"Severe Dementia\": \"Demented\",\n",
    "    \"Non Dementia\": \"NonDemented\"\n",
    "}\n",
    "\n",
    "# Iterate through the source subfolders in Multiclass_Data\n",
    "for source_subfolder, destination_subfolder in subfolder_mapping.items():\n",
    "    source_subfolder_path = os.path.join(source_dir, source_subfolder)\n",
    "    destination_subfolder_path = os.path.join(destination_dir, destination_subfolder)\n",
    "\n",
    "    # Create the destination subfolder if it doesn't exist\n",
    "    os.makedirs(destination_subfolder_path, exist_ok=True)\n",
    "\n",
    "    # Move files from source to destination while renaming them\n",
    "    for root, _, files in os.walk(source_subfolder_path):\n",
    "        for file in files:\n",
    "            source_file_path = os.path.join(root, file)\n",
    "            destination_file_path = os.path.join(destination_subfolder_path, file)\n",
    "\n",
    "            # # Check if the file already exists in the destination\n",
    "            # if os.path.exists(destination_file_path):\n",
    "            #     # If it does, add a prefix to avoid overwriting\n",
    "            #     filename, file_extension = os.path.splitext(file)\n",
    "            #     counter = 1\n",
    "            #     while os.path.exists(destination_file_path):\n",
    "            #         new_filename = f\"{filename}_{counter}{file_extension}\"\n",
    "            #         destination_file_path = os.path.join(destination_subfolder_path, new_filename)\n",
    "            #         counter += 1\n",
    "\n",
    "            shutil.copy(source_file_path, destination_file_path)\n",
    "    print(f\"Finished {source_subfolder_path}\")\n",
    "\n",
    "print(\"File transfer complete.\")\n"
   ]
  },
  {
   "cell_type": "markdown",
   "metadata": {},
   "source": [
    "File renaming"
   ]
  },
  {
   "cell_type": "code",
   "execution_count": null,
   "metadata": {},
   "outputs": [],
   "source": [
    "import os\n",
    "\n",
    "# Define the root directory where your folders are located\n",
    "root_directory = \"Image Processing v2\\Multiclass_Data\"\n",
    "\n",
    "# Initialize a counter\n",
    "counter = 1\n",
    "\n",
    "# Iterate through the subdirectories within the root directory\n",
    "for subdirectory in os.listdir(root_directory):\n",
    "    subdirectory_path = os.path.join(root_directory, subdirectory)\n",
    "\n",
    "    # Check if the item in the root directory is a directory\n",
    "    if os.path.isdir(subdirectory_path):\n",
    "        # Get a list of image files in the subdirectory\n",
    "        image_files = [f for f in os.listdir(subdirectory_path) if os.path.isfile(os.path.join(subdirectory_path, f))]\n",
    "\n",
    "        # Iterate through the image files and rename them\n",
    "        for filename in image_files:\n",
    "            # Get the file extension\n",
    "            file_extension = os.path.splitext(filename)[-1]\n",
    "\n",
    "            # Define the new filename\n",
    "            new_filename = \"a\" + str(counter) + file_extension\n",
    "\n",
    "            # Build the full paths to the original and new files\n",
    "            original_file_path = os.path.join(subdirectory_path, filename)\n",
    "            new_file_path = os.path.join(subdirectory_path, new_filename)\n",
    "\n",
    "            # Rename the file\n",
    "            os.rename(original_file_path, new_file_path)\n",
    "\n",
    "            # Increment the counter for the next file\n",
    "            counter += 1\n",
    "    print(f\"Completed {subdirectory}\")\n",
    "\n",
    "print(\"File renaming complete.\")\n"
   ]
  },
  {
   "cell_type": "markdown",
   "metadata": {},
   "source": [
    "Train test split from Binary_Data into NewBinary_TTV"
   ]
  },
  {
   "cell_type": "code",
   "execution_count": 13,
   "metadata": {},
   "outputs": [
    {
     "data": {
      "text/plain": [
       "'c:\\\\Users\\\\hifia\\\\Projects\\\\Dementia Detection and Classification\\\\Image Processing v2'"
      ]
     },
     "execution_count": 13,
     "metadata": {},
     "output_type": "execute_result"
    }
   ],
   "source": [
    "os.getcwd()"
   ]
  },
  {
   "cell_type": "markdown",
   "metadata": {},
   "source": [
    "Train Test Validation creation"
   ]
  },
  {
   "cell_type": "code",
   "execution_count": 6,
   "metadata": {},
   "outputs": [
    {
     "name": "stdout",
     "output_type": "stream",
     "text": [
      "Existing classes: ['Demented', 'NonDemented']\n",
      "\n",
      "Train ratio: 0.7\n",
      "Test ratio: 0.15\n",
      "Validation ratio: 0.15\n",
      "\n",
      "Train folder contents: ['Demented', 'NonDemented']\n",
      "Test folder contents: ['Demented', 'NonDemented']\n",
      "Validation folder contents: ['Demented', 'NonDemented']\n",
      "\n",
      "Processing Demented class...\n",
      "Number of images: 19215\n",
      "\n",
      "Processing NonDemented class...\n",
      "Number of images: 67222\n",
      "\n"
     ]
    }
   ],
   "source": [
    "import os, shutil, random\n",
    "\n",
    "# Define the source folder containing subfolders for each class\n",
    "source_folder = 'Binary_Data_original'\n",
    "train_folder = 'Binary_TTV_over_under_all\\\\train'\n",
    "test_folder = 'Binary_TTV_over_under_all\\\\test'\n",
    "val_folder = 'Binary_TTV_over_under_all\\\\val'\n",
    "\n",
    "# Define the ratios for train, test, and validation sets\n",
    "train_ratio = 0.7\n",
    "test_ratio = 0.15\n",
    "val_ratio = 0.15\n",
    "\n",
    "# Create destination folders if they don't exist\n",
    "os.makedirs(train_folder, exist_ok=True)\n",
    "os.makedirs(test_folder, exist_ok=True)\n",
    "os.makedirs(val_folder, exist_ok=True)\n",
    "\n",
    "# List subfolders (classes) in the source folder\n",
    "classes = os.listdir(source_folder)\n",
    "print(f\"\"\"Existing classes: {classes}\\n\n",
    "Train ratio: {train_ratio}\n",
    "Test ratio: {test_ratio}\n",
    "Validation ratio: {val_ratio}\\n\n",
    "Train folder contents: {os.listdir(train_folder)}\n",
    "Test folder contents: {os.listdir(test_folder)}\n",
    "Validation folder contents: {os.listdir(val_folder)}\n",
    "\"\"\")\n",
    "\n",
    "# Loop through each class\n",
    "for class_name in classes:\n",
    "    class_source_folder = os.path.join(source_folder, class_name)\n",
    "    class_train_folder = os.path.join(train_folder, class_name)\n",
    "    class_test_folder = os.path.join(test_folder, class_name)\n",
    "    class_val_folder = os.path.join(val_folder, class_name)\n",
    "\n",
    "    # Create subdirectories in train, test, and val folders\n",
    "    os.makedirs(class_train_folder, exist_ok=True)\n",
    "    os.makedirs(class_test_folder, exist_ok=True)\n",
    "    os.makedirs(class_val_folder, exist_ok=True)\n",
    "\n",
    "    print(f\"Processing {class_name} class...\")\n",
    "\n",
    "    # List image files in the class source folder\n",
    "    image_files = os.listdir(class_source_folder)\n",
    "    random.shuffle(image_files)\n",
    "    print(f\"Number of images: {len(image_files)}\\n\")\n",
    "\n",
    "    # Calculate the number of images for each set based on the defined ratios\n",
    "    total_images = len(image_files)\n",
    "    train_split = int(total_images * train_ratio)\n",
    "    test_split = int(total_images * test_ratio)\n",
    "\n",
    "    # Copy image files to their respective folders for train, test, and validation\n",
    "    for i, image_file in enumerate(image_files):\n",
    "        source_path = os.path.join(class_source_folder, image_file)\n",
    "        if i < train_split:\n",
    "            destination_folder = class_train_folder\n",
    "        elif i < train_split + test_split:\n",
    "            destination_folder = class_test_folder\n",
    "        else:\n",
    "            destination_folder = class_val_folder\n",
    "\n",
    "        destination_path = os.path.join(destination_folder, image_file)\n",
    "        shutil.copyfile(source_path, destination_path)"
   ]
  }
 ],
 "metadata": {
  "kernelspec": {
   "display_name": "DementiaTensorflow",
   "language": "python",
   "name": "python3"
  },
  "language_info": {
   "codemirror_mode": {
    "name": "ipython",
    "version": 3
   },
   "file_extension": ".py",
   "mimetype": "text/x-python",
   "name": "python",
   "nbconvert_exporter": "python",
   "pygments_lexer": "ipython3",
   "version": "3.10.13"
  }
 },
 "nbformat": 4,
 "nbformat_minor": 2
}
